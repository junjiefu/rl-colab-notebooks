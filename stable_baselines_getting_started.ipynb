{
  "cells": [
    {
      "cell_type": "markdown",
      "metadata": {
        "colab_type": "text",
        "id": "view-in-github"
      },
      "source": [
        "<a href=\"https://colab.research.google.com/github/Stable-Baselines-Team/rl-colab-notebooks/blob/sb3/stable_baselines_getting_started.ipynb\" target=\"_parent\"><img src=\"https://colab.research.google.com/assets/colab-badge.svg\" alt=\"Open In Colab\"/></a>"
      ]
    },
    {
      "cell_type": "markdown",
      "metadata": {
        "colab_type": "text",
        "id": "hyyN-2qyK_T2"
      },
      "source": [
        "# Stable Baselines3 Tutorial - Getting Started\n",
        "\n",
        "Github repo: https://github.com/araffin/rl-tutorial-jnrr19\n",
        "\n",
        "Stable-Baselines3: https://github.com/DLR-RM/stable-baselines3\n",
        "\n",
        "Documentation: https://stable-baselines.readthedocs.io/en/master/\n",
        "\n",
        "RL Baselines3 zoo: https://github.com/DLR-RM/rl-baselines3-zoo\n",
        "\n",
        "\n",
        "[RL Baselines3 Zoo](https://github.com/DLR-RM/rl-baselines3-zoo) is a collection of pre-trained Reinforcement Learning agents using Stable-Baselines3.\n",
        "\n",
        "It also provides basic scripts for training, evaluating agents, tuning hyperparameters and recording videos.\n",
        "\n",
        "\n",
        "## Introduction\n",
        "\n",
        "In this notebook, you will learn the basics for using stable baselines3 library: how to create a RL model, train it and evaluate it. Because all algorithms share the same interface, we will see how simple it is to switch from one algorithm to another.\n",
        "\n",
        "\n",
        "## Install Dependencies and Stable Baselines3 Using Pip\n",
        "\n",
        "List of full dependencies can be found in the [README](https://github.com/DLR-RM/stable-baselines3).\n",
        "\n",
        "\n",
        "```\n",
        "pip install stable-baselines3[extra]\n",
        "```"
      ]
    },
    {
      "cell_type": "code",
      "execution_count": null,
      "metadata": {
        "colab": {},
        "colab_type": "code",
        "id": "gWskDE2c9WoN"
      },
      "outputs": [],
      "source": [
        "#!apt-get install ffmpeg freeglut3-dev xvfb  # For visualization\n",
        "#!pip install stable-baselines3[extra]"
      ]
    },
    {
      "cell_type": "code",
      "execution_count": 1,
      "metadata": {
        "colab": {},
        "colab_type": "code",
        "id": "U29X1-B-AIKE"
      },
      "outputs": [
        {
          "name": "stderr",
          "output_type": "stream",
          "text": [
            "/home/gitpod/.pyenv/versions/3.8.13/lib/python3.8/site-packages/tqdm/auto.py:22: TqdmWarning: IProgress not found. Please update jupyter and ipywidgets. See https://ipywidgets.readthedocs.io/en/stable/user_install.html\n",
            "  from .autonotebook import tqdm as notebook_tqdm\n"
          ]
        },
        {
          "data": {
            "text/plain": [
              "'1.6.1'"
            ]
          },
          "execution_count": 1,
          "metadata": {},
          "output_type": "execute_result"
        }
      ],
      "source": [
        "import stable_baselines3\n",
        "stable_baselines3.__version__"
      ]
    },
    {
      "cell_type": "markdown",
      "metadata": {
        "colab_type": "text",
        "id": "FtY8FhliLsGm"
      },
      "source": [
        "## Imports"
      ]
    },
    {
      "cell_type": "markdown",
      "metadata": {
        "colab_type": "text",
        "id": "gcX8hEcaUpR0"
      },
      "source": [
        "Stable-Baselines works on environments that follow the [gym interface](https://stable-baselines.readthedocs.io/en/master/guide/custom_env.html).\n",
        "You can find a list of available environment [here](https://gym.openai.com/envs/#classic_control).\n",
        "\n",
        "It is also recommended to check the [source code](https://github.com/openai/gym) to learn more about the observation and action space of each env, as gym does not have a proper documentation.\n",
        "Not all algorithms can work with all action spaces, you can find more in this [recap table](https://stable-baselines.readthedocs.io/en/master/guide/algos.html)"
      ]
    },
    {
      "cell_type": "code",
      "execution_count": 2,
      "metadata": {
        "colab": {},
        "colab_type": "code",
        "id": "BIedd7Pz9sOs"
      },
      "outputs": [],
      "source": [
        "import gym\n",
        "import numpy as np"
      ]
    },
    {
      "cell_type": "markdown",
      "metadata": {
        "colab_type": "text",
        "id": "Ae32CtgzTG3R"
      },
      "source": [
        "The first thing you need to import is the RL model, check the documentation to know what you can use on which problem"
      ]
    },
    {
      "cell_type": "code",
      "execution_count": 3,
      "metadata": {
        "colab": {},
        "colab_type": "code",
        "id": "R7tKaBFrTR0a"
      },
      "outputs": [],
      "source": [
        "from stable_baselines3 import PPO"
      ]
    },
    {
      "cell_type": "markdown",
      "metadata": {
        "colab_type": "text",
        "id": "-0_8OQbOTTNT"
      },
      "source": [
        "The next thing you need to import is the policy class that will be used to create the networks (for the policy/value functions).\n",
        "This step is optional as you can directly use strings in the constructor: \n",
        "\n",
        "```PPO('MlpPolicy', env)``` instead of ```PPO(MlpPolicy, env)```\n",
        "\n",
        "Note that some algorithms like `SAC` have their own `MlpPolicy`, that's why using string for the policy is the recommened option."
      ]
    },
    {
      "cell_type": "code",
      "execution_count": 4,
      "metadata": {
        "colab": {},
        "colab_type": "code",
        "id": "ROUJr675TT01"
      },
      "outputs": [],
      "source": [
        "from stable_baselines3.ppo import MlpPolicy"
      ]
    },
    {
      "cell_type": "markdown",
      "metadata": {
        "colab_type": "text",
        "id": "RapkYvTXL7Cd"
      },
      "source": [
        "## Create the Gym env and instantiate the agent\n",
        "\n",
        "For this example, we will use CartPole environment, a classic control problem.\n",
        "\n",
        "\"A pole is attached by an un-actuated joint to a cart, which moves along a frictionless track. The system is controlled by applying a force of +1 or -1 to the cart. The pendulum starts upright, and the goal is to prevent it from falling over. A reward of +1 is provided for every timestep that the pole remains upright. \"\n",
        "\n",
        "Cartpole environment: [https://gym.openai.com/envs/CartPole-v1/](https://gym.openai.com/envs/CartPole-v1/)\n",
        "\n",
        "![Cartpole](https://cdn-images-1.medium.com/max/1143/1*h4WTQNVIsvMXJTCpXm_TAw.gif)\n",
        "\n",
        "Note: vectorized environments allow to easily multiprocess training. In this example, we are using only one process, hence the DummyVecEnv.\n",
        "\n",
        "We chose the MlpPolicy because input of CartPole is a feature vector, not images.\n",
        "\n",
        "The type of action to use (discrete/continuous) will be automatically deduced from the environment action space\n",
        "\n",
        "\n",
        "Here we are using the [Proximal Policy Optimization](https://stable-baselines.readthedocs.io/en/master/modules/ppo2.html) algorithm, which is an Actor-Critic method: it uses a value function to improve the policy gradient descent (by reducing the variance).\n",
        "\n",
        "It combines ideas from [A2C](https://stable-baselines.readthedocs.io/en/master/modules/a2c.html) (having multiple workers and using an entropy bonus for exploration) and [TRPO](https://stable-baselines.readthedocs.io/en/master/modules/trpo.html) (it uses a trust region to improve stability and avoid catastrophic drops in performance).\n",
        "\n",
        "PPO is an on-policy algorithm, which means that the trajectories used to update the networks must be collected using the latest policy.\n",
        "It is usually less sample efficient than off-policy alorithms like [DQN](https://stable-baselines.readthedocs.io/en/master/modules/dqn.html), [SAC](https://stable-baselines.readthedocs.io/en/master/modules/sac.html) or [TD3](https://stable-baselines.readthedocs.io/en/master/modules/td3.html), but is much faster regarding wall-clock time.\n"
      ]
    },
    {
      "cell_type": "code",
      "execution_count": 5,
      "metadata": {
        "colab": {},
        "colab_type": "code",
        "id": "pUWGZp3i9wyf"
      },
      "outputs": [],
      "source": [
        "env = gym.make('CartPole-v1')\n",
        "\n",
        "model = PPO(MlpPolicy, env, verbose=0)"
      ]
    },
    {
      "cell_type": "markdown",
      "metadata": {
        "colab_type": "text",
        "id": "4efFdrQ7MBvl"
      },
      "source": [
        "We create a helper function to evaluate the agent:"
      ]
    },
    {
      "cell_type": "code",
      "execution_count": 6,
      "metadata": {
        "colab": {},
        "colab_type": "code",
        "id": "63M8mSKR-6Zt"
      },
      "outputs": [],
      "source": [
        "def evaluate(model, num_episodes=100, deterministic=True):\n",
        "    \"\"\"\n",
        "    Evaluate a RL agent\n",
        "    :param model: (BaseRLModel object) the RL Agent\n",
        "    :param num_episodes: (int) number of episodes to evaluate it\n",
        "    :return: (float) Mean reward for the last num_episodes\n",
        "    \"\"\"\n",
        "    # This function will only work for a single Environment\n",
        "    env = model.get_env()\n",
        "    all_episode_rewards = []\n",
        "    for i in range(num_episodes):\n",
        "        episode_rewards = []\n",
        "        done = False\n",
        "        obs = env.reset()\n",
        "        while not done:\n",
        "            # _states are only useful when using LSTM policies\n",
        "            action, _states = model.predict(obs, deterministic=deterministic)\n",
        "            # here, action, rewards and dones are arrays\n",
        "            # because we are using vectorized env\n",
        "            obs, reward, done, info = env.step(action)\n",
        "            episode_rewards.append(reward)\n",
        "\n",
        "        all_episode_rewards.append(sum(episode_rewards))\n",
        "\n",
        "    mean_episode_reward = np.mean(all_episode_rewards)\n",
        "    print(\"Mean reward:\", mean_episode_reward, \"Num episodes:\", num_episodes)\n",
        "\n",
        "    return mean_episode_reward"
      ]
    },
    {
      "cell_type": "markdown",
      "metadata": {
        "colab_type": "text",
        "id": "6hkyafs--gJz"
      },
      "source": [
        "In fact, Stable-Baselines3 already provides you with that helper:"
      ]
    },
    {
      "cell_type": "code",
      "execution_count": 7,
      "metadata": {
        "colab": {},
        "colab_type": "code",
        "id": "s6ZNldIR-fce"
      },
      "outputs": [],
      "source": [
        "from stable_baselines3.common.evaluation import evaluate_policy"
      ]
    },
    {
      "cell_type": "markdown",
      "metadata": {
        "colab_type": "text",
        "id": "zjEVOIY8NVeK"
      },
      "source": [
        "Let's evaluate the un-trained agent, this should be a random agent."
      ]
    },
    {
      "cell_type": "code",
      "execution_count": 8,
      "metadata": {
        "colab": {
          "base_uri": "https://localhost:8080/",
          "height": 35
        },
        "colab_type": "code",
        "id": "xDHLMA6NFk95",
        "outputId": "a7115c9f-1076-48a2-a78b-61d387609c5f"
      },
      "outputs": [
        {
          "name": "stderr",
          "output_type": "stream",
          "text": [
            "/home/gitpod/.pyenv/versions/3.8.13/lib/python3.8/site-packages/stable_baselines3/common/evaluation.py:65: UserWarning: Evaluation environment is not wrapped with a ``Monitor`` wrapper. This may result in reporting modified episode lengths and rewards, if other wrappers happen to modify these. Consider wrapping environment first with ``Monitor`` wrapper.\n",
            "  warnings.warn(\n"
          ]
        },
        {
          "name": "stdout",
          "output_type": "stream",
          "text": [
            "mean_reward:122.64 +/- 67.14\n"
          ]
        }
      ],
      "source": [
        "# Use a separate environement for evaluation\n",
        "eval_env = gym.make('CartPole-v1')\n",
        "\n",
        "# Random Agent, before training\n",
        "mean_reward, std_reward = evaluate_policy(model, eval_env, n_eval_episodes=100)\n",
        "\n",
        "print(f\"mean_reward:{mean_reward:.2f} +/- {std_reward:.2f}\")"
      ]
    },
    {
      "cell_type": "markdown",
      "metadata": {
        "colab_type": "text",
        "id": "r5UoXTZPNdFE"
      },
      "source": [
        "## Train the agent and evaluate it"
      ]
    },
    {
      "cell_type": "code",
      "execution_count": 9,
      "metadata": {
        "colab": {
          "base_uri": "https://localhost:8080/",
          "height": 35
        },
        "colab_type": "code",
        "id": "e4cfSXIB-pTF",
        "outputId": "8f6fe592-df0a-4731-f447-b7c059b4f500"
      },
      "outputs": [
        {
          "data": {
            "text/plain": [
              "<stable_baselines3.ppo.ppo.PPO at 0x7faf7a2c6ac0>"
            ]
          },
          "execution_count": 9,
          "metadata": {},
          "output_type": "execute_result"
        }
      ],
      "source": [
        "# Train the agent for 10000 steps\n",
        "model.learn(total_timesteps=10000)"
      ]
    },
    {
      "cell_type": "code",
      "execution_count": 10,
      "metadata": {
        "colab": {
          "base_uri": "https://localhost:8080/",
          "height": 35
        },
        "colab_type": "code",
        "id": "ygl_gVmV_QP7",
        "outputId": "e2e2a301-bfea-48a4-c046-2912d9a90124"
      },
      "outputs": [
        {
          "name": "stdout",
          "output_type": "stream",
          "text": [
            "mean_reward:298.96 +/- 116.85\n"
          ]
        }
      ],
      "source": [
        "# Evaluate the trained agent\n",
        "mean_reward, std_reward = evaluate_policy(model, eval_env, n_eval_episodes=100)\n",
        "\n",
        "print(f\"mean_reward:{mean_reward:.2f} +/- {std_reward:.2f}\")"
      ]
    },
    {
      "cell_type": "markdown",
      "metadata": {
        "colab_type": "text",
        "id": "A00W6yY3NkHG"
      },
      "source": [
        "Apparently the training went well, the mean reward increased a lot ! "
      ]
    },
    {
      "cell_type": "markdown",
      "metadata": {
        "colab_type": "text",
        "id": "xVm9QPNVwKXN"
      },
      "source": [
        "### Prepare video recording"
      ]
    },
    {
      "cell_type": "code",
      "execution_count": null,
      "metadata": {
        "colab": {},
        "colab_type": "code",
        "id": "MPyfQxD5z26J"
      },
      "outputs": [
        {
          "name": "stderr",
          "output_type": "stream",
          "text": [
            "_XSERVTransmkdir: ERROR: euid != 0,directory /tmp/.X11-unix will not be created.\n"
          ]
        }
      ],
      "source": [
        "# Set up fake display; otherwise rendering will fail\n",
        "import os\n",
        "os.system(\"Xvfb :1 -screen 0 1024x768x24 &\")\n",
        "os.environ['DISPLAY'] = ':1'"
      ]
    },
    {
      "cell_type": "code",
      "execution_count": 12,
      "metadata": {
        "colab": {},
        "colab_type": "code",
        "id": "SLzXxO8VMD6N"
      },
      "outputs": [],
      "source": [
        "import base64\n",
        "from pathlib import Path\n",
        "\n",
        "from IPython import display as ipythondisplay\n",
        "\n",
        "def show_videos(video_path='', prefix=''):\n",
        "  \"\"\"\n",
        "  Taken from https://github.com/eleurent/highway-env\n",
        "\n",
        "  :param video_path: (str) Path to the folder containing videos\n",
        "  :param prefix: (str) Filter the video, showing only the only starting with this prefix\n",
        "  \"\"\"\n",
        "  html = []\n",
        "  for mp4 in Path(video_path).glob(\"{}*.mp4\".format(prefix)):\n",
        "      video_b64 = base64.b64encode(mp4.read_bytes())\n",
        "      html.append('''<video alt=\"{}\" autoplay \n",
        "                    loop controls style=\"height: 400px;\">\n",
        "                    <source src=\"data:video/mp4;base64,{}\" type=\"video/mp4\" />\n",
        "                </video>'''.format(mp4, video_b64.decode('ascii')))\n",
        "  ipythondisplay.display(ipythondisplay.HTML(data=\"<br>\".join(html)))"
      ]
    },
    {
      "cell_type": "markdown",
      "metadata": {
        "colab_type": "text",
        "id": "LTRNUfulOGaF"
      },
      "source": [
        "We will record a video using the [VecVideoRecorder](https://stable-baselines.readthedocs.io/en/master/guide/vec_envs.html#vecvideorecorder) wrapper, you will learn about those wrapper in the next notebook."
      ]
    },
    {
      "cell_type": "code",
      "execution_count": 13,
      "metadata": {
        "colab": {},
        "colab_type": "code",
        "id": "Trag9dQpOIhx"
      },
      "outputs": [],
      "source": [
        "from stable_baselines3.common.vec_env import VecVideoRecorder, DummyVecEnv\n",
        "\n",
        "def record_video(env_id, model, video_length=500, prefix='', video_folder='videos/'):\n",
        "  \"\"\"\n",
        "  :param env_id: (str)\n",
        "  :param model: (RL model)\n",
        "  :param video_length: (int)\n",
        "  :param prefix: (str)\n",
        "  :param video_folder: (str)\n",
        "  \"\"\"\n",
        "  eval_env = DummyVecEnv([lambda: gym.make('CartPole-v1')])\n",
        "  # Start the video at step=0 and record 500 steps\n",
        "  eval_env = VecVideoRecorder(eval_env, video_folder=video_folder,\n",
        "                              record_video_trigger=lambda step: step == 0, video_length=video_length,\n",
        "                              name_prefix=prefix)\n",
        "\n",
        "  obs = eval_env.reset()\n",
        "  for _ in range(video_length):\n",
        "    action, _ = model.predict(obs)\n",
        "    obs, _, _, _ = eval_env.step(action)\n",
        "\n",
        "  # Close the video recorder\n",
        "  eval_env.close()"
      ]
    },
    {
      "cell_type": "markdown",
      "metadata": {
        "colab_type": "text",
        "id": "KOObbeu5MMlR"
      },
      "source": [
        "### Visualize trained agent\n",
        "\n"
      ]
    },
    {
      "cell_type": "code",
      "execution_count": 14,
      "metadata": {
        "colab": {
          "base_uri": "https://localhost:8080/",
          "height": 35
        },
        "colab_type": "code",
        "id": "iATu7AiyMQW2",
        "outputId": "7a1ffe06-b8c5-42e5-b075-1b04b98c017e"
      },
      "outputs": [
        {
          "name": "stdout",
          "output_type": "stream",
          "text": [
            "Saving video to /workspace/rl-colab-notebooks/videos/ppo-cartpole-step-0-to-step-500.mp4\n"
          ]
        }
      ],
      "source": [
        "record_video('CartPole-v1', model, video_length=500, prefix='ppo-cartpole')"
      ]
    },
    {
      "cell_type": "code",
      "execution_count": 15,
      "metadata": {
        "colab": {},
        "colab_type": "code",
        "id": "-n4i-fW3NojZ"
      },
      "outputs": [
        {
          "data": {
            "text/html": [
              "<video alt=\"videos/ppo-cartpole-step-0-to-step-500.mp4\" autoplay \n",
              "                    loop controls style=\"height: 400px;\">\n",
              "                    <source src=\"data:video/mp4;base64,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\" type=\"video/mp4\" />\n",
              "                </video>"
            ],
            "text/plain": [
              "<IPython.core.display.HTML object>"
            ]
          },
          "metadata": {},
          "output_type": "display_data"
        }
      ],
      "source": [
        "show_videos('videos', prefix='ppo')"
      ]
    },
    {
      "cell_type": "markdown",
      "metadata": {
        "colab_type": "text",
        "id": "9Y8zg4V566qD"
      },
      "source": [
        "## Bonus: Train a RL Model in One Line\n",
        "\n",
        "The policy class to use will be inferred and the environment will be automatically created. This works because both are [registered](https://stable-baselines.readthedocs.io/en/master/guide/quickstart.html)."
      ]
    },
    {
      "cell_type": "code",
      "execution_count": null,
      "metadata": {
        "colab": {},
        "colab_type": "code",
        "id": "iaOPfOrwWEP4"
      },
      "outputs": [],
      "source": [
        "model = PPO('MlpPolicy', \"CartPole-v1\", verbose=1).learn(1000)"
      ]
    },
    {
      "cell_type": "code",
      "execution_count": null,
      "metadata": {
        "colab": {},
        "colab_type": "code",
        "id": "Se8SHBN17Fy4"
      },
      "outputs": [],
      "source": []
    },
    {
      "cell_type": "markdown",
      "metadata": {
        "colab_type": "text",
        "id": "FrI6f5fWnzp-"
      },
      "source": [
        "## Conclusion\n",
        "\n",
        "In this notebook we have seen:\n",
        "- how to define and train a RL model using stable baselines3, it takes only one line of code ;)\n"
      ]
    },
    {
      "cell_type": "code",
      "execution_count": null,
      "metadata": {
        "colab": {},
        "colab_type": "code",
        "id": "73ji3gbNDkf7"
      },
      "outputs": [],
      "source": []
    }
  ],
  "metadata": {
    "accelerator": "GPU",
    "colab": {
      "collapsed_sections": [],
      "name": "1_getting_started.ipynb",
      "provenance": []
    },
    "kernelspec": {
      "display_name": "Python 3.8.13 64-bit ('3.8.13')",
      "language": "python",
      "name": "python3"
    },
    "language_info": {
      "codemirror_mode": {
        "name": "ipython",
        "version": 3
      },
      "file_extension": ".py",
      "mimetype": "text/x-python",
      "name": "python",
      "nbconvert_exporter": "python",
      "pygments_lexer": "ipython3",
      "version": "3.8.13"
    },
    "vscode": {
      "interpreter": {
        "hash": "110cc1dee26208153f2972f08a2ad52b6a56238dc66d48e87fb757ef2996db56"
      }
    }
  },
  "nbformat": 4,
  "nbformat_minor": 0
}
