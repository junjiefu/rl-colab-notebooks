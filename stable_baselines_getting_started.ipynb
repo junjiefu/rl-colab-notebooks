{
  "cells": [
    {
      "cell_type": "markdown",
      "metadata": {
        "colab_type": "text",
        "id": "view-in-github"
      },
      "source": [
        "<a href=\"https://colab.research.google.com/github/Stable-Baselines-Team/rl-colab-notebooks/blob/sb3/stable_baselines_getting_started.ipynb\" target=\"_parent\"><img src=\"https://colab.research.google.com/assets/colab-badge.svg\" alt=\"Open In Colab\"/></a>"
      ]
    },
    {
      "cell_type": "markdown",
      "metadata": {
        "colab_type": "text",
        "id": "hyyN-2qyK_T2"
      },
      "source": [
        "# Stable Baselines3 Tutorial - Getting Started\n",
        "\n",
        "Github repo: https://github.com/araffin/rl-tutorial-jnrr19\n",
        "\n",
        "Stable-Baselines3: https://github.com/DLR-RM/stable-baselines3\n",
        "\n",
        "Documentation: https://stable-baselines.readthedocs.io/en/master/\n",
        "\n",
        "RL Baselines3 zoo: https://github.com/DLR-RM/rl-baselines3-zoo\n",
        "\n",
        "\n",
        "[RL Baselines3 Zoo](https://github.com/DLR-RM/rl-baselines3-zoo) is a collection of pre-trained Reinforcement Learning agents using Stable-Baselines3.\n",
        "\n",
        "It also provides basic scripts for training, evaluating agents, tuning hyperparameters and recording videos.\n",
        "\n",
        "\n",
        "## Introduction\n",
        "\n",
        "In this notebook, you will learn the basics for using stable baselines3 library: how to create a RL model, train it and evaluate it. Because all algorithms share the same interface, we will see how simple it is to switch from one algorithm to another.\n",
        "\n",
        "\n",
        "## Install Dependencies and Stable Baselines3 Using Pip\n",
        "\n",
        "List of full dependencies can be found in the [README](https://github.com/DLR-RM/stable-baselines3).\n",
        "\n",
        "\n",
        "```\n",
        "pip install stable-baselines3[extra]\n",
        "```"
      ]
    },
    {
      "cell_type": "code",
      "execution_count": null,
      "metadata": {
        "colab": {},
        "colab_type": "code",
        "id": "gWskDE2c9WoN"
      },
      "outputs": [],
      "source": [
        "#!apt-get install ffmpeg freeglut3-dev xvfb  # For visualization\n",
        "#!pip install stable-baselines3[extra]"
      ]
    },
    {
      "cell_type": "code",
      "execution_count": 1,
      "metadata": {
        "colab": {},
        "colab_type": "code",
        "id": "U29X1-B-AIKE"
      },
      "outputs": [
        {
          "name": "stderr",
          "output_type": "stream",
          "text": [
            "/home/gitpod/.pyenv/versions/3.8.13/lib/python3.8/site-packages/tqdm/auto.py:22: TqdmWarning: IProgress not found. Please update jupyter and ipywidgets. See https://ipywidgets.readthedocs.io/en/stable/user_install.html\n",
            "  from .autonotebook import tqdm as notebook_tqdm\n"
          ]
        },
        {
          "data": {
            "text/plain": [
              "'1.6.1'"
            ]
          },
          "execution_count": 1,
          "metadata": {},
          "output_type": "execute_result"
        }
      ],
      "source": [
        "import stable_baselines3\n",
        "stable_baselines3.__version__"
      ]
    },
    {
      "cell_type": "markdown",
      "metadata": {
        "colab_type": "text",
        "id": "FtY8FhliLsGm"
      },
      "source": [
        "## Imports"
      ]
    },
    {
      "cell_type": "markdown",
      "metadata": {
        "colab_type": "text",
        "id": "gcX8hEcaUpR0"
      },
      "source": [
        "Stable-Baselines works on environments that follow the [gym interface](https://stable-baselines.readthedocs.io/en/master/guide/custom_env.html).\n",
        "You can find a list of available environment [here](https://gym.openai.com/envs/#classic_control).\n",
        "\n",
        "It is also recommended to check the [source code](https://github.com/openai/gym) to learn more about the observation and action space of each env, as gym does not have a proper documentation.\n",
        "Not all algorithms can work with all action spaces, you can find more in this [recap table](https://stable-baselines.readthedocs.io/en/master/guide/algos.html)"
      ]
    },
    {
      "cell_type": "code",
      "execution_count": 2,
      "metadata": {
        "colab": {},
        "colab_type": "code",
        "id": "BIedd7Pz9sOs"
      },
      "outputs": [],
      "source": [
        "import gym\n",
        "import numpy as np"
      ]
    },
    {
      "cell_type": "markdown",
      "metadata": {
        "colab_type": "text",
        "id": "Ae32CtgzTG3R"
      },
      "source": [
        "The first thing you need to import is the RL model, check the documentation to know what you can use on which problem"
      ]
    },
    {
      "cell_type": "code",
      "execution_count": 3,
      "metadata": {
        "colab": {},
        "colab_type": "code",
        "id": "R7tKaBFrTR0a"
      },
      "outputs": [],
      "source": [
        "from stable_baselines3 import PPO"
      ]
    },
    {
      "cell_type": "markdown",
      "metadata": {
        "colab_type": "text",
        "id": "-0_8OQbOTTNT"
      },
      "source": [
        "The next thing you need to import is the policy class that will be used to create the networks (for the policy/value functions).\n",
        "This step is optional as you can directly use strings in the constructor: \n",
        "\n",
        "```PPO('MlpPolicy', env)``` instead of ```PPO(MlpPolicy, env)```\n",
        "\n",
        "Note that some algorithms like `SAC` have their own `MlpPolicy`, that's why using string for the policy is the recommened option."
      ]
    },
    {
      "cell_type": "code",
      "execution_count": 4,
      "metadata": {
        "colab": {},
        "colab_type": "code",
        "id": "ROUJr675TT01"
      },
      "outputs": [],
      "source": [
        "from stable_baselines3.ppo import MlpPolicy"
      ]
    },
    {
      "cell_type": "markdown",
      "metadata": {
        "colab_type": "text",
        "id": "RapkYvTXL7Cd"
      },
      "source": [
        "## Create the Gym env and instantiate the agent\n",
        "\n",
        "For this example, we will use CartPole environment, a classic control problem.\n",
        "\n",
        "\"A pole is attached by an un-actuated joint to a cart, which moves along a frictionless track. The system is controlled by applying a force of +1 or -1 to the cart. The pendulum starts upright, and the goal is to prevent it from falling over. A reward of +1 is provided for every timestep that the pole remains upright. \"\n",
        "\n",
        "Cartpole environment: [https://gym.openai.com/envs/CartPole-v1/](https://gym.openai.com/envs/CartPole-v1/)\n",
        "\n",
        "![Cartpole](https://cdn-images-1.medium.com/max/1143/1*h4WTQNVIsvMXJTCpXm_TAw.gif)\n",
        "\n",
        "Note: vectorized environments allow to easily multiprocess training. In this example, we are using only one process, hence the DummyVecEnv.\n",
        "\n",
        "We chose the MlpPolicy because input of CartPole is a feature vector, not images.\n",
        "\n",
        "The type of action to use (discrete/continuous) will be automatically deduced from the environment action space\n",
        "\n",
        "\n",
        "Here we are using the [Proximal Policy Optimization](https://stable-baselines.readthedocs.io/en/master/modules/ppo2.html) algorithm, which is an Actor-Critic method: it uses a value function to improve the policy gradient descent (by reducing the variance).\n",
        "\n",
        "It combines ideas from [A2C](https://stable-baselines.readthedocs.io/en/master/modules/a2c.html) (having multiple workers and using an entropy bonus for exploration) and [TRPO](https://stable-baselines.readthedocs.io/en/master/modules/trpo.html) (it uses a trust region to improve stability and avoid catastrophic drops in performance).\n",
        "\n",
        "PPO is an on-policy algorithm, which means that the trajectories used to update the networks must be collected using the latest policy.\n",
        "It is usually less sample efficient than off-policy alorithms like [DQN](https://stable-baselines.readthedocs.io/en/master/modules/dqn.html), [SAC](https://stable-baselines.readthedocs.io/en/master/modules/sac.html) or [TD3](https://stable-baselines.readthedocs.io/en/master/modules/td3.html), but is much faster regarding wall-clock time.\n"
      ]
    },
    {
      "cell_type": "code",
      "execution_count": 5,
      "metadata": {
        "colab": {},
        "colab_type": "code",
        "id": "pUWGZp3i9wyf"
      },
      "outputs": [],
      "source": [
        "env = gym.make('CartPole-v1')\n",
        "\n",
        "model = PPO(MlpPolicy, env, verbose=0)"
      ]
    },
    {
      "cell_type": "markdown",
      "metadata": {
        "colab_type": "text",
        "id": "4efFdrQ7MBvl"
      },
      "source": [
        "We create a helper function to evaluate the agent:"
      ]
    },
    {
      "cell_type": "code",
      "execution_count": 6,
      "metadata": {
        "colab": {},
        "colab_type": "code",
        "id": "63M8mSKR-6Zt"
      },
      "outputs": [],
      "source": [
        "def evaluate(model, num_episodes=100, deterministic=True):\n",
        "    \"\"\"\n",
        "    Evaluate a RL agent\n",
        "    :param model: (BaseRLModel object) the RL Agent\n",
        "    :param num_episodes: (int) number of episodes to evaluate it\n",
        "    :return: (float) Mean reward for the last num_episodes\n",
        "    \"\"\"\n",
        "    # This function will only work for a single Environment\n",
        "    env = model.get_env()\n",
        "    all_episode_rewards = []\n",
        "    for i in range(num_episodes):\n",
        "        episode_rewards = []\n",
        "        done = False\n",
        "        obs = env.reset()\n",
        "        while not done:\n",
        "            # _states are only useful when using LSTM policies\n",
        "            action, _states = model.predict(obs, deterministic=deterministic)\n",
        "            # here, action, rewards and dones are arrays\n",
        "            # because we are using vectorized env\n",
        "            obs, reward, done, info = env.step(action)\n",
        "            episode_rewards.append(reward)\n",
        "\n",
        "        all_episode_rewards.append(sum(episode_rewards))\n",
        "\n",
        "    mean_episode_reward = np.mean(all_episode_rewards)\n",
        "    print(\"Mean reward:\", mean_episode_reward, \"Num episodes:\", num_episodes)\n",
        "\n",
        "    return mean_episode_reward"
      ]
    },
    {
      "cell_type": "markdown",
      "metadata": {
        "colab_type": "text",
        "id": "6hkyafs--gJz"
      },
      "source": [
        "In fact, Stable-Baselines3 already provides you with that helper:"
      ]
    },
    {
      "cell_type": "code",
      "execution_count": 7,
      "metadata": {
        "colab": {},
        "colab_type": "code",
        "id": "s6ZNldIR-fce"
      },
      "outputs": [],
      "source": [
        "from stable_baselines3.common.evaluation import evaluate_policy"
      ]
    },
    {
      "cell_type": "markdown",
      "metadata": {
        "colab_type": "text",
        "id": "zjEVOIY8NVeK"
      },
      "source": [
        "Let's evaluate the un-trained agent, this should be a random agent."
      ]
    },
    {
      "cell_type": "code",
      "execution_count": 8,
      "metadata": {
        "colab": {
          "base_uri": "https://localhost:8080/",
          "height": 35
        },
        "colab_type": "code",
        "id": "xDHLMA6NFk95",
        "outputId": "a7115c9f-1076-48a2-a78b-61d387609c5f"
      },
      "outputs": [
        {
          "name": "stderr",
          "output_type": "stream",
          "text": [
            "/home/gitpod/.pyenv/versions/3.8.13/lib/python3.8/site-packages/stable_baselines3/common/evaluation.py:65: UserWarning: Evaluation environment is not wrapped with a ``Monitor`` wrapper. This may result in reporting modified episode lengths and rewards, if other wrappers happen to modify these. Consider wrapping environment first with ``Monitor`` wrapper.\n",
            "  warnings.warn(\n"
          ]
        },
        {
          "name": "stdout",
          "output_type": "stream",
          "text": [
            "mean_reward:9.65 +/- 0.67\n"
          ]
        }
      ],
      "source": [
        "# Use a separate environement for evaluation\n",
        "eval_env = gym.make('CartPole-v1')\n",
        "\n",
        "# Random Agent, before training\n",
        "mean_reward, std_reward = evaluate_policy(model, eval_env, n_eval_episodes=100)\n",
        "\n",
        "print(f\"mean_reward:{mean_reward:.2f} +/- {std_reward:.2f}\")"
      ]
    },
    {
      "cell_type": "markdown",
      "metadata": {
        "colab_type": "text",
        "id": "r5UoXTZPNdFE"
      },
      "source": [
        "## Train the agent and evaluate it"
      ]
    },
    {
      "cell_type": "code",
      "execution_count": 9,
      "metadata": {
        "colab": {
          "base_uri": "https://localhost:8080/",
          "height": 35
        },
        "colab_type": "code",
        "id": "e4cfSXIB-pTF",
        "outputId": "8f6fe592-df0a-4731-f447-b7c059b4f500"
      },
      "outputs": [
        {
          "data": {
            "text/plain": [
              "<stable_baselines3.ppo.ppo.PPO at 0x7f6fe52d2100>"
            ]
          },
          "execution_count": 9,
          "metadata": {},
          "output_type": "execute_result"
        }
      ],
      "source": [
        "# Train the agent for 10000 steps\n",
        "model.learn(total_timesteps=10000)"
      ]
    },
    {
      "cell_type": "code",
      "execution_count": 10,
      "metadata": {
        "colab": {
          "base_uri": "https://localhost:8080/",
          "height": 35
        },
        "colab_type": "code",
        "id": "ygl_gVmV_QP7",
        "outputId": "e2e2a301-bfea-48a4-c046-2912d9a90124"
      },
      "outputs": [
        {
          "name": "stdout",
          "output_type": "stream",
          "text": [
            "mean_reward:367.21 +/- 121.53\n"
          ]
        }
      ],
      "source": [
        "# Evaluate the trained agent\n",
        "mean_reward, std_reward = evaluate_policy(model, eval_env, n_eval_episodes=100)\n",
        "\n",
        "print(f\"mean_reward:{mean_reward:.2f} +/- {std_reward:.2f}\")"
      ]
    },
    {
      "cell_type": "markdown",
      "metadata": {
        "colab_type": "text",
        "id": "A00W6yY3NkHG"
      },
      "source": [
        "Apparently the training went well, the mean reward increased a lot ! "
      ]
    },
    {
      "cell_type": "markdown",
      "metadata": {
        "colab_type": "text",
        "id": "xVm9QPNVwKXN"
      },
      "source": [
        "### Prepare video recording"
      ]
    },
    {
      "cell_type": "code",
      "execution_count": 11,
      "metadata": {
        "colab": {},
        "colab_type": "code",
        "id": "MPyfQxD5z26J"
      },
      "outputs": [
        {
          "name": "stderr",
          "output_type": "stream",
          "text": [
            "(EE) \n",
            "Fatal server error:\n",
            "(EE) Server is already active for display 1\n",
            "\tIf this server is no longer running, remove /tmp/.X1-lock\n",
            "\tand start again.\n",
            "(EE) \n"
          ]
        }
      ],
      "source": [
        "# Set up fake display; otherwise rendering will fail\n",
        "import os\n",
        "os.system(\"Xvfb :1 -screen 0 1024x768x24 &\")\n",
        "os.environ['DISPLAY'] = ':1'"
      ]
    },
    {
      "cell_type": "code",
      "execution_count": 12,
      "metadata": {
        "colab": {},
        "colab_type": "code",
        "id": "SLzXxO8VMD6N"
      },
      "outputs": [],
      "source": [
        "import base64\n",
        "from pathlib import Path\n",
        "\n",
        "from IPython import display as ipythondisplay\n",
        "\n",
        "def show_videos(video_path='', prefix=''):\n",
        "  \"\"\"\n",
        "  Taken from https://github.com/eleurent/highway-env\n",
        "\n",
        "  :param video_path: (str) Path to the folder containing videos\n",
        "  :param prefix: (str) Filter the video, showing only the only starting with this prefix\n",
        "  \"\"\"\n",
        "  html = []\n",
        "  for mp4 in Path(video_path).glob(\"{}*.mp4\".format(prefix)):\n",
        "      video_b64 = base64.b64encode(mp4.read_bytes())\n",
        "      html.append('''<video alt=\"{}\" autoplay \n",
        "                    loop controls style=\"height: 400px;\">\n",
        "                    <source src=\"data:video/mp4;base64,{}\" type=\"video/mp4\" />\n",
        "                </video>'''.format(mp4, video_b64.decode('ascii')))\n",
        "  ipythondisplay.display(ipythondisplay.HTML(data=\"<br>\".join(html)))"
      ]
    },
    {
      "cell_type": "markdown",
      "metadata": {
        "colab_type": "text",
        "id": "LTRNUfulOGaF"
      },
      "source": [
        "We will record a video using the [VecVideoRecorder](https://stable-baselines.readthedocs.io/en/master/guide/vec_envs.html#vecvideorecorder) wrapper, you will learn about those wrapper in the next notebook."
      ]
    },
    {
      "cell_type": "code",
      "execution_count": 13,
      "metadata": {
        "colab": {},
        "colab_type": "code",
        "id": "Trag9dQpOIhx"
      },
      "outputs": [],
      "source": [
        "from stable_baselines3.common.vec_env import VecVideoRecorder, DummyVecEnv\n",
        "\n",
        "def record_video(env_id, model, video_length=500, prefix='', video_folder='videos/'):\n",
        "  \"\"\"\n",
        "  :param env_id: (str)\n",
        "  :param model: (RL model)\n",
        "  :param video_length: (int)\n",
        "  :param prefix: (str)\n",
        "  :param video_folder: (str)\n",
        "  \"\"\"\n",
        "  eval_env = DummyVecEnv([lambda: gym.make('CartPole-v1')])\n",
        "  # Start the video at step=0 and record 500 steps\n",
        "  eval_env = VecVideoRecorder(eval_env, video_folder=video_folder,\n",
        "                              record_video_trigger=lambda step: step == 0, video_length=video_length,\n",
        "                              name_prefix=prefix)\n",
        "\n",
        "  obs = eval_env.reset()\n",
        "  for _ in range(video_length):\n",
        "    action, _ = model.predict(obs)\n",
        "    obs, _, _, _ = eval_env.step(action)\n",
        "\n",
        "  # Close the video recorder\n",
        "  eval_env.close()"
      ]
    },
    {
      "cell_type": "markdown",
      "metadata": {
        "colab_type": "text",
        "id": "KOObbeu5MMlR"
      },
      "source": [
        "### Visualize trained agent\n",
        "\n"
      ]
    },
    {
      "cell_type": "code",
      "execution_count": 14,
      "metadata": {
        "colab": {
          "base_uri": "https://localhost:8080/",
          "height": 35
        },
        "colab_type": "code",
        "id": "iATu7AiyMQW2",
        "outputId": "7a1ffe06-b8c5-42e5-b075-1b04b98c017e"
      },
      "outputs": [
        {
          "name": "stdout",
          "output_type": "stream",
          "text": [
            "Saving video to /workspace/rl-colab-notebooks/videos/ppo-cartpole-step-0-to-step-500.mp4\n"
          ]
        }
      ],
      "source": [
        "record_video('CartPole-v1', model, video_length=500, prefix='ppo-cartpole')"
      ]
    },
    {
      "cell_type": "code",
      "execution_count": 15,
      "metadata": {
        "colab": {},
        "colab_type": "code",
        "id": "-n4i-fW3NojZ"
      },
      "outputs": [
        {
          "data": {
            "text/html": [
              "<video alt=\"videos/ppo-cartpole-step-0-to-step-500.mp4\" autoplay \n",
              "                    loop controls style=\"height: 400px;\">\n",
              "                    <source src=\"data:video/mp4;base64,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\" type=\"video/mp4\" />\n",
              "                </video>"
            ],
            "text/plain": [
              "<IPython.core.display.HTML object>"
            ]
          },
          "metadata": {},
          "output_type": "display_data"
        }
      ],
      "source": [
        "show_videos('videos', prefix='ppo')"
      ]
    },
    {
      "cell_type": "markdown",
      "metadata": {
        "colab_type": "text",
        "id": "9Y8zg4V566qD"
      },
      "source": [
        "## Bonus: Train a RL Model in One Line\n",
        "\n",
        "The policy class to use will be inferred and the environment will be automatically created. This works because both are [registered](https://stable-baselines.readthedocs.io/en/master/guide/quickstart.html)."
      ]
    },
    {
      "cell_type": "code",
      "execution_count": null,
      "metadata": {
        "colab": {},
        "colab_type": "code",
        "id": "iaOPfOrwWEP4"
      },
      "outputs": [],
      "source": [
        "model = PPO('MlpPolicy', \"CartPole-v1\", verbose=1).learn(1000)"
      ]
    },
    {
      "cell_type": "code",
      "execution_count": null,
      "metadata": {
        "colab": {},
        "colab_type": "code",
        "id": "Se8SHBN17Fy4"
      },
      "outputs": [],
      "source": []
    },
    {
      "cell_type": "markdown",
      "metadata": {
        "colab_type": "text",
        "id": "FrI6f5fWnzp-"
      },
      "source": [
        "## Conclusion\n",
        "\n",
        "In this notebook we have seen:\n",
        "- how to define and train a RL model using stable baselines3, it takes only one line of code ;)\n"
      ]
    },
    {
      "cell_type": "code",
      "execution_count": null,
      "metadata": {
        "colab": {},
        "colab_type": "code",
        "id": "73ji3gbNDkf7"
      },
      "outputs": [],
      "source": []
    }
  ],
  "metadata": {
    "accelerator": "GPU",
    "colab": {
      "collapsed_sections": [],
      "name": "1_getting_started.ipynb",
      "provenance": []
    },
    "kernelspec": {
      "display_name": "Python 3.8.13 64-bit ('3.8.13')",
      "language": "python",
      "name": "python3"
    },
    "language_info": {
      "codemirror_mode": {
        "name": "ipython",
        "version": 3
      },
      "file_extension": ".py",
      "mimetype": "text/x-python",
      "name": "python",
      "nbconvert_exporter": "python",
      "pygments_lexer": "ipython3",
      "version": "3.8.13"
    },
    "vscode": {
      "interpreter": {
        "hash": "110cc1dee26208153f2972f08a2ad52b6a56238dc66d48e87fb757ef2996db56"
      }
    }
  },
  "nbformat": 4,
  "nbformat_minor": 0
}
