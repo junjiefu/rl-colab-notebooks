{
  "cells": [
    {
      "cell_type": "markdown",
      "metadata": {
        "colab_type": "text",
        "id": "view-in-github"
      },
      "source": [
        "<a href=\"https://colab.research.google.com/github/Stable-Baselines-Team/rl-colab-notebooks/blob/sb3/stable_baselines_getting_started.ipynb\" target=\"_parent\"><img src=\"https://colab.research.google.com/assets/colab-badge.svg\" alt=\"Open In Colab\"/></a>"
      ]
    },
    {
      "cell_type": "markdown",
      "metadata": {
        "colab_type": "text",
        "id": "hyyN-2qyK_T2"
      },
      "source": [
        "# Stable Baselines3 Tutorial - Getting Started\n",
        "\n",
        "Github repo: https://github.com/araffin/rl-tutorial-jnrr19\n",
        "\n",
        "Stable-Baselines3: https://github.com/DLR-RM/stable-baselines3\n",
        "\n",
        "Documentation: https://stable-baselines.readthedocs.io/en/master/\n",
        "\n",
        "RL Baselines3 zoo: https://github.com/DLR-RM/rl-baselines3-zoo\n",
        "\n",
        "\n",
        "[RL Baselines3 Zoo](https://github.com/DLR-RM/rl-baselines3-zoo) is a collection of pre-trained Reinforcement Learning agents using Stable-Baselines3.\n",
        "\n",
        "It also provides basic scripts for training, evaluating agents, tuning hyperparameters and recording videos.\n",
        "\n",
        "\n",
        "## Introduction\n",
        "\n",
        "In this notebook, you will learn the basics for using stable baselines3 library: how to create a RL model, train it and evaluate it. Because all algorithms share the same interface, we will see how simple it is to switch from one algorithm to another.\n",
        "\n",
        "\n",
        "## Install Dependencies and Stable Baselines3 Using Pip\n",
        "\n",
        "List of full dependencies can be found in the [README](https://github.com/DLR-RM/stable-baselines3).\n",
        "\n",
        "\n",
        "```\n",
        "pip install stable-baselines3[extra]\n",
        "```"
      ]
    },
    {
      "cell_type": "code",
      "execution_count": null,
      "metadata": {
        "colab": {},
        "colab_type": "code",
        "id": "gWskDE2c9WoN"
      },
      "outputs": [],
      "source": [
        "#!apt-get install ffmpeg freeglut3-dev xvfb  # For visualization\n",
        "#!pip install stable-baselines3[extra]"
      ]
    },
    {
      "cell_type": "code",
      "execution_count": 1,
      "metadata": {
        "colab": {},
        "colab_type": "code",
        "id": "U29X1-B-AIKE"
      },
      "outputs": [
        {
          "name": "stderr",
          "output_type": "stream",
          "text": [
            "/home/gitpod/.pyenv/versions/3.8.13/lib/python3.8/site-packages/tqdm/auto.py:22: TqdmWarning: IProgress not found. Please update jupyter and ipywidgets. See https://ipywidgets.readthedocs.io/en/stable/user_install.html\n",
            "  from .autonotebook import tqdm as notebook_tqdm\n",
            "/home/gitpod/.pyenv/versions/3.8.13/lib/python3.8/site-packages/requests/__init__.py:109: RequestsDependencyWarning: urllib3 (1.26.12) or chardet (5.0.0)/charset_normalizer (2.0.12) doesn't match a supported version!\n",
            "  warnings.warn(\n"
          ]
        },
        {
          "data": {
            "text/plain": [
              "'1.6.0'"
            ]
          },
          "execution_count": 1,
          "metadata": {},
          "output_type": "execute_result"
        }
      ],
      "source": [
        "import stable_baselines3\n",
        "stable_baselines3.__version__"
      ]
    },
    {
      "cell_type": "markdown",
      "metadata": {
        "colab_type": "text",
        "id": "FtY8FhliLsGm"
      },
      "source": [
        "## Imports"
      ]
    },
    {
      "cell_type": "markdown",
      "metadata": {
        "colab_type": "text",
        "id": "gcX8hEcaUpR0"
      },
      "source": [
        "Stable-Baselines works on environments that follow the [gym interface](https://stable-baselines.readthedocs.io/en/master/guide/custom_env.html).\n",
        "You can find a list of available environment [here](https://gym.openai.com/envs/#classic_control).\n",
        "\n",
        "It is also recommended to check the [source code](https://github.com/openai/gym) to learn more about the observation and action space of each env, as gym does not have a proper documentation.\n",
        "Not all algorithms can work with all action spaces, you can find more in this [recap table](https://stable-baselines.readthedocs.io/en/master/guide/algos.html)"
      ]
    },
    {
      "cell_type": "code",
      "execution_count": 2,
      "metadata": {
        "colab": {},
        "colab_type": "code",
        "id": "BIedd7Pz9sOs"
      },
      "outputs": [],
      "source": [
        "import gym\n",
        "import numpy as np"
      ]
    },
    {
      "cell_type": "markdown",
      "metadata": {
        "colab_type": "text",
        "id": "Ae32CtgzTG3R"
      },
      "source": [
        "The first thing you need to import is the RL model, check the documentation to know what you can use on which problem"
      ]
    },
    {
      "cell_type": "code",
      "execution_count": 3,
      "metadata": {
        "colab": {},
        "colab_type": "code",
        "id": "R7tKaBFrTR0a"
      },
      "outputs": [],
      "source": [
        "from stable_baselines3 import PPO"
      ]
    },
    {
      "cell_type": "markdown",
      "metadata": {
        "colab_type": "text",
        "id": "-0_8OQbOTTNT"
      },
      "source": [
        "The next thing you need to import is the policy class that will be used to create the networks (for the policy/value functions).\n",
        "This step is optional as you can directly use strings in the constructor: \n",
        "\n",
        "```PPO('MlpPolicy', env)``` instead of ```PPO(MlpPolicy, env)```\n",
        "\n",
        "Note that some algorithms like `SAC` have their own `MlpPolicy`, that's why using string for the policy is the recommened option."
      ]
    },
    {
      "cell_type": "code",
      "execution_count": 4,
      "metadata": {
        "colab": {},
        "colab_type": "code",
        "id": "ROUJr675TT01"
      },
      "outputs": [],
      "source": [
        "from stable_baselines3.ppo import MlpPolicy"
      ]
    },
    {
      "cell_type": "markdown",
      "metadata": {
        "colab_type": "text",
        "id": "RapkYvTXL7Cd"
      },
      "source": [
        "## Create the Gym env and instantiate the agent\n",
        "\n",
        "For this example, we will use CartPole environment, a classic control problem.\n",
        "\n",
        "\"A pole is attached by an un-actuated joint to a cart, which moves along a frictionless track. The system is controlled by applying a force of +1 or -1 to the cart. The pendulum starts upright, and the goal is to prevent it from falling over. A reward of +1 is provided for every timestep that the pole remains upright. \"\n",
        "\n",
        "Cartpole environment: [https://gym.openai.com/envs/CartPole-v1/](https://gym.openai.com/envs/CartPole-v1/)\n",
        "\n",
        "![Cartpole](https://cdn-images-1.medium.com/max/1143/1*h4WTQNVIsvMXJTCpXm_TAw.gif)\n",
        "\n",
        "Note: vectorized environments allow to easily multiprocess training. In this example, we are using only one process, hence the DummyVecEnv.\n",
        "\n",
        "We chose the MlpPolicy because input of CartPole is a feature vector, not images.\n",
        "\n",
        "The type of action to use (discrete/continuous) will be automatically deduced from the environment action space\n",
        "\n",
        "\n",
        "Here we are using the [Proximal Policy Optimization](https://stable-baselines.readthedocs.io/en/master/modules/ppo2.html) algorithm, which is an Actor-Critic method: it uses a value function to improve the policy gradient descent (by reducing the variance).\n",
        "\n",
        "It combines ideas from [A2C](https://stable-baselines.readthedocs.io/en/master/modules/a2c.html) (having multiple workers and using an entropy bonus for exploration) and [TRPO](https://stable-baselines.readthedocs.io/en/master/modules/trpo.html) (it uses a trust region to improve stability and avoid catastrophic drops in performance).\n",
        "\n",
        "PPO is an on-policy algorithm, which means that the trajectories used to update the networks must be collected using the latest policy.\n",
        "It is usually less sample efficient than off-policy alorithms like [DQN](https://stable-baselines.readthedocs.io/en/master/modules/dqn.html), [SAC](https://stable-baselines.readthedocs.io/en/master/modules/sac.html) or [TD3](https://stable-baselines.readthedocs.io/en/master/modules/td3.html), but is much faster regarding wall-clock time.\n"
      ]
    },
    {
      "cell_type": "code",
      "execution_count": 5,
      "metadata": {
        "colab": {},
        "colab_type": "code",
        "id": "pUWGZp3i9wyf"
      },
      "outputs": [],
      "source": [
        "env = gym.make('CartPole-v1')\n",
        "\n",
        "model = PPO(MlpPolicy, env, verbose=0)"
      ]
    },
    {
      "cell_type": "markdown",
      "metadata": {
        "colab_type": "text",
        "id": "4efFdrQ7MBvl"
      },
      "source": [
        "We create a helper function to evaluate the agent:"
      ]
    },
    {
      "cell_type": "code",
      "execution_count": 6,
      "metadata": {
        "colab": {},
        "colab_type": "code",
        "id": "63M8mSKR-6Zt"
      },
      "outputs": [],
      "source": [
        "def evaluate(model, num_episodes=100, deterministic=True):\n",
        "    \"\"\"\n",
        "    Evaluate a RL agent\n",
        "    :param model: (BaseRLModel object) the RL Agent\n",
        "    :param num_episodes: (int) number of episodes to evaluate it\n",
        "    :return: (float) Mean reward for the last num_episodes\n",
        "    \"\"\"\n",
        "    # This function will only work for a single Environment\n",
        "    env = model.get_env()\n",
        "    all_episode_rewards = []\n",
        "    for i in range(num_episodes):\n",
        "        episode_rewards = []\n",
        "        done = False\n",
        "        obs = env.reset()\n",
        "        while not done:\n",
        "            # _states are only useful when using LSTM policies\n",
        "            action, _states = model.predict(obs, deterministic=deterministic)\n",
        "            # here, action, rewards and dones are arrays\n",
        "            # because we are using vectorized env\n",
        "            obs, reward, done, info = env.step(action)\n",
        "            episode_rewards.append(reward)\n",
        "\n",
        "        all_episode_rewards.append(sum(episode_rewards))\n",
        "\n",
        "    mean_episode_reward = np.mean(all_episode_rewards)\n",
        "    print(\"Mean reward:\", mean_episode_reward, \"Num episodes:\", num_episodes)\n",
        "\n",
        "    return mean_episode_reward"
      ]
    },
    {
      "cell_type": "markdown",
      "metadata": {
        "colab_type": "text",
        "id": "6hkyafs--gJz"
      },
      "source": [
        "In fact, Stable-Baselines3 already provides you with that helper:"
      ]
    },
    {
      "cell_type": "code",
      "execution_count": 7,
      "metadata": {
        "colab": {},
        "colab_type": "code",
        "id": "s6ZNldIR-fce"
      },
      "outputs": [],
      "source": [
        "from stable_baselines3.common.evaluation import evaluate_policy"
      ]
    },
    {
      "cell_type": "markdown",
      "metadata": {
        "colab_type": "text",
        "id": "zjEVOIY8NVeK"
      },
      "source": [
        "Let's evaluate the un-trained agent, this should be a random agent."
      ]
    },
    {
      "cell_type": "code",
      "execution_count": 8,
      "metadata": {
        "colab": {
          "base_uri": "https://localhost:8080/",
          "height": 35
        },
        "colab_type": "code",
        "id": "xDHLMA6NFk95",
        "outputId": "a7115c9f-1076-48a2-a78b-61d387609c5f"
      },
      "outputs": [
        {
          "name": "stderr",
          "output_type": "stream",
          "text": [
            "/home/gitpod/.pyenv/versions/3.8.13/lib/python3.8/site-packages/stable_baselines3/common/evaluation.py:65: UserWarning: Evaluation environment is not wrapped with a ``Monitor`` wrapper. This may result in reporting modified episode lengths and rewards, if other wrappers happen to modify these. Consider wrapping environment first with ``Monitor`` wrapper.\n",
            "  warnings.warn(\n"
          ]
        },
        {
          "name": "stdout",
          "output_type": "stream",
          "text": [
            "mean_reward:9.07 +/- 0.70\n"
          ]
        }
      ],
      "source": [
        "# Use a separate environement for evaluation\n",
        "eval_env = gym.make('CartPole-v1')\n",
        "\n",
        "# Random Agent, before training\n",
        "mean_reward, std_reward = evaluate_policy(model, eval_env, n_eval_episodes=100)\n",
        "\n",
        "print(f\"mean_reward:{mean_reward:.2f} +/- {std_reward:.2f}\")"
      ]
    },
    {
      "cell_type": "markdown",
      "metadata": {
        "colab_type": "text",
        "id": "r5UoXTZPNdFE"
      },
      "source": [
        "## Train the agent and evaluate it"
      ]
    },
    {
      "cell_type": "code",
      "execution_count": 9,
      "metadata": {
        "colab": {
          "base_uri": "https://localhost:8080/",
          "height": 35
        },
        "colab_type": "code",
        "id": "e4cfSXIB-pTF",
        "outputId": "8f6fe592-df0a-4731-f447-b7c059b4f500"
      },
      "outputs": [
        {
          "data": {
            "text/plain": [
              "<stable_baselines3.ppo.ppo.PPO at 0x7f1fec47c1f0>"
            ]
          },
          "execution_count": 9,
          "metadata": {},
          "output_type": "execute_result"
        }
      ],
      "source": [
        "# Train the agent for 10000 steps\n",
        "model.learn(total_timesteps=10000)"
      ]
    },
    {
      "cell_type": "code",
      "execution_count": 10,
      "metadata": {
        "colab": {
          "base_uri": "https://localhost:8080/",
          "height": 35
        },
        "colab_type": "code",
        "id": "ygl_gVmV_QP7",
        "outputId": "e2e2a301-bfea-48a4-c046-2912d9a90124"
      },
      "outputs": [
        {
          "name": "stdout",
          "output_type": "stream",
          "text": [
            "mean_reward:423.74 +/- 104.73\n"
          ]
        }
      ],
      "source": [
        "# Evaluate the trained agent\n",
        "mean_reward, std_reward = evaluate_policy(model, eval_env, n_eval_episodes=100)\n",
        "\n",
        "print(f\"mean_reward:{mean_reward:.2f} +/- {std_reward:.2f}\")"
      ]
    },
    {
      "cell_type": "markdown",
      "metadata": {
        "colab_type": "text",
        "id": "A00W6yY3NkHG"
      },
      "source": [
        "Apparently the training went well, the mean reward increased a lot ! "
      ]
    },
    {
      "cell_type": "markdown",
      "metadata": {
        "colab_type": "text",
        "id": "xVm9QPNVwKXN"
      },
      "source": [
        "### Prepare video recording"
      ]
    },
    {
      "cell_type": "code",
      "execution_count": 11,
      "metadata": {
        "colab": {},
        "colab_type": "code",
        "id": "MPyfQxD5z26J"
      },
      "outputs": [
        {
          "name": "stderr",
          "output_type": "stream",
          "text": [
            "(EE) \n",
            "Fatal server error:\n",
            "(EE) Server is already active for display 1\n",
            "\tIf this server is no longer running, remove /tmp/.X1-lock\n",
            "\tand start again.\n",
            "(EE) \n"
          ]
        }
      ],
      "source": [
        "# Set up fake display; otherwise rendering will fail\n",
        "import os\n",
        "os.system(\"Xvfb :1 -screen 0 1024x768x24 &\")\n",
        "os.environ['DISPLAY'] = ':1'"
      ]
    },
    {
      "cell_type": "code",
      "execution_count": 12,
      "metadata": {
        "colab": {},
        "colab_type": "code",
        "id": "SLzXxO8VMD6N"
      },
      "outputs": [],
      "source": [
        "import base64\n",
        "from pathlib import Path\n",
        "\n",
        "from IPython import display as ipythondisplay\n",
        "\n",
        "def show_videos(video_path='', prefix=''):\n",
        "  \"\"\"\n",
        "  Taken from https://github.com/eleurent/highway-env\n",
        "\n",
        "  :param video_path: (str) Path to the folder containing videos\n",
        "  :param prefix: (str) Filter the video, showing only the only starting with this prefix\n",
        "  \"\"\"\n",
        "  html = []\n",
        "  for mp4 in Path(video_path).glob(\"{}*.mp4\".format(prefix)):\n",
        "      video_b64 = base64.b64encode(mp4.read_bytes())\n",
        "      html.append('''<video alt=\"{}\" autoplay \n",
        "                    loop controls style=\"height: 400px;\">\n",
        "                    <source src=\"data:video/mp4;base64,{}\" type=\"video/mp4\" />\n",
        "                </video>'''.format(mp4, video_b64.decode('ascii')))\n",
        "  ipythondisplay.display(ipythondisplay.HTML(data=\"<br>\".join(html)))"
      ]
    },
    {
      "cell_type": "markdown",
      "metadata": {
        "colab_type": "text",
        "id": "LTRNUfulOGaF"
      },
      "source": [
        "We will record a video using the [VecVideoRecorder](https://stable-baselines.readthedocs.io/en/master/guide/vec_envs.html#vecvideorecorder) wrapper, you will learn about those wrapper in the next notebook."
      ]
    },
    {
      "cell_type": "code",
      "execution_count": 13,
      "metadata": {
        "colab": {},
        "colab_type": "code",
        "id": "Trag9dQpOIhx"
      },
      "outputs": [],
      "source": [
        "from stable_baselines3.common.vec_env import VecVideoRecorder, DummyVecEnv\n",
        "\n",
        "def record_video(env_id, model, video_length=500, prefix='', video_folder='videos/'):\n",
        "  \"\"\"\n",
        "  :param env_id: (str)\n",
        "  :param model: (RL model)\n",
        "  :param video_length: (int)\n",
        "  :param prefix: (str)\n",
        "  :param video_folder: (str)\n",
        "  \"\"\"\n",
        "  eval_env = DummyVecEnv([lambda: gym.make('CartPole-v1')])\n",
        "  # Start the video at step=0 and record 500 steps\n",
        "  eval_env = VecVideoRecorder(eval_env, video_folder=video_folder,\n",
        "                              record_video_trigger=lambda step: step == 0, video_length=video_length,\n",
        "                              name_prefix=prefix)\n",
        "\n",
        "  obs = eval_env.reset()\n",
        "  for _ in range(video_length):\n",
        "    action, _ = model.predict(obs)\n",
        "    obs, _, _, _ = eval_env.step(action)\n",
        "\n",
        "  # Close the video recorder\n",
        "  eval_env.close()"
      ]
    },
    {
      "cell_type": "markdown",
      "metadata": {
        "colab_type": "text",
        "id": "KOObbeu5MMlR"
      },
      "source": [
        "### Visualize trained agent\n",
        "\n"
      ]
    },
    {
      "cell_type": "code",
      "execution_count": 14,
      "metadata": {
        "colab": {
          "base_uri": "https://localhost:8080/",
          "height": 35
        },
        "colab_type": "code",
        "id": "iATu7AiyMQW2",
        "outputId": "7a1ffe06-b8c5-42e5-b075-1b04b98c017e"
      },
      "outputs": [
        {
          "name": "stdout",
          "output_type": "stream",
          "text": [
            "Saving video to /workspace/rl-colab-notebooks/videos/ppo-cartpole-step-0-to-step-500.mp4\n"
          ]
        }
      ],
      "source": [
        "record_video('CartPole-v1', model, video_length=500, prefix='ppo-cartpole')"
      ]
    },
    {
      "cell_type": "code",
      "execution_count": 15,
      "metadata": {
        "colab": {},
        "colab_type": "code",
        "id": "-n4i-fW3NojZ"
      },
      "outputs": [
        {
          "data": {
            "text/html": [
              "<video alt=\"videos/ppo-cartpole-step-0-to-step-500.mp4\" autoplay \n",
              "                    loop controls style=\"height: 400px;\">\n",
              "                    <source src=\"data:video/mp4;base64,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\" type=\"video/mp4\" />\n",
              "                </video>"
            ],
            "text/plain": [
              "<IPython.core.display.HTML object>"
            ]
          },
          "metadata": {},
          "output_type": "display_data"
        }
      ],
      "source": [
        "show_videos('videos', prefix='ppo')"
      ]
    },
    {
      "cell_type": "markdown",
      "metadata": {
        "colab_type": "text",
        "id": "9Y8zg4V566qD"
      },
      "source": [
        "## Bonus: Train a RL Model in One Line\n",
        "\n",
        "The policy class to use will be inferred and the environment will be automatically created. This works because both are [registered](https://stable-baselines.readthedocs.io/en/master/guide/quickstart.html)."
      ]
    },
    {
      "cell_type": "code",
      "execution_count": null,
      "metadata": {
        "colab": {},
        "colab_type": "code",
        "id": "iaOPfOrwWEP4"
      },
      "outputs": [],
      "source": [
        "model = PPO('MlpPolicy', \"CartPole-v1\", verbose=1).learn(1000)"
      ]
    },
    {
      "cell_type": "code",
      "execution_count": null,
      "metadata": {
        "colab": {},
        "colab_type": "code",
        "id": "Se8SHBN17Fy4"
      },
      "outputs": [],
      "source": []
    },
    {
      "cell_type": "markdown",
      "metadata": {
        "colab_type": "text",
        "id": "FrI6f5fWnzp-"
      },
      "source": [
        "## Conclusion\n",
        "\n",
        "In this notebook we have seen:\n",
        "- how to define and train a RL model using stable baselines3, it takes only one line of code ;)\n"
      ]
    },
    {
      "cell_type": "code",
      "execution_count": null,
      "metadata": {
        "colab": {},
        "colab_type": "code",
        "id": "73ji3gbNDkf7"
      },
      "outputs": [],
      "source": []
    }
  ],
  "metadata": {
    "accelerator": "GPU",
    "colab": {
      "collapsed_sections": [],
      "name": "1_getting_started.ipynb",
      "provenance": []
    },
    "kernelspec": {
      "display_name": "Python 3.8.13 64-bit ('3.8.13')",
      "language": "python",
      "name": "python3"
    },
    "language_info": {
      "codemirror_mode": {
        "name": "ipython",
        "version": 3
      },
      "file_extension": ".py",
      "mimetype": "text/x-python",
      "name": "python",
      "nbconvert_exporter": "python",
      "pygments_lexer": "ipython3",
      "version": "3.8.13"
    },
    "vscode": {
      "interpreter": {
        "hash": "110cc1dee26208153f2972f08a2ad52b6a56238dc66d48e87fb757ef2996db56"
      }
    }
  },
  "nbformat": 4,
  "nbformat_minor": 0
}
