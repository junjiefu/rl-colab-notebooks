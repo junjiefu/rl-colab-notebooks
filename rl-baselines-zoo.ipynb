{
  "cells": [
    {
      "cell_type": "markdown",
      "metadata": {
        "colab_type": "text",
        "id": "view-in-github"
      },
      "source": [
        "<a href=\"https://colab.research.google.com/github/Stable-Baselines-Team/rl-colab-notebooks/blob/sb3/rl-baselines-zoo.ipynb\" target=\"_parent\"><img src=\"https://colab.research.google.com/assets/colab-badge.svg\" alt=\"Open In Colab\"/></a>"
      ]
    },
    {
      "cell_type": "markdown",
      "metadata": {
        "colab_type": "text",
        "id": "XJy9QoDC7XA7"
      },
      "source": [
        "# RL Baselines3 Zoo: Training in Colab\n",
        "\n",
        "\n",
        "\n",
        "Github Repo: [https://github.com/DLR-RM/rl-baselines3-zoo](https://github.com/DLR-RM/rl-baselines3-zoo)\n",
        "\n",
        "Stable-Baselines3 Repo: [https://github.com/DLR-RM/rl-baselines3-zoo](https://github.com/DLR-RM/stable-baselines3)\n",
        "\n",
        "\n",
        "# Install Dependencies\n",
        "\n"
      ]
    },
    {
      "cell_type": "code",
      "execution_count": null,
      "metadata": {
        "colab": {},
        "colab_type": "code",
        "id": "AXVDDlTn02M9"
      },
      "outputs": [],
      "source": [
        "#!apt-get install swig cmake ffmpeg freeglut3-dev xvfb"
      ]
    },
    {
      "cell_type": "markdown",
      "metadata": {
        "colab_type": "text",
        "id": "kDjF3qRg7oGH"
      },
      "source": [
        "## Clone RL Baselines3 Zoo Repo"
      ]
    },
    {
      "cell_type": "code",
      "execution_count": 1,
      "metadata": {
        "colab": {},
        "colab_type": "code",
        "id": "SCjGikdT1DFy"
      },
      "outputs": [
        {
          "name": "stdout",
          "output_type": "stream",
          "text": [
            "Cloning into 'rl-baselines3-zoo'...\n",
            "remote: Enumerating objects: 4281, done.\u001b[K\n",
            "remote: Counting objects: 100% (116/116), done.\u001b[K\n",
            "remote: Compressing objects: 100% (67/67), done.\u001b[K\n",
            "remote: Total 4281 (delta 50), reused 106 (delta 47), pack-reused 4165\u001b[K\n",
            "Receiving objects: 100% (4281/4281), 2.89 MiB | 6.62 MiB/s, done.\n",
            "Resolving deltas: 100% (2772/2772), done.\n",
            "Submodule 'rl-trained-agents' (https://github.com/DLR-RM/rl-trained-agents) registered for path 'rl-trained-agents'\n",
            "Cloning into '/workspace/rl-colab-notebooks/rl-baselines3-zoo/rl-trained-agents'...\n",
            "remote: Enumerating objects: 2231, done.        \n",
            "remote: Counting objects: 100% (74/74), done.        \n",
            "remote: Compressing objects: 100% (54/54), done.        \n",
            "remote: Total 2231 (delta 20), reused 68 (delta 19), pack-reused 2157        \n",
            "Receiving objects: 100% (2231/2231), 1.35 GiB | 18.99 MiB/s, done.\n",
            "Resolving deltas: 100% (489/489), done.\n",
            "Submodule path 'rl-trained-agents': checked out '1e2a45e5d06efd6cc15da6cf2d1939d72dcbdf87'\n"
          ]
        }
      ],
      "source": [
        "!git clone --recursive https://github.com/DLR-RM/rl-baselines3-zoo"
      ]
    },
    {
      "cell_type": "code",
      "execution_count": 3,
      "metadata": {
        "colab": {},
        "colab_type": "code",
        "id": "REMQlh-ezyVt"
      },
      "outputs": [
        {
          "name": "stdout",
          "output_type": "stream",
          "text": [
            "/workspace/rl-colab-notebooks/rl-baselines3-zoo\n"
          ]
        }
      ],
      "source": [
        "%cd rl-baselines3-zoo/"
      ]
    },
    {
      "cell_type": "markdown",
      "metadata": {
        "colab_type": "text",
        "id": "5tmD_QTBqTMb"
      },
      "source": [
        "### Install pip dependencies"
      ]
    },
    {
      "cell_type": "code",
      "execution_count": 4,
      "metadata": {
        "colab": {},
        "colab_type": "code",
        "id": "OWIDzgJTqShY"
      },
      "outputs": [
        {
          "name": "stdout",
          "output_type": "stream",
          "text": [
            "Requirement already satisfied: gym==0.21 in /home/gitpod/.pyenv/versions/3.8.13/lib/python3.8/site-packages (from -r requirements.txt (line 1)) (0.21.0)\n",
            "Requirement already satisfied: stable-baselines3[docs,extra,tests]>=1.6.1 in /home/gitpod/.pyenv/versions/3.8.13/lib/python3.8/site-packages (from -r requirements.txt (line 2)) (1.6.1)\n",
            "Collecting sb3-contrib>=1.6.1\n",
            "  Downloading sb3_contrib-1.6.1-py3-none-any.whl (78 kB)\n",
            "\u001b[2K     \u001b[90m━━━━━━━━━━━━━━━━━━━━━━━━━━━━━━━━━━━━━━━━\u001b[0m \u001b[32m78.8/78.8 kB\u001b[0m \u001b[31m9.3 MB/s\u001b[0m eta \u001b[36m0:00:00\u001b[0m\n",
            "\u001b[?25hCollecting box2d-py==2.3.8\n",
            "  Downloading box2d-py-2.3.8.tar.gz (374 kB)\n",
            "\u001b[2K     \u001b[90m━━━━━━━━━━━━━━━━━━━━━━━━━━━━━━━━━━━━━━\u001b[0m \u001b[32m374.5/374.5 kB\u001b[0m \u001b[31m34.9 MB/s\u001b[0m eta \u001b[36m0:00:00\u001b[0m\n",
            "\u001b[?25h  Preparing metadata (setup.py) ... \u001b[?25ldone\n",
            "\u001b[?25hCollecting pybullet\n",
            "  Downloading pybullet-3.2.5-cp38-cp38-manylinux_2_5_x86_64.manylinux1_x86_64.whl (91.7 MB)\n",
            "\u001b[2K     \u001b[90m━━━━━━━━━━━━━━━━━━━━━━━━━━━━━━━━━━━━━━━━\u001b[0m \u001b[32m91.7/91.7 MB\u001b[0m \u001b[31m19.1 MB/s\u001b[0m eta \u001b[36m0:00:00\u001b[0m00:01\u001b[0m00:01\u001b[0m\n",
            "\u001b[?25hCollecting gym-minigrid\n",
            "  Downloading gym_minigrid-1.2.2-py3-none-any.whl (70 kB)\n",
            "\u001b[2K     \u001b[90m━━━━━━━━━━━━━━━━━━━━━━━━━━━━━━━━━━━━━━━━\u001b[0m \u001b[32m70.5/70.5 kB\u001b[0m \u001b[31m22.8 MB/s\u001b[0m eta \u001b[36m0:00:00\u001b[0m\n",
            "\u001b[?25hCollecting scikit-optimize\n",
            "  Downloading scikit_optimize-0.9.0-py2.py3-none-any.whl (100 kB)\n",
            "\u001b[2K     \u001b[90m━━━━━━━━━━━━━━━━━━━━━━━━━━━━━━━━━━━━━━\u001b[0m \u001b[32m100.3/100.3 kB\u001b[0m \u001b[31m33.1 MB/s\u001b[0m eta \u001b[36m0:00:00\u001b[0m\n",
            "\u001b[?25hCollecting optuna\n",
            "  Downloading optuna-3.0.2-py3-none-any.whl (348 kB)\n",
            "\u001b[2K     \u001b[90m━━━━━━━━━━━━━━━━━━━━━━━━━━━━━━━━━━━━━━\u001b[0m \u001b[32m348.3/348.3 kB\u001b[0m \u001b[31m62.7 MB/s\u001b[0m eta \u001b[36m0:00:00\u001b[0m\n",
            "\u001b[?25hCollecting pytablewriter~=0.64\n",
            "  Downloading pytablewriter-0.64.2-py3-none-any.whl (106 kB)\n",
            "\u001b[2K     \u001b[90m━━━━━━━━━━━━━━━━━━━━━━━━━━━━━━━━━━━━━━\u001b[0m \u001b[32m106.6/106.6 kB\u001b[0m \u001b[31m39.5 MB/s\u001b[0m eta \u001b[36m0:00:00\u001b[0m\n",
            "\u001b[?25hRequirement already satisfied: pyyaml>=5.1 in /home/gitpod/.pyenv/versions/3.8.13/lib/python3.8/site-packages (from -r requirements.txt (line 10)) (6.0)\n",
            "Requirement already satisfied: cloudpickle>=1.5.0 in /home/gitpod/.pyenv/versions/3.8.13/lib/python3.8/site-packages (from -r requirements.txt (line 11)) (2.2.0)\n",
            "Collecting plotly\n",
            "  Downloading plotly-5.10.0-py2.py3-none-any.whl (15.2 MB)\n",
            "\u001b[2K     \u001b[90m━━━━━━━━━━━━━━━━━━━━━━━━━━━━━━━━━━━━━━━\u001b[0m \u001b[32m15.2/15.2 MB\u001b[0m \u001b[31m106.0 MB/s\u001b[0m eta \u001b[36m0:00:00\u001b[0m00:01\u001b[0m00:01\u001b[0m\n",
            "\u001b[?25hCollecting panda-gym==1.1.1\n",
            "  Downloading panda_gym-1.1.1-py3-none-any.whl (21 kB)\n",
            "Collecting rliable>=1.0.5\n",
            "  Downloading rliable-1.0.8-py3-none-any.whl (19 kB)\n",
            "Collecting wandb\n",
            "  Downloading wandb-0.13.3-py2.py3-none-any.whl (1.8 MB)\n",
            "\u001b[2K     \u001b[90m━━━━━━━━━━━━━━━━━━━━━━━━━━━━━━━━━━━━━━━━\u001b[0m \u001b[32m1.8/1.8 MB\u001b[0m \u001b[31m92.7 MB/s\u001b[0m eta \u001b[36m0:00:00\u001b[0m\n",
            "\u001b[?25hCollecting huggingface_sb3<3.*,>=2.2.1\n",
            "  Downloading huggingface_sb3-2.2.3-py3-none-any.whl (9.4 kB)\n",
            "Collecting seaborn\n",
            "  Downloading seaborn-0.12.0-py3-none-any.whl (285 kB)\n",
            "\u001b[2K     \u001b[90m━━━━━━━━━━━━━━━━━━━━━━━━━━━━━━━━━━━━━━\u001b[0m \u001b[32m285.1/285.1 kB\u001b[0m \u001b[31m77.8 MB/s\u001b[0m eta \u001b[36m0:00:00\u001b[0m\n",
            "\u001b[?25hRequirement already satisfied: tqdm in /home/gitpod/.pyenv/versions/3.8.13/lib/python3.8/site-packages (from -r requirements.txt (line 18)) (4.64.1)\n",
            "Requirement already satisfied: rich in /home/gitpod/.pyenv/versions/3.8.13/lib/python3.8/site-packages (from -r requirements.txt (line 19)) (12.4.4)\n",
            "Collecting importlib-metadata~=4.13\n",
            "  Downloading importlib_metadata-4.13.0-py3-none-any.whl (23 kB)\n",
            "Requirement already satisfied: numpy>=1.18.0 in /home/gitpod/.pyenv/versions/3.8.13/lib/python3.8/site-packages (from gym==0.21->-r requirements.txt (line 1)) (1.23.3)\n",
            "Requirement already satisfied: torch>=1.11 in /home/gitpod/.pyenv/versions/3.8.13/lib/python3.8/site-packages (from stable-baselines3[docs,extra,tests]>=1.6.1->-r requirements.txt (line 2)) (1.12.1)\n",
            "Requirement already satisfied: matplotlib in /home/gitpod/.pyenv/versions/3.8.13/lib/python3.8/site-packages (from stable-baselines3[docs,extra,tests]>=1.6.1->-r requirements.txt (line 2)) (3.6.0)\n",
            "Requirement already satisfied: pandas in /home/gitpod/.pyenv/versions/3.8.13/lib/python3.8/site-packages (from stable-baselines3[docs,extra,tests]>=1.6.1->-r requirements.txt (line 2)) (1.5.0)\n",
            "Collecting sphinx-autobuild\n",
            "  Downloading sphinx_autobuild-2021.3.14-py3-none-any.whl (9.9 kB)\n",
            "Collecting sphinxcontrib.spelling\n",
            "  Downloading sphinxcontrib_spelling-7.6.0-py3-none-any.whl (16 kB)\n",
            "Collecting sphinx-rtd-theme\n",
            "  Downloading sphinx_rtd_theme-1.0.0-py2.py3-none-any.whl (2.8 MB)\n",
            "\u001b[2K     \u001b[90m━━━━━━━━━━━━━━━━━━━━━━━━━━━━━━━━━━━━━━━━\u001b[0m \u001b[32m2.8/2.8 MB\u001b[0m \u001b[31m130.0 MB/s\u001b[0m eta \u001b[36m0:00:00\u001b[0m\n",
            "\u001b[?25hCollecting sphinx-autodoc-typehints\n",
            "  Downloading sphinx_autodoc_typehints-1.19.4-py3-none-any.whl (12 kB)\n",
            "Collecting sphinx-copybutton\n",
            "  Downloading sphinx_copybutton-0.5.0-py3-none-any.whl (12 kB)\n",
            "Collecting sphinx\n",
            "  Downloading sphinx-5.2.3-py3-none-any.whl (3.2 MB)\n",
            "\u001b[2K     \u001b[90m━━━━━━━━━━━━━━━━━━━━━━━━━━━━━━━━━━━━━━━━\u001b[0m \u001b[32m3.2/3.2 MB\u001b[0m \u001b[31m142.8 MB/s\u001b[0m eta \u001b[36m0:00:00\u001b[0m\n",
            "\u001b[?25hCollecting pytype\n",
            "  Downloading pytype-2022.9.27-cp38-cp38-manylinux_2_17_x86_64.manylinux2014_x86_64.whl (3.2 MB)\n",
            "\u001b[2K     \u001b[90m━━━━━━━━━━━━━━━━━━━━━━━━━━━━━━━━━━━━━━━━\u001b[0m \u001b[32m3.2/3.2 MB\u001b[0m \u001b[31m129.6 MB/s\u001b[0m eta \u001b[36m0:00:00\u001b[0m\n",
            "\u001b[?25hCollecting pytest-env\n",
            "  Downloading pytest-env-0.6.2.tar.gz (1.7 kB)\n",
            "  Preparing metadata (setup.py) ... \u001b[?25ldone\n",
            "\u001b[?25hRequirement already satisfied: flake8>=3.8 in /home/gitpod/.pyenv/versions/3.8.13/lib/python3.8/site-packages (from stable-baselines3[docs,extra,tests]>=1.6.1->-r requirements.txt (line 2)) (4.0.1)\n",
            "Requirement already satisfied: isort>=5.0 in /home/gitpod/.pyenv/versions/3.8.13/lib/python3.8/site-packages (from stable-baselines3[docs,extra,tests]>=1.6.1->-r requirements.txt (line 2)) (5.10.1)\n",
            "Collecting pytest\n",
            "  Downloading pytest-7.1.3-py3-none-any.whl (298 kB)\n",
            "\u001b[2K     \u001b[90m━━━━━━━━━━━━━━━━━━━━━━━━━━━━━━━━━━━━━━\u001b[0m \u001b[32m298.2/298.2 kB\u001b[0m \u001b[31m81.3 MB/s\u001b[0m eta \u001b[36m0:00:00\u001b[0m\n",
            "\u001b[?25hCollecting pytest-xdist\n",
            "  Downloading pytest_xdist-2.5.0-py3-none-any.whl (41 kB)\n",
            "\u001b[2K     \u001b[90m━━━━━━━━━━━━━━━━━━━━━━━━━━━━━━━━━━━━━━━━\u001b[0m \u001b[32m41.7/41.7 kB\u001b[0m \u001b[31m11.4 MB/s\u001b[0m eta \u001b[36m0:00:00\u001b[0m\n",
            "\u001b[?25hCollecting black\n",
            "  Downloading black-22.8.0-cp38-cp38-manylinux_2_17_x86_64.manylinux2014_x86_64.whl (1.5 MB)\n",
            "\u001b[2K     \u001b[90m━━━━━━━━━━━━━━━━━━━━━━━━━━━━━━━━━━━━━━━━\u001b[0m \u001b[32m1.5/1.5 MB\u001b[0m \u001b[31m130.2 MB/s\u001b[0m eta \u001b[36m0:00:00\u001b[0m\n",
            "\u001b[?25hCollecting flake8-bugbear\n",
            "  Downloading flake8_bugbear-22.9.23-py3-none-any.whl (22 kB)\n",
            "Collecting scipy>=1.4.1\n",
            "  Downloading scipy-1.9.1-cp38-cp38-manylinux_2_17_x86_64.manylinux2014_x86_64.whl (43.4 MB)\n",
            "\u001b[2K     \u001b[90m━━━━━━━━━━━━━━━━━━━━━━━━━━━━━━━━━━━━━━━━\u001b[0m \u001b[32m43.4/43.4 MB\u001b[0m \u001b[31m38.1 MB/s\u001b[0m eta \u001b[36m0:00:00\u001b[0m00:01\u001b[0m00:01\u001b[0m\n",
            "\u001b[?25hCollecting pytest-cov\n",
            "  Downloading pytest_cov-4.0.0-py3-none-any.whl (21 kB)\n",
            "Requirement already satisfied: opencv-python in /home/gitpod/.pyenv/versions/3.8.13/lib/python3.8/site-packages (from stable-baselines3[docs,extra,tests]>=1.6.1->-r requirements.txt (line 2)) (4.6.0.66)\n",
            "Requirement already satisfied: pillow in /home/gitpod/.pyenv/versions/3.8.13/lib/python3.8/site-packages (from stable-baselines3[docs,extra,tests]>=1.6.1->-r requirements.txt (line 2)) (9.2.0)\n",
            "Requirement already satisfied: psutil in /home/gitpod/.pyenv/versions/3.8.13/lib/python3.8/site-packages (from stable-baselines3[docs,extra,tests]>=1.6.1->-r requirements.txt (line 2)) (5.9.1)\n",
            "Requirement already satisfied: ale-py==0.7.4 in /home/gitpod/.pyenv/versions/3.8.13/lib/python3.8/site-packages (from stable-baselines3[docs,extra,tests]>=1.6.1->-r requirements.txt (line 2)) (0.7.4)\n",
            "Requirement already satisfied: tensorboard>=2.9.1 in /home/gitpod/.pyenv/versions/3.8.13/lib/python3.8/site-packages (from stable-baselines3[docs,extra,tests]>=1.6.1->-r requirements.txt (line 2)) (2.10.1)\n",
            "Requirement already satisfied: autorom[accept-rom-license]~=0.4.2 in /home/gitpod/.pyenv/versions/3.8.13/lib/python3.8/site-packages (from stable-baselines3[docs,extra,tests]>=1.6.1->-r requirements.txt (line 2)) (0.4.2)\n",
            "Requirement already satisfied: importlib-resources in /home/gitpod/.pyenv/versions/3.8.13/lib/python3.8/site-packages (from ale-py==0.7.4->stable-baselines3[docs,extra,tests]>=1.6.1->-r requirements.txt (line 2)) (5.8.0)\n",
            "Collecting gym-minigrid\n",
            "  Downloading gym_minigrid-1.2.1-py3-none-any.whl (70 kB)\n",
            "\u001b[2K     \u001b[90m━━━━━━━━━━━━━━━━━━━━━━━━━━━━━━━━━━━━━━━━\u001b[0m \u001b[32m70.3/70.3 kB\u001b[0m \u001b[31m24.8 MB/s\u001b[0m eta \u001b[36m0:00:00\u001b[0m\n",
            "\u001b[?25h  Downloading gym_minigrid-1.2.0-py3-none-any.whl (70 kB)\n",
            "\u001b[2K     \u001b[90m━━━━━━━━━━━━━━━━━━━━━━━━━━━━━━━━━━━━━━━━\u001b[0m \u001b[32m70.4/70.4 kB\u001b[0m \u001b[31m27.4 MB/s\u001b[0m eta \u001b[36m0:00:00\u001b[0m\n",
            "\u001b[?25h  Downloading gym_minigrid-1.1.0-py3-none-any.whl (57 kB)\n",
            "\u001b[2K     \u001b[90m━━━━━━━━━━━━━━━━━━━━━━━━━━━━━━━━━━━━━━━━\u001b[0m \u001b[32m57.4/57.4 kB\u001b[0m \u001b[31m21.8 MB/s\u001b[0m eta \u001b[36m0:00:00\u001b[0m\n",
            "\u001b[?25h  Downloading gym_minigrid-1.0.3-py3-none-any.whl (48 kB)\n",
            "\u001b[2K     \u001b[90m━━━━━━━━━━━━━━━━━━━━━━━━━━━━━━━━━━━━━━━━\u001b[0m \u001b[32m48.1/48.1 kB\u001b[0m \u001b[31m8.7 MB/s\u001b[0m eta \u001b[36m0:00:00\u001b[0m\n",
            "\u001b[?25hCollecting scikit-learn>=0.20.0\n",
            "  Downloading scikit_learn-1.1.2-cp38-cp38-manylinux_2_17_x86_64.manylinux2014_x86_64.whl (31.2 MB)\n",
            "\u001b[2K     \u001b[90m━━━━━━━━━━━━━━━━━━━━━━━━━━━━━━━━━━━━━━━━\u001b[0m \u001b[32m31.2/31.2 MB\u001b[0m \u001b[31m44.7 MB/s\u001b[0m eta \u001b[36m0:00:00\u001b[0m00:01\u001b[0m00:01\u001b[0m\n",
            "\u001b[?25hCollecting pyaml>=16.9\n",
            "  Downloading pyaml-21.10.1-py2.py3-none-any.whl (24 kB)\n",
            "Collecting joblib>=0.11\n",
            "  Downloading joblib-1.2.0-py3-none-any.whl (297 kB)\n",
            "\u001b[2K     \u001b[90m━━━━━━━━━━━━━━━━━━━━━━━━━━━━━━━━━━━━━━\u001b[0m \u001b[32m298.0/298.0 kB\u001b[0m \u001b[31m42.1 MB/s\u001b[0m eta \u001b[36m0:00:00\u001b[0m\n",
            "\u001b[?25hRequirement already satisfied: packaging>=20.0 in /home/gitpod/.pyenv/versions/3.8.13/lib/python3.8/site-packages (from optuna->-r requirements.txt (line 8)) (21.3)\n",
            "Collecting alembic>=1.5.0\n",
            "  Downloading alembic-1.8.1-py3-none-any.whl (209 kB)\n",
            "\u001b[2K     \u001b[90m━━━━━━━━━━━━━━━━━━━━━━━━━━━━━━━━━━━━━━\u001b[0m \u001b[32m209.8/209.8 kB\u001b[0m \u001b[31m61.4 MB/s\u001b[0m eta \u001b[36m0:00:00\u001b[0m\n",
            "\u001b[?25hCollecting colorlog\n",
            "  Downloading colorlog-6.7.0-py2.py3-none-any.whl (11 kB)\n",
            "Collecting sqlalchemy>=1.3.0\n",
            "  Downloading SQLAlchemy-1.4.41-cp38-cp38-manylinux_2_5_x86_64.manylinux1_x86_64.manylinux_2_17_x86_64.manylinux2014_x86_64.whl (1.6 MB)\n",
            "\u001b[2K     \u001b[90m━━━━━━━━━━━━━━━━━━━━━━━━━━━━━━━━━━━━━━━━\u001b[0m \u001b[32m1.6/1.6 MB\u001b[0m \u001b[31m81.9 MB/s\u001b[0m eta \u001b[36m0:00:00\u001b[0m\n",
            "\u001b[?25hCollecting cliff\n",
            "  Downloading cliff-4.0.0-py3-none-any.whl (80 kB)\n",
            "\u001b[2K     \u001b[90m━━━━━━━━━━━━━━━━━━━━━━━━━━━━━━━━━━━━━━━━\u001b[0m \u001b[32m81.0/81.0 kB\u001b[0m \u001b[31m34.0 MB/s\u001b[0m eta \u001b[36m0:00:00\u001b[0m\n",
            "\u001b[?25hCollecting cmaes>=0.8.2\n",
            "  Downloading cmaes-0.8.2-py3-none-any.whl (15 kB)\n",
            "Collecting scipy>=1.4.1\n",
            "  Downloading scipy-1.8.1-cp38-cp38-manylinux_2_17_x86_64.manylinux2014_x86_64.whl (41.6 MB)\n",
            "\u001b[2K     \u001b[90m━━━━━━━━━━━━━━━━━━━━━━━━━━━━━━━━━━━━━━━━\u001b[0m \u001b[32m41.6/41.6 MB\u001b[0m \u001b[31m37.1 MB/s\u001b[0m eta \u001b[36m0:00:00\u001b[0m00:01\u001b[0m00:01\u001b[0m\n",
            "\u001b[?25hCollecting typepy[datetime]<2,>=1.2.0\n",
            "  Downloading typepy-1.3.0-py3-none-any.whl (31 kB)\n",
            "Requirement already satisfied: setuptools>=38.3.0 in /home/gitpod/.pyenv/versions/3.8.13/lib/python3.8/site-packages (from pytablewriter~=0.64->-r requirements.txt (line 9)) (62.5.0)\n",
            "Collecting tcolorpy<1,>=0.0.5\n",
            "  Downloading tcolorpy-0.1.2-py3-none-any.whl (7.9 kB)\n",
            "Collecting mbstrdecoder<2,>=1.0.0\n",
            "  Downloading mbstrdecoder-1.1.1-py3-none-any.whl (7.7 kB)\n",
            "Collecting tabledata<2,>=1.3.0\n",
            "  Downloading tabledata-1.3.0-py3-none-any.whl (11 kB)\n",
            "Collecting DataProperty<2,>=0.55.0\n",
            "  Downloading DataProperty-0.55.0-py3-none-any.whl (26 kB)\n",
            "Collecting pathvalidate<3,>=2.3.0\n",
            "  Downloading pathvalidate-2.5.2-py3-none-any.whl (20 kB)\n",
            "Collecting tenacity>=6.2.0\n",
            "  Downloading tenacity-8.1.0-py3-none-any.whl (23 kB)\n",
            "Requirement already satisfied: absl-py>=0.9.0 in /home/gitpod/.pyenv/versions/3.8.13/lib/python3.8/site-packages (from rliable>=1.0.5->-r requirements.txt (line 14)) (1.2.0)\n",
            "Collecting arch==5.3.0\n",
            "  Downloading arch-5.3.0-cp38-cp38-manylinux_2_17_x86_64.manylinux2014_x86_64.whl (907 kB)\n",
            "\u001b[2K     \u001b[90m━━━━━━━━━━━━━━━━━━━━━━━━━━━━━━━━━━━━━\u001b[0m \u001b[32m907.3/907.3 kB\u001b[0m \u001b[31m135.0 MB/s\u001b[0m eta \u001b[36m0:00:00\u001b[0m\n",
            "\u001b[?25hCollecting statsmodels>=0.11\n",
            "  Downloading statsmodels-0.13.2-cp38-cp38-manylinux_2_17_x86_64.manylinux2014_x86_64.whl (9.9 MB)\n",
            "\u001b[2K     \u001b[90m━━━━━━━━━━━━━━━━━━━━━━━━━━━━━━━━━━━━━━━━\u001b[0m \u001b[32m9.9/9.9 MB\u001b[0m \u001b[31m23.0 MB/s\u001b[0m eta \u001b[36m0:00:00\u001b[0m00:01\u001b[0m00:01\u001b[0mm\n",
            "\u001b[?25hCollecting property-cached>=1.6.4\n",
            "  Downloading property_cached-1.6.4-py2.py3-none-any.whl (7.8 kB)\n",
            "Collecting promise<3,>=2.0\n",
            "  Downloading promise-2.3.tar.gz (19 kB)\n",
            "  Preparing metadata (setup.py) ... \u001b[?25ldone\n",
            "\u001b[?25hCollecting pathtools\n",
            "  Downloading pathtools-0.1.2.tar.gz (11 kB)\n",
            "  Preparing metadata (setup.py) ... \u001b[?25ldone\n",
            "\u001b[?25hRequirement already satisfied: Click!=8.0.0,>=7.0 in /home/gitpod/.pyenv/versions/3.8.13/lib/python3.8/site-packages (from wandb->-r requirements.txt (line 15)) (8.1.3)\n",
            "Collecting sentry-sdk>=1.0.0\n",
            "  Downloading sentry_sdk-1.9.10-py2.py3-none-any.whl (162 kB)\n",
            "\u001b[2K     \u001b[90m━━━━━━━━━━━━━━━━━━━━━━━━━━━━━━━━━━━━━━\u001b[0m \u001b[32m163.0/163.0 kB\u001b[0m \u001b[31m37.2 MB/s\u001b[0m eta \u001b[36m0:00:00\u001b[0m\n",
            "\u001b[?25hCollecting docker-pycreds>=0.4.0\n",
            "  Downloading docker_pycreds-0.4.0-py2.py3-none-any.whl (9.0 kB)\n",
            "Requirement already satisfied: GitPython>=1.0.0 in /home/gitpod/.pyenv/versions/3.8.13/lib/python3.8/site-packages (from wandb->-r requirements.txt (line 15)) (3.1.27)\n",
            "Requirement already satisfied: six>=1.13.0 in /home/gitpod/.pyenv/versions/3.8.13/lib/python3.8/site-packages (from wandb->-r requirements.txt (line 15)) (1.16.0)\n",
            "Requirement already satisfied: protobuf<4.0dev,>=3.12.0 in /home/gitpod/.pyenv/versions/3.8.13/lib/python3.8/site-packages (from wandb->-r requirements.txt (line 15)) (3.19.6)\n",
            "Collecting setproctitle\n",
            "  Downloading setproctitle-1.3.2-cp38-cp38-manylinux_2_5_x86_64.manylinux1_x86_64.manylinux_2_17_x86_64.manylinux2014_x86_64.whl (31 kB)\n",
            "Collecting shortuuid>=0.5.0\n",
            "  Downloading shortuuid-1.0.9-py3-none-any.whl (9.4 kB)\n",
            "Requirement already satisfied: requests<3,>=2.0.0 in /home/gitpod/.pyenv/versions/3.8.13/lib/python3.8/site-packages (from wandb->-r requirements.txt (line 15)) (2.28.0)\n",
            "Collecting wasabi\n",
            "  Downloading wasabi-0.10.1-py3-none-any.whl (26 kB)\n",
            "Collecting huggingface-hub==0.8.1\n",
            "  Downloading huggingface_hub-0.8.1-py3-none-any.whl (101 kB)\n",
            "\u001b[2K     \u001b[90m━━━━━━━━━━━━━━━━━━━━━━━━━━━━━━━━━━━━━━\u001b[0m \u001b[32m101.5/101.5 kB\u001b[0m \u001b[31m24.9 MB/s\u001b[0m eta \u001b[36m0:00:00\u001b[0m\n",
            "\u001b[?25hRequirement already satisfied: filelock in /home/gitpod/.pyenv/versions/3.8.13/lib/python3.8/site-packages (from huggingface-hub==0.8.1->huggingface_sb3<3.*,>=2.2.1->-r requirements.txt (line 16)) (3.7.1)\n",
            "Requirement already satisfied: typing-extensions>=3.7.4.3 in /home/gitpod/.pyenv/versions/3.8.13/lib/python3.8/site-packages (from huggingface-hub==0.8.1->huggingface_sb3<3.*,>=2.2.1->-r requirements.txt (line 16)) (4.2.0)\n",
            "Requirement already satisfied: pygments<3.0.0,>=2.6.0 in /home/gitpod/.pyenv/versions/3.8.13/lib/python3.8/site-packages (from rich->-r requirements.txt (line 19)) (2.12.0)\n",
            "Requirement already satisfied: commonmark<0.10.0,>=0.9.0 in /home/gitpod/.pyenv/versions/3.8.13/lib/python3.8/site-packages (from rich->-r requirements.txt (line 19)) (0.9.1)\n",
            "Requirement already satisfied: zipp>=0.5 in /home/gitpod/.pyenv/versions/3.8.13/lib/python3.8/site-packages (from importlib-metadata~=4.13->-r requirements.txt (line 20)) (3.8.0)\n",
            "Collecting Mako\n",
            "  Downloading Mako-1.2.3-py3-none-any.whl (78 kB)\n",
            "\u001b[2K     \u001b[90m━━━━━━━━━━━━━━━━━━━━━━━━━━━━━━━━━━━━━━━━\u001b[0m \u001b[32m78.7/78.7 kB\u001b[0m \u001b[31m29.5 MB/s\u001b[0m eta \u001b[36m0:00:00\u001b[0m\n",
            "\u001b[?25hRequirement already satisfied: AutoROM.accept-rom-license in /home/gitpod/.pyenv/versions/3.8.13/lib/python3.8/site-packages (from autorom[accept-rom-license]~=0.4.2->stable-baselines3[docs,extra,tests]>=1.6.1->-r requirements.txt (line 2)) (0.4.2)\n",
            "Requirement already satisfied: pycodestyle<2.9.0,>=2.8.0 in /home/gitpod/.pyenv/versions/3.8.13/lib/python3.8/site-packages (from flake8>=3.8->stable-baselines3[docs,extra,tests]>=1.6.1->-r requirements.txt (line 2)) (2.8.0)\n",
            "Requirement already satisfied: pyflakes<2.5.0,>=2.4.0 in /home/gitpod/.pyenv/versions/3.8.13/lib/python3.8/site-packages (from flake8>=3.8->stable-baselines3[docs,extra,tests]>=1.6.1->-r requirements.txt (line 2)) (2.4.0)\n",
            "Requirement already satisfied: mccabe<0.7.0,>=0.6.0 in /home/gitpod/.pyenv/versions/3.8.13/lib/python3.8/site-packages (from flake8>=3.8->stable-baselines3[docs,extra,tests]>=1.6.1->-r requirements.txt (line 2)) (0.6.1)\n",
            "Requirement already satisfied: gitdb<5,>=4.0.1 in /home/gitpod/.pyenv/versions/3.8.13/lib/python3.8/site-packages (from GitPython>=1.0.0->wandb->-r requirements.txt (line 15)) (4.0.9)\n",
            "Requirement already satisfied: kiwisolver>=1.0.1 in /home/gitpod/.pyenv/versions/3.8.13/lib/python3.8/site-packages (from matplotlib->stable-baselines3[docs,extra,tests]>=1.6.1->-r requirements.txt (line 2)) (1.4.4)\n",
            "Requirement already satisfied: cycler>=0.10 in /home/gitpod/.pyenv/versions/3.8.13/lib/python3.8/site-packages (from matplotlib->stable-baselines3[docs,extra,tests]>=1.6.1->-r requirements.txt (line 2)) (0.11.0)\n",
            "Requirement already satisfied: pyparsing>=2.2.1 in /home/gitpod/.pyenv/versions/3.8.13/lib/python3.8/site-packages (from matplotlib->stable-baselines3[docs,extra,tests]>=1.6.1->-r requirements.txt (line 2)) (3.0.9)\n",
            "Requirement already satisfied: python-dateutil>=2.7 in /home/gitpod/.pyenv/versions/3.8.13/lib/python3.8/site-packages (from matplotlib->stable-baselines3[docs,extra,tests]>=1.6.1->-r requirements.txt (line 2)) (2.8.2)\n",
            "Requirement already satisfied: contourpy>=1.0.1 in /home/gitpod/.pyenv/versions/3.8.13/lib/python3.8/site-packages (from matplotlib->stable-baselines3[docs,extra,tests]>=1.6.1->-r requirements.txt (line 2)) (1.0.5)\n",
            "Requirement already satisfied: fonttools>=4.22.0 in /home/gitpod/.pyenv/versions/3.8.13/lib/python3.8/site-packages (from matplotlib->stable-baselines3[docs,extra,tests]>=1.6.1->-r requirements.txt (line 2)) (4.37.4)\n",
            "Collecting chardet<6,>=3.0.4\n",
            "  Downloading chardet-5.0.0-py3-none-any.whl (193 kB)\n",
            "\u001b[2K     \u001b[90m━━━━━━━━━━━━━━━━━━━━━━━━━━━━━━━━━━━━━━\u001b[0m \u001b[32m193.6/193.6 kB\u001b[0m \u001b[31m47.6 MB/s\u001b[0m eta \u001b[36m0:00:00\u001b[0m\n",
            "\u001b[?25hRequirement already satisfied: pytz>=2020.1 in /home/gitpod/.pyenv/versions/3.8.13/lib/python3.8/site-packages (from pandas->stable-baselines3[docs,extra,tests]>=1.6.1->-r requirements.txt (line 2)) (2022.4)\n",
            "Requirement already satisfied: charset-normalizer~=2.0.0 in /home/gitpod/.pyenv/versions/3.8.13/lib/python3.8/site-packages (from requests<3,>=2.0.0->wandb->-r requirements.txt (line 15)) (2.0.12)\n",
            "Requirement already satisfied: urllib3<1.27,>=1.21.1 in /home/gitpod/.pyenv/versions/3.8.13/lib/python3.8/site-packages (from requests<3,>=2.0.0->wandb->-r requirements.txt (line 15)) (1.26.9)\n",
            "Requirement already satisfied: certifi>=2017.4.17 in /home/gitpod/.pyenv/versions/3.8.13/lib/python3.8/site-packages (from requests<3,>=2.0.0->wandb->-r requirements.txt (line 15)) (2022.6.15)\n",
            "Requirement already satisfied: idna<4,>=2.5 in /home/gitpod/.pyenv/versions/3.8.13/lib/python3.8/site-packages (from requests<3,>=2.0.0->wandb->-r requirements.txt (line 15)) (3.3)\n",
            "Collecting threadpoolctl>=2.0.0\n",
            "  Downloading threadpoolctl-3.1.0-py3-none-any.whl (14 kB)\n",
            "Collecting urllib3<1.27,>=1.21.1\n",
            "  Using cached urllib3-1.26.12-py2.py3-none-any.whl (140 kB)\n",
            "Collecting greenlet!=0.4.17\n",
            "  Downloading greenlet-1.1.3-cp38-cp38-manylinux_2_17_x86_64.manylinux2014_x86_64.whl (157 kB)\n",
            "\u001b[2K     \u001b[90m━━━━━━━━━━━━━━━━━━━━━━━━━━━━━━━━━━━━━━\u001b[0m \u001b[32m157.1/157.1 kB\u001b[0m \u001b[31m44.1 MB/s\u001b[0m eta \u001b[36m0:00:00\u001b[0m\n",
            "\u001b[?25hRequirement already satisfied: tensorboard-data-server<0.7.0,>=0.6.0 in /home/gitpod/.pyenv/versions/3.8.13/lib/python3.8/site-packages (from tensorboard>=2.9.1->stable-baselines3[docs,extra,tests]>=1.6.1->-r requirements.txt (line 2)) (0.6.1)\n",
            "Requirement already satisfied: grpcio>=1.24.3 in /home/gitpod/.pyenv/versions/3.8.13/lib/python3.8/site-packages (from tensorboard>=2.9.1->stable-baselines3[docs,extra,tests]>=1.6.1->-r requirements.txt (line 2)) (1.49.1)\n",
            "Requirement already satisfied: tensorboard-plugin-wit>=1.6.0 in /home/gitpod/.pyenv/versions/3.8.13/lib/python3.8/site-packages (from tensorboard>=2.9.1->stable-baselines3[docs,extra,tests]>=1.6.1->-r requirements.txt (line 2)) (1.8.1)\n",
            "Requirement already satisfied: markdown>=2.6.8 in /home/gitpod/.pyenv/versions/3.8.13/lib/python3.8/site-packages (from tensorboard>=2.9.1->stable-baselines3[docs,extra,tests]>=1.6.1->-r requirements.txt (line 2)) (3.4.1)\n",
            "Requirement already satisfied: google-auth<3,>=1.6.3 in /home/gitpod/.pyenv/versions/3.8.13/lib/python3.8/site-packages (from tensorboard>=2.9.1->stable-baselines3[docs,extra,tests]>=1.6.1->-r requirements.txt (line 2)) (2.12.0)\n",
            "Requirement already satisfied: wheel>=0.26 in /home/gitpod/.pyenv/versions/3.8.13/lib/python3.8/site-packages (from tensorboard>=2.9.1->stable-baselines3[docs,extra,tests]>=1.6.1->-r requirements.txt (line 2)) (0.37.1)\n",
            "Requirement already satisfied: google-auth-oauthlib<0.5,>=0.4.1 in /home/gitpod/.pyenv/versions/3.8.13/lib/python3.8/site-packages (from tensorboard>=2.9.1->stable-baselines3[docs,extra,tests]>=1.6.1->-r requirements.txt (line 2)) (0.4.6)\n",
            "Requirement already satisfied: werkzeug>=1.0.1 in /home/gitpod/.pyenv/versions/3.8.13/lib/python3.8/site-packages (from tensorboard>=2.9.1->stable-baselines3[docs,extra,tests]>=1.6.1->-r requirements.txt (line 2)) (2.2.2)\n",
            "Collecting pathspec>=0.9.0\n",
            "  Downloading pathspec-0.10.1-py3-none-any.whl (27 kB)\n",
            "Requirement already satisfied: platformdirs>=2 in /home/gitpod/.pyenv/versions/3.8.13/lib/python3.8/site-packages (from black->stable-baselines3[docs,extra,tests]>=1.6.1->-r requirements.txt (line 2)) (2.5.2)\n",
            "Requirement already satisfied: tomli>=1.1.0 in /home/gitpod/.pyenv/versions/3.8.13/lib/python3.8/site-packages (from black->stable-baselines3[docs,extra,tests]>=1.6.1->-r requirements.txt (line 2)) (2.0.1)\n",
            "Requirement already satisfied: mypy-extensions>=0.4.3 in /home/gitpod/.pyenv/versions/3.8.13/lib/python3.8/site-packages (from black->stable-baselines3[docs,extra,tests]>=1.6.1->-r requirements.txt (line 2)) (0.4.3)\n",
            "Collecting PrettyTable>=0.7.2\n",
            "  Downloading prettytable-3.4.1-py3-none-any.whl (26 kB)\n",
            "Requirement already satisfied: stevedore>=2.0.1 in /home/gitpod/.pyenv/versions/3.8.13/lib/python3.8/site-packages (from cliff->optuna->-r requirements.txt (line 8)) (3.5.0)\n",
            "Collecting autopage>=0.4.0\n",
            "  Downloading autopage-0.5.1-py3-none-any.whl (29 kB)\n",
            "Collecting cmd2>=1.0.0\n",
            "  Downloading cmd2-2.4.2-py3-none-any.whl (147 kB)\n",
            "\u001b[2K     \u001b[90m━━━━━━━━━━━━━━━━━━━━━━━━━━━━━━━━━━━━━━\u001b[0m \u001b[32m147.1/147.1 kB\u001b[0m \u001b[31m46.5 MB/s\u001b[0m eta \u001b[36m0:00:00\u001b[0m\n",
            "\u001b[?25hRequirement already satisfied: attrs>=19.2.0 in /home/gitpod/.pyenv/versions/3.8.13/lib/python3.8/site-packages (from flake8-bugbear->stable-baselines3[docs,extra,tests]>=1.6.1->-r requirements.txt (line 2)) (21.4.0)\n",
            "Collecting iniconfig\n",
            "  Downloading iniconfig-1.1.1-py2.py3-none-any.whl (5.0 kB)\n",
            "Collecting pluggy<2.0,>=0.12\n",
            "  Downloading pluggy-1.0.0-py2.py3-none-any.whl (13 kB)\n",
            "Collecting py>=1.8.2\n",
            "  Downloading py-1.11.0-py2.py3-none-any.whl (98 kB)\n",
            "\u001b[2K     \u001b[90m━━━━━━━━━━━━━━━━━━━━━━━━━━━━━━━━━━━━━━━━\u001b[0m \u001b[32m98.7/98.7 kB\u001b[0m \u001b[31m34.4 MB/s\u001b[0m eta \u001b[36m0:00:00\u001b[0m\n",
            "\u001b[?25hCollecting coverage[toml]>=5.2.1\n",
            "  Downloading coverage-6.5.0-cp38-cp38-manylinux_2_5_x86_64.manylinux1_x86_64.manylinux_2_17_x86_64.manylinux2014_x86_64.whl (214 kB)\n",
            "\u001b[2K     \u001b[90m━━━━━━━━━━━━━━━━━━━━━━━━━━━━━━━━━━━━━━\u001b[0m \u001b[32m214.4/214.4 kB\u001b[0m \u001b[31m53.8 MB/s\u001b[0m eta \u001b[36m0:00:00\u001b[0m\n",
            "\u001b[?25hCollecting execnet>=1.1\n",
            "  Downloading execnet-1.9.0-py2.py3-none-any.whl (39 kB)\n",
            "Collecting pytest-forked\n",
            "  Downloading pytest_forked-1.4.0-py3-none-any.whl (4.9 kB)\n",
            "Collecting pydot>=1.4.2\n",
            "  Downloading pydot-1.4.2-py2.py3-none-any.whl (21 kB)\n",
            "Collecting libcst>=0.4.5\n",
            "  Downloading libcst-0.4.7-cp38-cp38-manylinux_2_17_x86_64.manylinux2014_x86_64.whl (2.7 MB)\n",
            "\u001b[2K     \u001b[90m━━━━━━━━━━━━━━━━━━━━━━━━━━━━━━━━━━━━━━━━\u001b[0m \u001b[32m2.7/2.7 MB\u001b[0m \u001b[31m120.9 MB/s\u001b[0m eta \u001b[36m0:00:00\u001b[0m\n",
            "\u001b[?25hCollecting networkx<2.8.4\n",
            "  Downloading networkx-2.8.3-py3-none-any.whl (2.0 MB)\n",
            "\u001b[2K     \u001b[90m━━━━━━━━━━━━━━━━━━━━━━━━━━━━━━━━━━━━━━━━\u001b[0m \u001b[32m2.0/2.0 MB\u001b[0m \u001b[31m134.6 MB/s\u001b[0m eta \u001b[36m0:00:00\u001b[0m\n",
            "\u001b[?25hRequirement already satisfied: toml>=0.10.2 in /home/gitpod/.pyenv/versions/3.8.13/lib/python3.8/site-packages (from pytype->stable-baselines3[docs,extra,tests]>=1.6.1->-r requirements.txt (line 2)) (0.10.2)\n",
            "Collecting typing-extensions>=3.7.4.3\n",
            "  Downloading typing_extensions-4.3.0-py3-none-any.whl (25 kB)\n",
            "Collecting ninja>=1.10.0.post2\n",
            "  Downloading ninja-1.10.2.4-py2.py3-none-manylinux_2_5_x86_64.manylinux1_x86_64.whl (120 kB)\n",
            "\u001b[2K     \u001b[90m━━━━━━━━━━━━━━━━━━━━━━━━━━━━━━━━━━━━━━\u001b[0m \u001b[32m120.7/120.7 kB\u001b[0m \u001b[31m35.9 MB/s\u001b[0m eta \u001b[36m0:00:00\u001b[0m\n",
            "\u001b[?25hCollecting tabulate>=0.8.10\n",
            "  Downloading tabulate-0.8.10-py3-none-any.whl (29 kB)\n",
            "Collecting importlab>=0.8\n",
            "  Downloading importlab-0.8-py2.py3-none-any.whl (21 kB)\n",
            "Collecting sphinxcontrib-qthelp\n",
            "  Downloading sphinxcontrib_qthelp-1.0.3-py2.py3-none-any.whl (90 kB)\n",
            "\u001b[2K     \u001b[90m━━━━━━━━━━━━━━━━━━━━━━━━━━━━━━━━━━━━━━━━\u001b[0m \u001b[32m90.6/90.6 kB\u001b[0m \u001b[31m28.7 MB/s\u001b[0m eta \u001b[36m0:00:00\u001b[0m\n",
            "\u001b[?25hCollecting babel>=2.9\n",
            "  Downloading Babel-2.10.3-py3-none-any.whl (9.5 MB)\n",
            "\u001b[2K     \u001b[90m━━━━━━━━━━━━━━━━━━━━━━━━━━━━━━━━━━━━━━━━\u001b[0m \u001b[32m9.5/9.5 MB\u001b[0m \u001b[31m149.0 MB/s\u001b[0m eta \u001b[36m0:00:00\u001b[0ma \u001b[36m0:00:01\u001b[0m\n",
            "\u001b[?25hCollecting sphinxcontrib-devhelp\n",
            "  Downloading sphinxcontrib_devhelp-1.0.2-py2.py3-none-any.whl (84 kB)\n",
            "\u001b[2K     \u001b[90m━━━━━━━━━━━━━━━━━━━━━━━━━━━━━━━━━━━━━━━━\u001b[0m \u001b[32m84.7/84.7 kB\u001b[0m \u001b[31m34.5 MB/s\u001b[0m eta \u001b[36m0:00:00\u001b[0m\n",
            "\u001b[?25hRequirement already satisfied: Jinja2>=3.0 in /home/gitpod/.pyenv/versions/3.8.13/lib/python3.8/site-packages (from sphinx->stable-baselines3[docs,extra,tests]>=1.6.1->-r requirements.txt (line 2)) (3.1.2)\n",
            "Collecting sphinxcontrib-applehelp\n",
            "  Downloading sphinxcontrib_applehelp-1.0.2-py2.py3-none-any.whl (121 kB)\n",
            "\u001b[2K     \u001b[90m━━━━━━━━━━━━━━━━━━━━━━━━━━━━━━━━━━━━━━\u001b[0m \u001b[32m121.2/121.2 kB\u001b[0m \u001b[31m47.6 MB/s\u001b[0m eta \u001b[36m0:00:00\u001b[0m\n",
            "\u001b[?25hCollecting sphinxcontrib-jsmath\n",
            "  Downloading sphinxcontrib_jsmath-1.0.1-py2.py3-none-any.whl (5.1 kB)\n",
            "Collecting sphinxcontrib-htmlhelp>=2.0.0\n",
            "  Downloading sphinxcontrib_htmlhelp-2.0.0-py2.py3-none-any.whl (100 kB)\n",
            "\u001b[2K     \u001b[90m━━━━━━━━━━━━━━━━━━━━━━━━━━━━━━━━━━━━━━\u001b[0m \u001b[32m100.5/100.5 kB\u001b[0m \u001b[31m41.3 MB/s\u001b[0m eta \u001b[36m0:00:00\u001b[0m\n",
            "\u001b[?25hCollecting imagesize>=1.3\n",
            "  Downloading imagesize-1.4.1-py2.py3-none-any.whl (8.8 kB)\n",
            "Collecting alabaster<0.8,>=0.7\n",
            "  Downloading alabaster-0.7.12-py2.py3-none-any.whl (14 kB)\n",
            "Requirement already satisfied: docutils<0.20,>=0.14 in /home/gitpod/.pyenv/versions/3.8.13/lib/python3.8/site-packages (from sphinx->stable-baselines3[docs,extra,tests]>=1.6.1->-r requirements.txt (line 2)) (0.18.1)\n",
            "Collecting sphinxcontrib-serializinghtml>=1.1.5\n",
            "  Downloading sphinxcontrib_serializinghtml-1.1.5-py2.py3-none-any.whl (94 kB)\n",
            "\u001b[2K     \u001b[90m━━━━━━━━━━━━━━━━━━━━━━━━━━━━━━━━━━━━━━━━\u001b[0m \u001b[32m94.0/94.0 kB\u001b[0m \u001b[31m36.7 MB/s\u001b[0m eta \u001b[36m0:00:00\u001b[0m\n",
            "\u001b[?25hRequirement already satisfied: snowballstemmer>=2.0 in /home/gitpod/.pyenv/versions/3.8.13/lib/python3.8/site-packages (from sphinx->stable-baselines3[docs,extra,tests]>=1.6.1->-r requirements.txt (line 2)) (2.2.0)\n",
            "Collecting colorama\n",
            "  Downloading colorama-0.4.5-py2.py3-none-any.whl (16 kB)\n",
            "Collecting livereload\n",
            "  Downloading livereload-2.6.3.tar.gz (25 kB)\n",
            "  Preparing metadata (setup.py) ... \u001b[?25ldone\n",
            "\u001b[?25hCollecting docutils<0.20,>=0.14\n",
            "  Downloading docutils-0.17.1-py2.py3-none-any.whl (575 kB)\n",
            "\u001b[2K     \u001b[90m━━━━━━━━━━━━━━━━━━━━━━━━━━━━━━━━━━━━━\u001b[0m \u001b[32m575.5/575.5 kB\u001b[0m \u001b[31m104.6 MB/s\u001b[0m eta \u001b[36m0:00:00\u001b[0m\n",
            "\u001b[?25hCollecting PyEnchant>=3.1.1\n",
            "  Downloading pyenchant-3.2.2-py3-none-any.whl (55 kB)\n",
            "\u001b[2K     \u001b[90m━━━━━━━━━━━━━━━━━━━━━━━━━━━━━━━━━━━━━━━━\u001b[0m \u001b[32m55.7/55.7 kB\u001b[0m \u001b[31m22.2 MB/s\u001b[0m eta \u001b[36m0:00:00\u001b[0m\n",
            "\u001b[?25hCollecting pyperclip>=1.6\n",
            "  Downloading pyperclip-1.8.2.tar.gz (20 kB)\n",
            "  Preparing metadata (setup.py) ... \u001b[?25ldone\n",
            "\u001b[?25hRequirement already satisfied: wcwidth>=0.1.7 in /home/gitpod/.pyenv/versions/3.8.13/lib/python3.8/site-packages (from cmd2>=1.0.0->cliff->optuna->-r requirements.txt (line 8)) (0.2.5)\n",
            "Requirement already satisfied: smmap<6,>=3.0.1 in /home/gitpod/.pyenv/versions/3.8.13/lib/python3.8/site-packages (from gitdb<5,>=4.0.1->GitPython>=1.0.0->wandb->-r requirements.txt (line 15)) (5.0.0)\n",
            "Requirement already satisfied: cachetools<6.0,>=2.0.0 in /home/gitpod/.pyenv/versions/3.8.13/lib/python3.8/site-packages (from google-auth<3,>=1.6.3->tensorboard>=2.9.1->stable-baselines3[docs,extra,tests]>=1.6.1->-r requirements.txt (line 2)) (5.2.0)\n",
            "Requirement already satisfied: pyasn1-modules>=0.2.1 in /home/gitpod/.pyenv/versions/3.8.13/lib/python3.8/site-packages (from google-auth<3,>=1.6.3->tensorboard>=2.9.1->stable-baselines3[docs,extra,tests]>=1.6.1->-r requirements.txt (line 2)) (0.2.8)\n",
            "Requirement already satisfied: rsa<5,>=3.1.4 in /home/gitpod/.pyenv/versions/3.8.13/lib/python3.8/site-packages (from google-auth<3,>=1.6.3->tensorboard>=2.9.1->stable-baselines3[docs,extra,tests]>=1.6.1->-r requirements.txt (line 2)) (4.9)\n",
            "Requirement already satisfied: requests-oauthlib>=0.7.0 in /home/gitpod/.pyenv/versions/3.8.13/lib/python3.8/site-packages (from google-auth-oauthlib<0.5,>=0.4.1->tensorboard>=2.9.1->stable-baselines3[docs,extra,tests]>=1.6.1->-r requirements.txt (line 2)) (1.3.1)\n",
            "Requirement already satisfied: MarkupSafe>=2.0 in /home/gitpod/.pyenv/versions/3.8.13/lib/python3.8/site-packages (from Jinja2>=3.0->sphinx->stable-baselines3[docs,extra,tests]>=1.6.1->-r requirements.txt (line 2)) (2.1.1)\n",
            "Collecting typing-inspect>=0.4.0\n",
            "  Downloading typing_inspect-0.8.0-py3-none-any.whl (8.7 kB)\n",
            "Collecting patsy>=0.5.2\n",
            "  Downloading patsy-0.5.2-py2.py3-none-any.whl (233 kB)\n",
            "\u001b[2K     \u001b[90m━━━━━━━━━━━━━━━━━━━━━━━━━━━━━━━━━━━━━━\u001b[0m \u001b[32m233.7/233.7 kB\u001b[0m \u001b[31m56.6 MB/s\u001b[0m eta \u001b[36m0:00:00\u001b[0m\n",
            "\u001b[?25hRequirement already satisfied: pbr!=2.1.0,>=2.0.0 in /home/gitpod/.pyenv/versions/3.8.13/lib/python3.8/site-packages (from stevedore>=2.0.1->cliff->optuna->-r requirements.txt (line 8)) (5.9.0)\n",
            "Requirement already satisfied: tornado in /home/gitpod/.pyenv/versions/3.8.13/lib/python3.8/site-packages (from livereload->sphinx-autobuild->stable-baselines3[docs,extra,tests]>=1.6.1->-r requirements.txt (line 2)) (6.1)\n",
            "Requirement already satisfied: pyasn1<0.5.0,>=0.4.6 in /home/gitpod/.pyenv/versions/3.8.13/lib/python3.8/site-packages (from pyasn1-modules>=0.2.1->google-auth<3,>=1.6.3->tensorboard>=2.9.1->stable-baselines3[docs,extra,tests]>=1.6.1->-r requirements.txt (line 2)) (0.4.8)\n",
            "Requirement already satisfied: oauthlib>=3.0.0 in /home/gitpod/.pyenv/versions/3.8.13/lib/python3.8/site-packages (from requests-oauthlib>=0.7.0->google-auth-oauthlib<0.5,>=0.4.1->tensorboard>=2.9.1->stable-baselines3[docs,extra,tests]>=1.6.1->-r requirements.txt (line 2)) (3.2.1)\n",
            "Building wheels for collected packages: box2d-py, promise, pathtools, pytest-env, livereload, pyperclip\n",
            "  Building wheel for box2d-py (setup.py) ... \u001b[?25ldone\n",
            "\u001b[?25h  Created wheel for box2d-py: filename=box2d_py-2.3.8-cp38-cp38-linux_x86_64.whl size=3085078 sha256=d9540f7ce7d6648cb92d11b31027ba9cbc2ab649982cae441e078fa4b1f0d8f9\n",
            "  Stored in directory: /home/gitpod/.cache/pip/wheels/cc/4f/d6/44eb0a9e6fea384e58f19cb0c4125e46a23af2b33fe3a7e81c\n",
            "  Building wheel for promise (setup.py) ... \u001b[?25ldone\n",
            "\u001b[?25h  Created wheel for promise: filename=promise-2.3-py3-none-any.whl size=21486 sha256=65569292f8bf7fb5601cd500ce1220212580bd98e83b04cd0a599517c97bbd4e\n",
            "  Stored in directory: /home/gitpod/.cache/pip/wheels/54/aa/01/724885182f93150035a2a91bce34a12877e8067a97baaf5dc8\n",
            "  Building wheel for pathtools (setup.py) ... \u001b[?25ldone\n",
            "\u001b[?25h  Created wheel for pathtools: filename=pathtools-0.1.2-py3-none-any.whl size=8792 sha256=34e4f92c34ea030f692e74e9e219f17d106e40df38424b0dc03b4ae796ee6528\n",
            "  Stored in directory: /home/gitpod/.cache/pip/wheels/4c/8e/7e/72fbc243e1aeecae64a96875432e70d4e92f3d2d18123be004\n",
            "  Building wheel for pytest-env (setup.py) ... \u001b[?25ldone\n",
            "\u001b[?25h  Created wheel for pytest-env: filename=pytest_env-0.6.2-py3-none-any.whl size=2351 sha256=de1298505f0d5b39804885f31f0d0c1b32023bc008aac02e5673e44227687b2a\n",
            "  Stored in directory: /home/gitpod/.cache/pip/wheels/37/01/73/bbe6b92b251c90dbe27c15b8e5b57085b9b53dfe018e9b6cea\n",
            "  Building wheel for livereload (setup.py) ... \u001b[?25ldone\n",
            "\u001b[?25h  Created wheel for livereload: filename=livereload-2.6.3-py2.py3-none-any.whl size=24707 sha256=aabe57554dbb42e9c6f351364e4c5aee25f3231480072d1bd8629f713fa58954\n",
            "  Stored in directory: /home/gitpod/.cache/pip/wheels/48/d7/34/372e0521bd5c9f6dcdff307e37ef6f9c00c1e1e2afc9707b5c\n",
            "  Building wheel for pyperclip (setup.py) ... \u001b[?25ldone\n",
            "\u001b[?25h  Created wheel for pyperclip: filename=pyperclip-1.8.2-py3-none-any.whl size=11123 sha256=0d8be9ad0c8f5ab9b3ccc791a9b0c8488c5fbaf653e2b09d3dd059b55c2aab80\n",
            "  Stored in directory: /home/gitpod/.cache/pip/wheels/7f/1a/65/84ff8c386bec21fca6d220ea1f5498a0367883a78dd5ba6122\n",
            "Successfully built box2d-py promise pathtools pytest-env livereload pyperclip\n",
            "Installing collected packages: wasabi, pyperclip, pybullet, pathtools, ninja, iniconfig, box2d-py, alabaster, urllib3, typing-extensions, threadpoolctl, tenacity, tcolorpy, tabulate, sphinxcontrib-serializinghtml, sphinxcontrib-qthelp, sphinxcontrib-jsmath, sphinxcontrib-htmlhelp, sphinxcontrib-devhelp, sphinxcontrib-applehelp, shortuuid, setproctitle, scipy, PyEnchant, pydot, pyaml, py, property-cached, promise, PrettyTable, pluggy, patsy, pathvalidate, pathspec, networkx, Mako, livereload, joblib, importlib-metadata, imagesize, greenlet, execnet, docutils, docker-pycreds, coverage, colorlog, colorama, cmd2, cmaes, chardet, babel, autopage, typing-inspect, sqlalchemy, sentry-sdk, scikit-learn, pytest, plotly, panda-gym, mbstrdecoder, importlab, gym-minigrid, flake8-bugbear, cliff, black, wandb, typepy, statsmodels, sphinx, seaborn, scikit-optimize, pytest-forked, pytest-env, pytest-cov, libcst, huggingface-hub, alembic, sphinxcontrib.spelling, sphinx-rtd-theme, sphinx-copybutton, sphinx-autodoc-typehints, sphinx-autobuild, sb3-contrib, pytype, pytest-xdist, optuna, huggingface_sb3, arch, rliable, DataProperty, tabledata, pytablewriter\n",
            "  Attempting uninstall: urllib3\n",
            "    Found existing installation: urllib3 1.26.9\n",
            "    Uninstalling urllib3-1.26.9:\n",
            "      Successfully uninstalled urllib3-1.26.9\n",
            "  Attempting uninstall: typing-extensions\n",
            "    Found existing installation: typing_extensions 4.2.0\n",
            "    Uninstalling typing_extensions-4.2.0:\n",
            "      Successfully uninstalled typing_extensions-4.2.0\n",
            "  Attempting uninstall: importlib-metadata\n",
            "    Found existing installation: importlib-metadata 4.11.4\n",
            "    Uninstalling importlib-metadata-4.11.4:\n",
            "      Successfully uninstalled importlib-metadata-4.11.4\n",
            "  Attempting uninstall: docutils\n",
            "    Found existing installation: docutils 0.18.1\n",
            "    Uninstalling docutils-0.18.1:\n",
            "      Successfully uninstalled docutils-0.18.1\n",
            "Successfully installed DataProperty-0.55.0 Mako-1.2.3 PrettyTable-3.4.1 PyEnchant-3.2.2 alabaster-0.7.12 alembic-1.8.1 arch-5.3.0 autopage-0.5.1 babel-2.10.3 black-22.8.0 box2d-py-2.3.8 chardet-5.0.0 cliff-4.0.0 cmaes-0.8.2 cmd2-2.4.2 colorama-0.4.5 colorlog-6.7.0 coverage-6.5.0 docker-pycreds-0.4.0 docutils-0.17.1 execnet-1.9.0 flake8-bugbear-22.9.23 greenlet-1.1.3 gym-minigrid-1.0.3 huggingface-hub-0.8.1 huggingface_sb3-2.2.3 imagesize-1.4.1 importlab-0.8 importlib-metadata-4.13.0 iniconfig-1.1.1 joblib-1.2.0 libcst-0.4.7 livereload-2.6.3 mbstrdecoder-1.1.1 networkx-2.8.3 ninja-1.10.2.4 optuna-3.0.2 panda-gym-1.1.1 pathspec-0.10.1 pathtools-0.1.2 pathvalidate-2.5.2 patsy-0.5.2 plotly-5.10.0 pluggy-1.0.0 promise-2.3 property-cached-1.6.4 py-1.11.0 pyaml-21.10.1 pybullet-3.2.5 pydot-1.4.2 pyperclip-1.8.2 pytablewriter-0.64.2 pytest-7.1.3 pytest-cov-4.0.0 pytest-env-0.6.2 pytest-forked-1.4.0 pytest-xdist-2.5.0 pytype-2022.9.27 rliable-1.0.8 sb3-contrib-1.6.1 scikit-learn-1.1.2 scikit-optimize-0.9.0 scipy-1.8.1 seaborn-0.12.0 sentry-sdk-1.9.10 setproctitle-1.3.2 shortuuid-1.0.9 sphinx-5.2.3 sphinx-autobuild-2021.3.14 sphinx-autodoc-typehints-1.19.4 sphinx-copybutton-0.5.0 sphinx-rtd-theme-1.0.0 sphinxcontrib-applehelp-1.0.2 sphinxcontrib-devhelp-1.0.2 sphinxcontrib-htmlhelp-2.0.0 sphinxcontrib-jsmath-1.0.1 sphinxcontrib-qthelp-1.0.3 sphinxcontrib-serializinghtml-1.1.5 sphinxcontrib.spelling-7.6.0 sqlalchemy-1.4.41 statsmodels-0.13.2 tabledata-1.3.0 tabulate-0.8.10 tcolorpy-0.1.2 tenacity-8.1.0 threadpoolctl-3.1.0 typepy-1.3.0 typing-extensions-4.3.0 typing-inspect-0.8.0 urllib3-1.26.12 wandb-0.13.3 wasabi-0.10.1\n"
          ]
        }
      ],
      "source": [
        "!pip install -r requirements.txt"
      ]
    },
    {
      "cell_type": "markdown",
      "metadata": {
        "colab_type": "text",
        "id": "6gJ-pAbF7zRZ"
      },
      "source": [
        "## Train an RL Agent\n",
        "\n",
        "\n",
        "The train agent can be found in the `logs/` folder.\n",
        "\n",
        "Here we will train A2C on CartPole-v1 environment for 100 000 steps. \n",
        "\n",
        "\n",
        "To train it on Pong (Atari), you just have to pass `--env PongNoFrameskip-v4`\n",
        "\n",
        "Note: You need to update `hyperparams/algo.yml` to support new environments. You can access it in the side panel of Google Colab. (see https://stackoverflow.com/questions/46986398/import-data-into-google-colaboratory)"
      ]
    },
    {
      "cell_type": "code",
      "execution_count": 5,
      "metadata": {
        "colab": {},
        "colab_type": "code",
        "id": "9bIR_N7R11XI"
      },
      "outputs": [
        {
          "name": "stdout",
          "output_type": "stream",
          "text": [
            "/home/gitpod/.pyenv/versions/3.8.13/lib/python3.8/site-packages/requests/__init__.py:109: RequestsDependencyWarning: urllib3 (1.26.12) or chardet (5.0.0)/charset_normalizer (2.0.12) doesn't match a supported version!\n",
            "  warnings.warn(\n",
            "========== CartPole-v1 ==========\n",
            "Seed: 1099202579\n",
            "Loading hyperparameters from: /workspace/rl-colab-notebooks/rl-baselines3-zoo/hyperparams/a2c.yml\n",
            "Default hyperparameters for environment (ones being tuned will be overridden):\n",
            "OrderedDict([('ent_coef', 0.0),\n",
            "             ('n_envs', 8),\n",
            "             ('n_timesteps', 500000.0),\n",
            "             ('policy', 'MlpPolicy')])\n",
            "Using 8 environments\n",
            "Overwriting n_timesteps with n=10000\n",
            "Creating test environment\n",
            "Using cpu device\n",
            "Log path: logs/a2c/CartPole-v1_1\n",
            "------------------------------------\n",
            "| rollout/              |          |\n",
            "|    ep_len_mean        | 32.7     |\n",
            "|    ep_rew_mean        | 32.7     |\n",
            "| time/                 |          |\n",
            "|    fps                | 1923     |\n",
            "|    iterations         | 100      |\n",
            "|    time_elapsed       | 2        |\n",
            "|    total_timesteps    | 4000     |\n",
            "| train/                |          |\n",
            "|    entropy_loss       | -0.583   |\n",
            "|    explained_variance | 0.00382  |\n",
            "|    learning_rate      | 0.0007   |\n",
            "|    n_updates          | 99       |\n",
            "|    policy_loss        | 0.444    |\n",
            "|    value_loss         | 21.7     |\n",
            "------------------------------------\n",
            "------------------------------------\n",
            "| rollout/              |          |\n",
            "|    ep_len_mean        | 62.2     |\n",
            "|    ep_rew_mean        | 62.2     |\n",
            "| time/                 |          |\n",
            "|    fps                | 2347     |\n",
            "|    iterations         | 200      |\n",
            "|    time_elapsed       | 3        |\n",
            "|    total_timesteps    | 8000     |\n",
            "| train/                |          |\n",
            "|    entropy_loss       | -0.588   |\n",
            "|    explained_variance | 0.184    |\n",
            "|    learning_rate      | 0.0007   |\n",
            "|    n_updates          | 199      |\n",
            "|    policy_loss        | 1.58     |\n",
            "|    value_loss         | 6.34     |\n",
            "------------------------------------\n",
            "Saving to logs/a2c/CartPole-v1_1\n"
          ]
        }
      ],
      "source": [
        "!python train.py --algo a2c --env CartPole-v1 --n-timesteps 10000"
      ]
    },
    {
      "cell_type": "markdown",
      "metadata": {
        "colab_type": "text",
        "id": "-fHBq73665yD"
      },
      "source": [
        "#### Evaluate trained agent\n",
        "\n",
        "\n",
        "You can remove the `--folder logs/` to evaluate pretrained agent."
      ]
    },
    {
      "cell_type": "code",
      "execution_count": 6,
      "metadata": {
        "colab": {},
        "colab_type": "code",
        "id": "Bw8YuEgU6bT3"
      },
      "outputs": [
        {
          "name": "stdout",
          "output_type": "stream",
          "text": [
            "/home/gitpod/.pyenv/versions/3.8.13/lib/python3.8/site-packages/requests/__init__.py:109: RequestsDependencyWarning: urllib3 (1.26.12) or chardet (5.0.0)/charset_normalizer (2.0.12) doesn't match a supported version!\n",
            "  warnings.warn(\n",
            "Loading latest experiment, id=1\n",
            "Loading logs/a2c/CartPole-v1_1/CartPole-v1.zip\n",
            "Episode Reward: 127.00\n",
            "Episode Length 127\n",
            "Episode Reward: 146.00\n",
            "Episode Length 146\n",
            "Episode Reward: 188.00\n",
            "Episode Length 188\n",
            "Episode Reward: 116.00\n",
            "Episode Length 116\n",
            "Episode Reward: 207.00\n",
            "Episode Length 207\n",
            "Episode Reward: 140.00\n",
            "Episode Length 140\n",
            "Episode Reward: 116.00\n",
            "Episode Length 116\n",
            "Episode Reward: 150.00\n",
            "Episode Length 150\n",
            "Episode Reward: 136.00\n",
            "Episode Length 136\n",
            "Episode Reward: 130.00\n",
            "Episode Length 130\n",
            "Episode Reward: 200.00\n",
            "Episode Length 200\n",
            "Episode Reward: 110.00\n",
            "Episode Length 110\n",
            "Episode Reward: 190.00\n",
            "Episode Length 190\n",
            "Episode Reward: 146.00\n",
            "Episode Length 146\n",
            "Episode Reward: 110.00\n",
            "Episode Length 110\n",
            "Episode Reward: 359.00\n",
            "Episode Length 359\n",
            "Episode Reward: 122.00\n",
            "Episode Length 122\n",
            "Episode Reward: 180.00\n",
            "Episode Length 180\n",
            "Episode Reward: 142.00\n",
            "Episode Length 142\n",
            "Episode Reward: 119.00\n",
            "Episode Length 119\n",
            "Episode Reward: 203.00\n",
            "Episode Length 203\n",
            "Episode Reward: 136.00\n",
            "Episode Length 136\n",
            "Episode Reward: 159.00\n",
            "Episode Length 159\n",
            "Episode Reward: 155.00\n",
            "Episode Length 155\n",
            "Episode Reward: 138.00\n",
            "Episode Length 138\n",
            "Episode Reward: 142.00\n",
            "Episode Length 142\n",
            "Episode Reward: 129.00\n",
            "Episode Length 129\n",
            "Episode Reward: 231.00\n",
            "Episode Length 231\n",
            "Episode Reward: 144.00\n",
            "Episode Length 144\n",
            "Episode Reward: 128.00\n",
            "Episode Length 128\n",
            "Episode Reward: 118.00\n",
            "Episode Length 118\n",
            "Episode Reward: 140.00\n",
            "Episode Length 140\n",
            "32 Episodes\n",
            "Mean reward: 154.91 +/- 47.81\n",
            "Mean episode length: 154.91 +/- 47.81\n"
          ]
        }
      ],
      "source": [
        "!python enjoy.py --algo a2c --env CartPole-v1 --no-render --n-timesteps 5000 --folder logs/"
      ]
    },
    {
      "cell_type": "markdown",
      "metadata": {
        "colab_type": "text",
        "id": "w5Il2J0VHPLC"
      },
      "source": [
        "#### Tune Hyperparameters\n",
        "\n",
        "We use [Optuna](https://optuna.org/) for optimizing the hyperparameters.\n",
        "\n",
        "Tune the hyperparameters for PPO, using a tpe sampler and median pruner, 2 parallels jobs,\n",
        "with a budget of 1000 trials and a maximum of 50000 steps"
      ]
    },
    {
      "cell_type": "code",
      "execution_count": null,
      "metadata": {
        "colab": {},
        "colab_type": "code",
        "id": "w2sC22eGHTH-"
      },
      "outputs": [],
      "source": [
        "!python train.py --algo ppo --env MountainCar-v0 -n 50000 -optimize --n-trials 1000 --n-jobs 2 --sampler tpe --pruner median"
      ]
    },
    {
      "cell_type": "markdown",
      "metadata": {
        "colab_type": "text",
        "id": "xVm9QPNVwKXN"
      },
      "source": [
        "### Record  a Video"
      ]
    },
    {
      "cell_type": "code",
      "execution_count": null,
      "metadata": {
        "colab": {},
        "colab_type": "code",
        "id": "MPyfQxD5z26J"
      },
      "outputs": [
        {
          "name": "stderr",
          "output_type": "stream",
          "text": [
            "(EE) \n",
            "Fatal server error:\n",
            "(EE) Server is already active for display 1\n",
            "\tIf this server is no longer running, remove /tmp/.X1-lock\n",
            "\tand start again.\n",
            "(EE) \n"
          ]
        }
      ],
      "source": [
        "# Set up display; otherwise rendering will fail\n",
        "import os\n",
        "os.system(\"Xvfb :1 -screen 0 1024x768x24 &\")\n",
        "os.environ['DISPLAY'] = ':1'"
      ]
    },
    {
      "cell_type": "code",
      "execution_count": 8,
      "metadata": {
        "colab": {},
        "colab_type": "code",
        "id": "ip3AauLzwNGP"
      },
      "outputs": [
        {
          "name": "stdout",
          "output_type": "stream",
          "text": [
            "/home/gitpod/.pyenv/versions/3.8.13/bin/python: Error while finding module specification for 'utils.record_video' (ModuleNotFoundError: No module named 'utils')\n"
          ]
        }
      ],
      "source": [
        "!python -m utils.record_video --algo a2c --env CartPole-v1 --exp-id 0 -f logs/ -n 1000"
      ]
    },
    {
      "cell_type": "markdown",
      "metadata": {
        "colab_type": "text",
        "id": "qBuUfnzI8DN6"
      },
      "source": [
        "### Display the video"
      ]
    },
    {
      "cell_type": "code",
      "execution_count": 9,
      "metadata": {
        "colab": {},
        "colab_type": "code",
        "id": "ZC3OTfpf8CXu"
      },
      "outputs": [],
      "source": [
        "import base64\n",
        "from pathlib import Path\n",
        "\n",
        "from IPython import display as ipythondisplay\n",
        "\n",
        "def show_videos(video_path='', prefix=''):\n",
        "  \"\"\"\n",
        "  Taken from https://github.com/eleurent/highway-env\n",
        "\n",
        "  :param video_path: (str) Path to the folder containing videos\n",
        "  :param prefix: (str) Filter the video, showing only the only starting with this prefix\n",
        "  \"\"\"\n",
        "  html = []\n",
        "  for mp4 in Path(video_path).glob(\"{}*.mp4\".format(prefix)):\n",
        "      video_b64 = base64.b64encode(mp4.read_bytes())\n",
        "      html.append('''<video alt=\"{}\" autoplay \n",
        "                    loop controls style=\"height: 400px;\">\n",
        "                    <source src=\"data:video/mp4;base64,{}\" type=\"video/mp4\" />\n",
        "                </video>'''.format(mp4, video_b64.decode('ascii')))\n",
        "  ipythondisplay.display(ipythondisplay.HTML(data=\"<br>\".join(html)))"
      ]
    },
    {
      "cell_type": "code",
      "execution_count": 10,
      "metadata": {
        "colab": {},
        "colab_type": "code",
        "id": "oKOjFuwK9HI0"
      },
      "outputs": [
        {
          "data": {
            "text/html": [],
            "text/plain": [
              "<IPython.core.display.HTML object>"
            ]
          },
          "metadata": {},
          "output_type": "display_data"
        }
      ],
      "source": [
        "show_videos(video_path='logs/a2c/CartPole-v1_1/videos/', prefix='')"
      ]
    },
    {
      "cell_type": "markdown",
      "metadata": {
        "colab_type": "text",
        "id": "RjdpP0HE8D2p"
      },
      "source": [
        "### Continue Training\n",
        "\n",
        "Here, we will continue training of the previous model"
      ]
    },
    {
      "cell_type": "code",
      "execution_count": null,
      "metadata": {
        "colab": {},
        "colab_type": "code",
        "id": "zgMZQJJF6u1C"
      },
      "outputs": [],
      "source": [
        "!python train.py --algo a2c --env CartPole-v1 --n-timesteps 50000 -i logs/a2c/CartPole-v1_1/CartPole-v1.zip"
      ]
    },
    {
      "cell_type": "code",
      "execution_count": null,
      "metadata": {
        "colab": {},
        "colab_type": "code",
        "id": "GSaoyiAE8cVj"
      },
      "outputs": [],
      "source": [
        "!python enjoy.py --algo a2c --env CartPole-v1 --no-render --n-timesteps 1000 --folder logs/"
      ]
    },
    {
      "cell_type": "code",
      "execution_count": null,
      "metadata": {
        "colab": {},
        "colab_type": "code",
        "id": "jL9u4I1H-48O"
      },
      "outputs": [],
      "source": []
    }
  ],
  "metadata": {
    "accelerator": "GPU",
    "colab": {
      "collapsed_sections": [],
      "name": "rl-baselines-zoo.ipynb",
      "provenance": []
    },
    "kernelspec": {
      "display_name": "Python 3.8.13 64-bit ('3.8.13')",
      "language": "python",
      "name": "python3"
    },
    "language_info": {
      "codemirror_mode": {
        "name": "ipython",
        "version": 3
      },
      "file_extension": ".py",
      "mimetype": "text/x-python",
      "name": "python",
      "nbconvert_exporter": "python",
      "pygments_lexer": "ipython3",
      "version": "3.8.13"
    },
    "vscode": {
      "interpreter": {
        "hash": "110cc1dee26208153f2972f08a2ad52b6a56238dc66d48e87fb757ef2996db56"
      }
    }
  },
  "nbformat": 4,
  "nbformat_minor": 0
}
