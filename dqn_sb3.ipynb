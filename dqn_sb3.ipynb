{
  "cells": [
    {
      "cell_type": "markdown",
      "metadata": {
        "colab_type": "text",
        "id": "view-in-github"
      },
      "source": [
        "<a href=\"https://colab.research.google.com/github/Stable-Baselines-Team/rl-colab-notebooks/blob/sb3/dqn_sb3.ipynb\" target=\"_parent\"><img src=\"https://colab.research.google.com/assets/colab-badge.svg\" alt=\"Open In Colab\"/></a>"
      ]
    },
    {
      "cell_type": "markdown",
      "metadata": {
        "id": "cgDiMlHXXN7V"
      },
      "source": [
        "# DQN and Double DQN with Stable-Baselines3\n",
        "\n",
        "Stable-Baselines3: https://github.com/DLR-RM/stable-baselines3\n",
        "\n",
        "Documentation: https://stable-baselines.readthedocs.io/en/master/\n",
        "\n",
        "RL Baselines3 zoo: https://github.com/DLR-RM/rl-baselines3-zoo\n",
        "\n",
        "Double Q-Learning: https://paperswithcode.com/method/double-q-learning\n",
        "\n",
        "\n",
        "[RL Baselines3 Zoo](https://github.com/DLR-RM/rl-baselines3-zoo) is a collection of pre-trained Reinforcement Learning agents using Stable-Baselines3.\n",
        "\n",
        "It also provides basic scripts for training, evaluating agents, tuning hyperparameters and recording videos.\n",
        "\n",
        "\n",
        "## Introduction\n",
        "\n",
        "In this notebook, we will study DQN using Stable-Baselines3 and then see how to reduce value overestimation with double DQN."
      ]
    },
    {
      "cell_type": "markdown",
      "metadata": {
        "id": "StmMaKjrX6MC"
      },
      "source": [
        "## Installation\n",
        "\n",
        "We will install master version of SB3."
      ]
    },
    {
      "cell_type": "code",
      "execution_count": 1,
      "metadata": {
        "id": "r7yLmacAXJ0F"
      },
      "outputs": [
        {
          "name": "stdout",
          "output_type": "stream",
          "text": [
            "Collecting stable-baselines3[extra]\n",
            "  Cloning https://github.com/DLR-RM/stable-baselines3 to /tmp/pip-install-lkh3ik8e/stable-baselines3_7286ab3bc8834ae2bc2ead8d6b19889f\n",
            "  Running command git clone --filter=blob:none --quiet https://github.com/DLR-RM/stable-baselines3 /tmp/pip-install-lkh3ik8e/stable-baselines3_7286ab3bc8834ae2bc2ead8d6b19889f\n",
            "  Resolved https://github.com/DLR-RM/stable-baselines3 to commit a697401e032dd4fecbbd4162755ddd707df980d3\n",
            "  Preparing metadata (setup.py) ... \u001b[?25ldone\n",
            "\u001b[?25hRequirement already satisfied: gym==0.21 in /home/gitpod/.pyenv/versions/3.8.13/lib/python3.8/site-packages (from stable-baselines3[extra]) (0.21.0)\n",
            "Requirement already satisfied: numpy in /home/gitpod/.pyenv/versions/3.8.13/lib/python3.8/site-packages (from stable-baselines3[extra]) (1.23.3)\n",
            "Requirement already satisfied: torch>=1.11 in /home/gitpod/.pyenv/versions/3.8.13/lib/python3.8/site-packages (from stable-baselines3[extra]) (1.12.1)\n",
            "Requirement already satisfied: cloudpickle in /home/gitpod/.pyenv/versions/3.8.13/lib/python3.8/site-packages (from stable-baselines3[extra]) (2.2.0)\n",
            "Requirement already satisfied: pandas in /home/gitpod/.pyenv/versions/3.8.13/lib/python3.8/site-packages (from stable-baselines3[extra]) (1.5.0)\n",
            "Requirement already satisfied: matplotlib in /home/gitpod/.pyenv/versions/3.8.13/lib/python3.8/site-packages (from stable-baselines3[extra]) (3.6.0)\n",
            "Requirement already satisfied: opencv-python in /home/gitpod/.pyenv/versions/3.8.13/lib/python3.8/site-packages (from stable-baselines3[extra]) (4.6.0.66)\n",
            "Requirement already satisfied: ale-py==0.7.4 in /home/gitpod/.pyenv/versions/3.8.13/lib/python3.8/site-packages (from stable-baselines3[extra]) (0.7.4)\n",
            "Requirement already satisfied: autorom[accept-rom-license]~=0.4.2 in /home/gitpod/.pyenv/versions/3.8.13/lib/python3.8/site-packages (from stable-baselines3[extra]) (0.4.2)\n",
            "Requirement already satisfied: pillow in /home/gitpod/.pyenv/versions/3.8.13/lib/python3.8/site-packages (from stable-baselines3[extra]) (9.2.0)\n",
            "Requirement already satisfied: tensorboard>=2.9.1 in /home/gitpod/.pyenv/versions/3.8.13/lib/python3.8/site-packages (from stable-baselines3[extra]) (2.10.1)\n",
            "Requirement already satisfied: psutil in /home/gitpod/.pyenv/versions/3.8.13/lib/python3.8/site-packages (from stable-baselines3[extra]) (5.9.1)\n",
            "Requirement already satisfied: importlib-metadata>=4.10.0 in /home/gitpod/.pyenv/versions/3.8.13/lib/python3.8/site-packages (from ale-py==0.7.4->stable-baselines3[extra]) (4.11.4)\n",
            "Requirement already satisfied: importlib-resources in /home/gitpod/.pyenv/versions/3.8.13/lib/python3.8/site-packages (from ale-py==0.7.4->stable-baselines3[extra]) (5.8.0)\n",
            "Requirement already satisfied: click in /home/gitpod/.pyenv/versions/3.8.13/lib/python3.8/site-packages (from autorom[accept-rom-license]~=0.4.2->stable-baselines3[extra]) (8.1.3)\n",
            "Requirement already satisfied: requests in /home/gitpod/.pyenv/versions/3.8.13/lib/python3.8/site-packages (from autorom[accept-rom-license]~=0.4.2->stable-baselines3[extra]) (2.28.0)\n",
            "Requirement already satisfied: tqdm in /home/gitpod/.pyenv/versions/3.8.13/lib/python3.8/site-packages (from autorom[accept-rom-license]~=0.4.2->stable-baselines3[extra]) (4.64.1)\n",
            "Requirement already satisfied: AutoROM.accept-rom-license in /home/gitpod/.pyenv/versions/3.8.13/lib/python3.8/site-packages (from autorom[accept-rom-license]~=0.4.2->stable-baselines3[extra]) (0.4.2)\n",
            "Requirement already satisfied: google-auth-oauthlib<0.5,>=0.4.1 in /home/gitpod/.pyenv/versions/3.8.13/lib/python3.8/site-packages (from tensorboard>=2.9.1->stable-baselines3[extra]) (0.4.6)\n",
            "Requirement already satisfied: tensorboard-data-server<0.7.0,>=0.6.0 in /home/gitpod/.pyenv/versions/3.8.13/lib/python3.8/site-packages (from tensorboard>=2.9.1->stable-baselines3[extra]) (0.6.1)\n",
            "Requirement already satisfied: protobuf<3.20,>=3.9.2 in /home/gitpod/.pyenv/versions/3.8.13/lib/python3.8/site-packages (from tensorboard>=2.9.1->stable-baselines3[extra]) (3.19.6)\n",
            "Requirement already satisfied: tensorboard-plugin-wit>=1.6.0 in /home/gitpod/.pyenv/versions/3.8.13/lib/python3.8/site-packages (from tensorboard>=2.9.1->stable-baselines3[extra]) (1.8.1)\n",
            "Requirement already satisfied: absl-py>=0.4 in /home/gitpod/.pyenv/versions/3.8.13/lib/python3.8/site-packages (from tensorboard>=2.9.1->stable-baselines3[extra]) (1.2.0)\n",
            "Requirement already satisfied: google-auth<3,>=1.6.3 in /home/gitpod/.pyenv/versions/3.8.13/lib/python3.8/site-packages (from tensorboard>=2.9.1->stable-baselines3[extra]) (2.12.0)\n",
            "Requirement already satisfied: setuptools>=41.0.0 in /home/gitpod/.pyenv/versions/3.8.13/lib/python3.8/site-packages (from tensorboard>=2.9.1->stable-baselines3[extra]) (62.5.0)\n",
            "Requirement already satisfied: markdown>=2.6.8 in /home/gitpod/.pyenv/versions/3.8.13/lib/python3.8/site-packages (from tensorboard>=2.9.1->stable-baselines3[extra]) (3.4.1)\n",
            "Requirement already satisfied: werkzeug>=1.0.1 in /home/gitpod/.pyenv/versions/3.8.13/lib/python3.8/site-packages (from tensorboard>=2.9.1->stable-baselines3[extra]) (2.2.2)\n",
            "Requirement already satisfied: grpcio>=1.24.3 in /home/gitpod/.pyenv/versions/3.8.13/lib/python3.8/site-packages (from tensorboard>=2.9.1->stable-baselines3[extra]) (1.49.1)\n",
            "Requirement already satisfied: wheel>=0.26 in /home/gitpod/.pyenv/versions/3.8.13/lib/python3.8/site-packages (from tensorboard>=2.9.1->stable-baselines3[extra]) (0.37.1)\n",
            "Requirement already satisfied: typing-extensions in /home/gitpod/.pyenv/versions/3.8.13/lib/python3.8/site-packages (from torch>=1.11->stable-baselines3[extra]) (4.2.0)\n",
            "Requirement already satisfied: contourpy>=1.0.1 in /home/gitpod/.pyenv/versions/3.8.13/lib/python3.8/site-packages (from matplotlib->stable-baselines3[extra]) (1.0.5)\n",
            "Requirement already satisfied: pyparsing>=2.2.1 in /home/gitpod/.pyenv/versions/3.8.13/lib/python3.8/site-packages (from matplotlib->stable-baselines3[extra]) (3.0.9)\n",
            "Requirement already satisfied: python-dateutil>=2.7 in /home/gitpod/.pyenv/versions/3.8.13/lib/python3.8/site-packages (from matplotlib->stable-baselines3[extra]) (2.8.2)\n",
            "Requirement already satisfied: kiwisolver>=1.0.1 in /home/gitpod/.pyenv/versions/3.8.13/lib/python3.8/site-packages (from matplotlib->stable-baselines3[extra]) (1.4.4)\n",
            "Requirement already satisfied: cycler>=0.10 in /home/gitpod/.pyenv/versions/3.8.13/lib/python3.8/site-packages (from matplotlib->stable-baselines3[extra]) (0.11.0)\n",
            "Requirement already satisfied: packaging>=20.0 in /home/gitpod/.pyenv/versions/3.8.13/lib/python3.8/site-packages (from matplotlib->stable-baselines3[extra]) (21.3)\n",
            "Requirement already satisfied: fonttools>=4.22.0 in /home/gitpod/.pyenv/versions/3.8.13/lib/python3.8/site-packages (from matplotlib->stable-baselines3[extra]) (4.37.4)\n",
            "Requirement already satisfied: pytz>=2020.1 in /home/gitpod/.pyenv/versions/3.8.13/lib/python3.8/site-packages (from pandas->stable-baselines3[extra]) (2022.4)\n",
            "Requirement already satisfied: pyasn1-modules>=0.2.1 in /home/gitpod/.pyenv/versions/3.8.13/lib/python3.8/site-packages (from google-auth<3,>=1.6.3->tensorboard>=2.9.1->stable-baselines3[extra]) (0.2.8)\n",
            "Requirement already satisfied: six>=1.9.0 in /home/gitpod/.pyenv/versions/3.8.13/lib/python3.8/site-packages (from google-auth<3,>=1.6.3->tensorboard>=2.9.1->stable-baselines3[extra]) (1.16.0)\n",
            "Requirement already satisfied: cachetools<6.0,>=2.0.0 in /home/gitpod/.pyenv/versions/3.8.13/lib/python3.8/site-packages (from google-auth<3,>=1.6.3->tensorboard>=2.9.1->stable-baselines3[extra]) (5.2.0)\n",
            "Requirement already satisfied: rsa<5,>=3.1.4 in /home/gitpod/.pyenv/versions/3.8.13/lib/python3.8/site-packages (from google-auth<3,>=1.6.3->tensorboard>=2.9.1->stable-baselines3[extra]) (4.9)\n",
            "Requirement already satisfied: requests-oauthlib>=0.7.0 in /home/gitpod/.pyenv/versions/3.8.13/lib/python3.8/site-packages (from google-auth-oauthlib<0.5,>=0.4.1->tensorboard>=2.9.1->stable-baselines3[extra]) (1.3.1)\n",
            "Requirement already satisfied: zipp>=0.5 in /home/gitpod/.pyenv/versions/3.8.13/lib/python3.8/site-packages (from importlib-metadata>=4.10.0->ale-py==0.7.4->stable-baselines3[extra]) (3.8.0)\n",
            "Requirement already satisfied: certifi>=2017.4.17 in /home/gitpod/.pyenv/versions/3.8.13/lib/python3.8/site-packages (from requests->autorom[accept-rom-license]~=0.4.2->stable-baselines3[extra]) (2022.6.15)\n",
            "Requirement already satisfied: charset-normalizer~=2.0.0 in /home/gitpod/.pyenv/versions/3.8.13/lib/python3.8/site-packages (from requests->autorom[accept-rom-license]~=0.4.2->stable-baselines3[extra]) (2.0.12)\n",
            "Requirement already satisfied: urllib3<1.27,>=1.21.1 in /home/gitpod/.pyenv/versions/3.8.13/lib/python3.8/site-packages (from requests->autorom[accept-rom-license]~=0.4.2->stable-baselines3[extra]) (1.26.9)\n",
            "Requirement already satisfied: idna<4,>=2.5 in /home/gitpod/.pyenv/versions/3.8.13/lib/python3.8/site-packages (from requests->autorom[accept-rom-license]~=0.4.2->stable-baselines3[extra]) (3.3)\n",
            "Requirement already satisfied: MarkupSafe>=2.1.1 in /home/gitpod/.pyenv/versions/3.8.13/lib/python3.8/site-packages (from werkzeug>=1.0.1->tensorboard>=2.9.1->stable-baselines3[extra]) (2.1.1)\n",
            "Requirement already satisfied: pyasn1<0.5.0,>=0.4.6 in /home/gitpod/.pyenv/versions/3.8.13/lib/python3.8/site-packages (from pyasn1-modules>=0.2.1->google-auth<3,>=1.6.3->tensorboard>=2.9.1->stable-baselines3[extra]) (0.4.8)\n",
            "Requirement already satisfied: oauthlib>=3.0.0 in /home/gitpod/.pyenv/versions/3.8.13/lib/python3.8/site-packages (from requests-oauthlib>=0.7.0->google-auth-oauthlib<0.5,>=0.4.1->tensorboard>=2.9.1->stable-baselines3[extra]) (3.2.1)\n"
          ]
        }
      ],
      "source": [
        "#!apt-get install ffmpeg freeglut3-dev xvfb  # For visualization\n",
        "\n",
        "!pip install git+https://github.com/DLR-RM/stable-baselines3#egg=stable-baselines3[extra]"
      ]
    },
    {
      "cell_type": "markdown",
      "metadata": {
        "id": "LwC8l-17YseR"
      },
      "source": [
        "Import DQN and evaluation helper"
      ]
    },
    {
      "cell_type": "code",
      "execution_count": 2,
      "metadata": {
        "id": "VYbeqK0tYenp"
      },
      "outputs": [
        {
          "name": "stderr",
          "output_type": "stream",
          "text": [
            "/home/gitpod/.pyenv/versions/3.8.13/lib/python3.8/site-packages/tqdm/auto.py:22: TqdmWarning: IProgress not found. Please update jupyter and ipywidgets. See https://ipywidgets.readthedocs.io/en/stable/user_install.html\n",
            "  from .autonotebook import tqdm as notebook_tqdm\n"
          ]
        }
      ],
      "source": [
        "import gym\n",
        "import numpy as np\n",
        "import torch as th\n",
        "import matplotlib.pyplot as plt\n",
        "\n",
        "from stable_baselines3 import DQN\n",
        "from stable_baselines3.common.evaluation import evaluate_policy"
      ]
    },
    {
      "cell_type": "markdown",
      "metadata": {
        "id": "7xQwxJDgptxH"
      },
      "source": [
        "## The Mountain Car Problem\n",
        "\n",
        "In this environment, the agent must drive an underpowered car up a steep mountain road. For any given state the agent may choose to accelerate to the left, right or cease any acceleration.\n",
        "\n",
        "Source: https://github.com/openai/gym/blob/master/gym/envs/classic_control/mountain_car.py\n",
        "\n",
        "![mountaincar.png](data:image/png;base64,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)\n",
        "\n",
        "\n",
        "    Observation:\n",
        "        Type: Box(2)\n",
        "        Num    Observation               Min            Max\n",
        "        0      Car Position              -1.2           0.6\n",
        "        1      Car Velocity              -0.07          0.07\n",
        "    Actions:\n",
        "        Type: Discrete(3)\n",
        "        Num    Action\n",
        "        0      Accelerate to the Left\n",
        "        1      Don't accelerate\n",
        "        2      Accelerate to the Right\n",
        "        Note: This does not affect the amount of velocity affected by the\n",
        "        gravitational pull acting on the car.\n",
        "    Reward:\n",
        "         Reward of 0 is awarded if the agent reached the flag (position = 0.5)\n",
        "         on top of the mountain.\n",
        "         Reward of -1 is awarded if the position of the agent is less than 0.5.\n",
        "    Starting State:\n",
        "         The position of the car is assigned a uniform random value in\n",
        "         [-0.6 , -0.4].\n",
        "         The starting velocity of the car is always assigned to 0.\n",
        "    Episode Termination:\n",
        "         The car position is more than 0.5\n",
        "         Episode length is greater than 200\n",
        "\n"
      ]
    },
    {
      "cell_type": "markdown",
      "metadata": {
        "id": "og59Z62aZJna"
      },
      "source": [
        "Create the environment"
      ]
    },
    {
      "cell_type": "code",
      "execution_count": 3,
      "metadata": {
        "id": "tVY05GIhZEMM"
      },
      "outputs": [],
      "source": [
        "env = gym.make(\"MountainCar-v0\")"
      ]
    },
    {
      "cell_type": "markdown",
      "metadata": {
        "id": "IEF4P0DAZMAN"
      },
      "source": [
        "Create the model with tuned hyperparameters from the RL Zoo\n",
        "\n",
        "```yaml\n",
        "MountainCar-v0:\n",
        "  n_timesteps: !!float 1.2e5\n",
        "  policy: 'MlpPolicy'\n",
        "  learning_rate: !!float 4e-3\n",
        "  batch_size: 128\n",
        "  buffer_size: 10000\n",
        "  learning_starts: 1000\n",
        "  gamma: 0.98\n",
        "  target_update_interval: 600\n",
        "  train_freq: 16\n",
        "  gradient_steps: 8\n",
        "  exploration_fraction: 0.2\n",
        "  exploration_final_eps: 0.07\n",
        "  policy_kwargs: \"dict(net_arch=[256, 256])\"\n",
        "```"
      ]
    },
    {
      "cell_type": "code",
      "execution_count": 4,
      "metadata": {
        "id": "fbEcqWhqgDmH"
      },
      "outputs": [],
      "source": [
        "tensorboard_log = \"data/tb/\""
      ]
    },
    {
      "cell_type": "code",
      "execution_count": 5,
      "metadata": {
        "colab": {
          "base_uri": "https://localhost:8080/"
        },
        "id": "4-1scts3Y1c7",
        "outputId": "d8001eb5-3546-4d37-dd8b-32e53c3437c6"
      },
      "outputs": [
        {
          "name": "stdout",
          "output_type": "stream",
          "text": [
            "Using cpu device\n",
            "Wrapping the env with a `Monitor` wrapper\n",
            "Wrapping the env in a DummyVecEnv.\n"
          ]
        }
      ],
      "source": [
        "dqn_model = DQN(\"MlpPolicy\",\n",
        "            env,\n",
        "            verbose=1,\n",
        "            train_freq=16,\n",
        "            gradient_steps=8,\n",
        "            gamma=0.99,\n",
        "            exploration_fraction=0.2,\n",
        "            exploration_final_eps=0.07,\n",
        "            target_update_interval=600,\n",
        "            learning_starts=1000,\n",
        "            buffer_size=10000,\n",
        "            batch_size=128,\n",
        "            learning_rate=4e-3,\n",
        "            policy_kwargs=dict(net_arch=[256, 256]),\n",
        "            tensorboard_log=tensorboard_log,\n",
        "            seed=2)"
      ]
    },
    {
      "cell_type": "markdown",
      "metadata": {
        "id": "eNoFwsCPZQuz"
      },
      "source": [
        "Evaluate the agent before training"
      ]
    },
    {
      "cell_type": "code",
      "execution_count": 6,
      "metadata": {
        "colab": {
          "base_uri": "https://localhost:8080/"
        },
        "id": "Qn0C7RHyZTHA",
        "outputId": "61236eac-6bf0-4eee-b749-251bbd6f9d0c"
      },
      "outputs": [
        {
          "name": "stdout",
          "output_type": "stream",
          "text": [
            "mean_reward:-200.00 +/- 0.00\n"
          ]
        }
      ],
      "source": [
        "mean_reward, std_reward = evaluate_policy(dqn_model, dqn_model.get_env(), deterministic=True, n_eval_episodes=20)\n",
        "\n",
        "print(f\"mean_reward:{mean_reward:.2f} +/- {std_reward:.2f}\")"
      ]
    },
    {
      "cell_type": "code",
      "execution_count": null,
      "metadata": {
        "id": "kM0m1NyAgVhR"
      },
      "outputs": [],
      "source": [
        "# Optional: Monitor training in tensorboard\n",
        "# %load_ext tensorboard\n",
        "# %tensorboard --logdir $tensorboard_log"
      ]
    },
    {
      "cell_type": "markdown",
      "metadata": {
        "id": "dUoPUfQ4ZexC"
      },
      "source": [
        "We will first train the agent until convergence and then analyse the learned q-value function."
      ]
    },
    {
      "cell_type": "code",
      "execution_count": 15,
      "metadata": {
        "id": "9wKP0gKjZgWZ"
      },
      "outputs": [
        {
          "name": "stdout",
          "output_type": "stream",
          "text": [
            "Logging to data/tb/DQN_3\n",
            "----------------------------------\n",
            "| rollout/            |          |\n",
            "|    ep_len_mean      | 200      |\n",
            "|    ep_rew_mean      | -200     |\n",
            "|    exploration_rate | 0.814    |\n",
            "| time/               |          |\n",
            "|    episodes         | 10       |\n",
            "|    fps              | 292      |\n",
            "|    time_elapsed     | 6        |\n",
            "|    total_timesteps  | 2000     |\n",
            "| train/              |          |\n",
            "|    learning_rate    | 0.004    |\n",
            "|    loss             | 0.0384   |\n",
            "|    n_updates        | 14160    |\n",
            "----------------------------------\n",
            "----------------------------------\n",
            "| rollout/            |          |\n",
            "|    ep_len_mean      | 200      |\n",
            "|    ep_rew_mean      | -200     |\n",
            "|    exploration_rate | 0.628    |\n",
            "| time/               |          |\n",
            "|    episodes         | 20       |\n",
            "|    fps              | 294      |\n",
            "|    time_elapsed     | 13       |\n",
            "|    total_timesteps  | 4000     |\n",
            "| train/              |          |\n",
            "|    learning_rate    | 0.004    |\n",
            "|    loss             | 0.0361   |\n",
            "|    n_updates        | 15160    |\n",
            "----------------------------------\n",
            "----------------------------------\n",
            "| rollout/            |          |\n",
            "|    ep_len_mean      | 200      |\n",
            "|    ep_rew_mean      | -200     |\n",
            "|    exploration_rate | 0.442    |\n",
            "| time/               |          |\n",
            "|    episodes         | 30       |\n",
            "|    fps              | 339      |\n",
            "|    time_elapsed     | 17       |\n",
            "|    total_timesteps  | 6000     |\n",
            "| train/              |          |\n",
            "|    learning_rate    | 0.004    |\n",
            "|    loss             | 0.000167 |\n",
            "|    n_updates        | 16160    |\n",
            "----------------------------------\n",
            "----------------------------------\n",
            "| rollout/            |          |\n",
            "|    ep_len_mean      | 200      |\n",
            "|    ep_rew_mean      | -200     |\n",
            "|    exploration_rate | 0.256    |\n",
            "| time/               |          |\n",
            "|    episodes         | 40       |\n",
            "|    fps              | 367      |\n",
            "|    time_elapsed     | 21       |\n",
            "|    total_timesteps  | 8000     |\n",
            "| train/              |          |\n",
            "|    learning_rate    | 0.004    |\n",
            "|    loss             | 0.0381   |\n",
            "|    n_updates        | 17160    |\n",
            "----------------------------------\n",
            "----------------------------------\n",
            "| rollout/            |          |\n",
            "|    ep_len_mean      | 199      |\n",
            "|    ep_rew_mean      | -199     |\n",
            "|    exploration_rate | 0.0736   |\n",
            "| time/               |          |\n",
            "|    episodes         | 50       |\n",
            "|    fps              | 371      |\n",
            "|    time_elapsed     | 26       |\n",
            "|    total_timesteps  | 9961     |\n",
            "| train/              |          |\n",
            "|    learning_rate    | 0.004    |\n",
            "|    loss             | 2.04e-05 |\n",
            "|    n_updates        | 18144    |\n",
            "----------------------------------\n",
            "----------------------------------\n",
            "| rollout/            |          |\n",
            "|    ep_len_mean      | 198      |\n",
            "|    ep_rew_mean      | -198     |\n",
            "|    exploration_rate | 0.07     |\n",
            "| time/               |          |\n",
            "|    episodes         | 60       |\n",
            "|    fps              | 290      |\n",
            "|    time_elapsed     | 40       |\n",
            "|    total_timesteps  | 11877    |\n",
            "| train/              |          |\n",
            "|    learning_rate    | 0.004    |\n",
            "|    loss             | 0.000519 |\n",
            "|    n_updates        | 19104    |\n",
            "----------------------------------\n",
            "----------------------------------\n",
            "| rollout/            |          |\n",
            "|    ep_len_mean      | 198      |\n",
            "|    ep_rew_mean      | -198     |\n",
            "|    exploration_rate | 0.07     |\n",
            "| time/               |          |\n",
            "|    episodes         | 70       |\n",
            "|    fps              | 306      |\n",
            "|    time_elapsed     | 45       |\n",
            "|    total_timesteps  | 13831    |\n",
            "| train/              |          |\n",
            "|    learning_rate    | 0.004    |\n",
            "|    loss             | 0.0307   |\n",
            "|    n_updates        | 20080    |\n",
            "----------------------------------\n",
            "----------------------------------\n",
            "| rollout/            |          |\n",
            "|    ep_len_mean      | 195      |\n",
            "|    ep_rew_mean      | -195     |\n",
            "|    exploration_rate | 0.07     |\n",
            "| time/               |          |\n",
            "|    episodes         | 80       |\n",
            "|    fps              | 319      |\n",
            "|    time_elapsed     | 48       |\n",
            "|    total_timesteps  | 15617    |\n",
            "| train/              |          |\n",
            "|    learning_rate    | 0.004    |\n",
            "|    loss             | 0.0255   |\n",
            "|    n_updates        | 20976    |\n",
            "----------------------------------\n",
            "----------------------------------\n",
            "| rollout/            |          |\n",
            "|    ep_len_mean      | 194      |\n",
            "|    ep_rew_mean      | -194     |\n",
            "|    exploration_rate | 0.07     |\n",
            "| time/               |          |\n",
            "|    episodes         | 90       |\n",
            "|    fps              | 330      |\n",
            "|    time_elapsed     | 52       |\n",
            "|    total_timesteps  | 17471    |\n",
            "| train/              |          |\n",
            "|    learning_rate    | 0.004    |\n",
            "|    loss             | 0.00119  |\n",
            "|    n_updates        | 21896    |\n",
            "----------------------------------\n",
            "----------------------------------\n",
            "| rollout/            |          |\n",
            "|    ep_len_mean      | 194      |\n",
            "|    ep_rew_mean      | -194     |\n",
            "|    exploration_rate | 0.07     |\n",
            "| time/               |          |\n",
            "|    episodes         | 100      |\n",
            "|    fps              | 325      |\n",
            "|    time_elapsed     | 59       |\n",
            "|    total_timesteps  | 19353    |\n",
            "| train/              |          |\n",
            "|    learning_rate    | 0.004    |\n",
            "|    loss             | 0.0554   |\n",
            "|    n_updates        | 22840    |\n",
            "----------------------------------\n",
            "----------------------------------\n",
            "| rollout/            |          |\n",
            "|    ep_len_mean      | 192      |\n",
            "|    ep_rew_mean      | -192     |\n",
            "|    exploration_rate | 0.07     |\n",
            "| time/               |          |\n",
            "|    episodes         | 110      |\n",
            "|    fps              | 296      |\n",
            "|    time_elapsed     | 71       |\n",
            "|    total_timesteps  | 21239    |\n",
            "| train/              |          |\n",
            "|    learning_rate    | 0.004    |\n",
            "|    loss             | 0.0309   |\n",
            "|    n_updates        | 23784    |\n",
            "----------------------------------\n",
            "----------------------------------\n",
            "| rollout/            |          |\n",
            "|    ep_len_mean      | 190      |\n",
            "|    ep_rew_mean      | -190     |\n",
            "|    exploration_rate | 0.07     |\n",
            "| time/               |          |\n",
            "|    episodes         | 120      |\n",
            "|    fps              | 305      |\n",
            "|    time_elapsed     | 75       |\n",
            "|    total_timesteps  | 23028    |\n",
            "| train/              |          |\n",
            "|    learning_rate    | 0.004    |\n",
            "|    loss             | 0.011    |\n",
            "|    n_updates        | 24680    |\n",
            "----------------------------------\n",
            "----------------------------------\n",
            "| rollout/            |          |\n",
            "|    ep_len_mean      | 189      |\n",
            "|    ep_rew_mean      | -189     |\n",
            "|    exploration_rate | 0.07     |\n",
            "| time/               |          |\n",
            "|    episodes         | 130      |\n",
            "|    fps              | 313      |\n",
            "|    time_elapsed     | 79       |\n",
            "|    total_timesteps  | 24931    |\n",
            "| train/              |          |\n",
            "|    learning_rate    | 0.004    |\n",
            "|    loss             | 0.0175   |\n",
            "|    n_updates        | 25632    |\n",
            "----------------------------------\n",
            "----------------------------------\n",
            "| rollout/            |          |\n",
            "|    ep_len_mean      | 188      |\n",
            "|    ep_rew_mean      | -188     |\n",
            "|    exploration_rate | 0.07     |\n",
            "| time/               |          |\n",
            "|    episodes         | 140      |\n",
            "|    fps              | 320      |\n",
            "|    time_elapsed     | 83       |\n",
            "|    total_timesteps  | 26786    |\n",
            "| train/              |          |\n",
            "|    learning_rate    | 0.004    |\n",
            "|    loss             | 0.0156   |\n",
            "|    n_updates        | 26560    |\n",
            "----------------------------------\n",
            "----------------------------------\n",
            "| rollout/            |          |\n",
            "|    ep_len_mean      | 186      |\n",
            "|    ep_rew_mean      | -186     |\n",
            "|    exploration_rate | 0.07     |\n",
            "| time/               |          |\n",
            "|    episodes         | 150      |\n",
            "|    fps              | 326      |\n",
            "|    time_elapsed     | 87       |\n",
            "|    total_timesteps  | 28548    |\n",
            "| train/              |          |\n",
            "|    learning_rate    | 0.004    |\n",
            "|    loss             | 0.0245   |\n",
            "|    n_updates        | 27440    |\n",
            "----------------------------------\n",
            "----------------------------------\n",
            "| rollout/            |          |\n",
            "|    ep_len_mean      | 185      |\n",
            "|    ep_rew_mean      | -185     |\n",
            "|    exploration_rate | 0.07     |\n",
            "| time/               |          |\n",
            "|    episodes         | 160      |\n",
            "|    fps              | 331      |\n",
            "|    time_elapsed     | 91       |\n",
            "|    total_timesteps  | 30360    |\n",
            "| train/              |          |\n",
            "|    learning_rate    | 0.004    |\n",
            "|    loss             | 0.0252   |\n",
            "|    n_updates        | 28344    |\n",
            "----------------------------------\n",
            "----------------------------------\n",
            "| rollout/            |          |\n",
            "|    ep_len_mean      | 183      |\n",
            "|    ep_rew_mean      | -183     |\n",
            "|    exploration_rate | 0.07     |\n",
            "| time/               |          |\n",
            "|    episodes         | 170      |\n",
            "|    fps              | 335      |\n",
            "|    time_elapsed     | 95       |\n",
            "|    total_timesteps  | 32151    |\n",
            "| train/              |          |\n",
            "|    learning_rate    | 0.004    |\n",
            "|    loss             | 0.0321   |\n",
            "|    n_updates        | 29240    |\n",
            "----------------------------------\n",
            "----------------------------------\n",
            "| rollout/            |          |\n",
            "|    ep_len_mean      | 183      |\n",
            "|    ep_rew_mean      | -183     |\n",
            "|    exploration_rate | 0.07     |\n",
            "| time/               |          |\n",
            "|    episodes         | 180      |\n",
            "|    fps              | 340      |\n",
            "|    time_elapsed     | 99       |\n",
            "|    total_timesteps  | 33893    |\n",
            "| train/              |          |\n",
            "|    learning_rate    | 0.004    |\n",
            "|    loss             | 0.0811   |\n",
            "|    n_updates        | 30112    |\n",
            "----------------------------------\n",
            "----------------------------------\n",
            "| rollout/            |          |\n",
            "|    ep_len_mean      | 180      |\n",
            "|    ep_rew_mean      | -180     |\n",
            "|    exploration_rate | 0.07     |\n",
            "| time/               |          |\n",
            "|    episodes         | 190      |\n",
            "|    fps              | 327      |\n",
            "|    time_elapsed     | 108      |\n",
            "|    total_timesteps  | 35467    |\n",
            "| train/              |          |\n",
            "|    learning_rate    | 0.004    |\n",
            "|    loss             | 0.023    |\n",
            "|    n_updates        | 30896    |\n",
            "----------------------------------\n",
            "----------------------------------\n",
            "| rollout/            |          |\n",
            "|    ep_len_mean      | 178      |\n",
            "|    ep_rew_mean      | -178     |\n",
            "|    exploration_rate | 0.07     |\n",
            "| time/               |          |\n",
            "|    episodes         | 200      |\n",
            "|    fps              | 299      |\n",
            "|    time_elapsed     | 123      |\n",
            "|    total_timesteps  | 37141    |\n",
            "| train/              |          |\n",
            "|    learning_rate    | 0.004    |\n",
            "|    loss             | 0.0535   |\n",
            "|    n_updates        | 31736    |\n",
            "----------------------------------\n",
            "----------------------------------\n",
            "| rollout/            |          |\n",
            "|    ep_len_mean      | 177      |\n",
            "|    ep_rew_mean      | -177     |\n",
            "|    exploration_rate | 0.07     |\n",
            "| time/               |          |\n",
            "|    episodes         | 210      |\n",
            "|    fps              | 293      |\n",
            "|    time_elapsed     | 132      |\n",
            "|    total_timesteps  | 38910    |\n",
            "| train/              |          |\n",
            "|    learning_rate    | 0.004    |\n",
            "|    loss             | 0.0534   |\n",
            "|    n_updates        | 32616    |\n",
            "----------------------------------\n",
            "----------------------------------\n",
            "| rollout/            |          |\n",
            "|    ep_len_mean      | 176      |\n",
            "|    ep_rew_mean      | -176     |\n",
            "|    exploration_rate | 0.07     |\n",
            "| time/               |          |\n",
            "|    episodes         | 220      |\n",
            "|    fps              | 298      |\n",
            "|    time_elapsed     | 136      |\n",
            "|    total_timesteps  | 40628    |\n",
            "| train/              |          |\n",
            "|    learning_rate    | 0.004    |\n",
            "|    loss             | 0.0583   |\n",
            "|    n_updates        | 33480    |\n",
            "----------------------------------\n",
            "----------------------------------\n",
            "| rollout/            |          |\n",
            "|    ep_len_mean      | 175      |\n",
            "|    ep_rew_mean      | -175     |\n",
            "|    exploration_rate | 0.07     |\n",
            "| time/               |          |\n",
            "|    episodes         | 230      |\n",
            "|    fps              | 302      |\n",
            "|    time_elapsed     | 140      |\n",
            "|    total_timesteps  | 42422    |\n",
            "| train/              |          |\n",
            "|    learning_rate    | 0.004    |\n",
            "|    loss             | 0.0746   |\n",
            "|    n_updates        | 34376    |\n",
            "----------------------------------\n",
            "----------------------------------\n",
            "| rollout/            |          |\n",
            "|    ep_len_mean      | 174      |\n",
            "|    ep_rew_mean      | -174     |\n",
            "|    exploration_rate | 0.07     |\n",
            "| time/               |          |\n",
            "|    episodes         | 240      |\n",
            "|    fps              | 307      |\n",
            "|    time_elapsed     | 143      |\n",
            "|    total_timesteps  | 44170    |\n",
            "| train/              |          |\n",
            "|    learning_rate    | 0.004    |\n",
            "|    loss             | 0.0715   |\n",
            "|    n_updates        | 35248    |\n",
            "----------------------------------\n",
            "----------------------------------\n",
            "| rollout/            |          |\n",
            "|    ep_len_mean      | 174      |\n",
            "|    ep_rew_mean      | -174     |\n",
            "|    exploration_rate | 0.07     |\n",
            "| time/               |          |\n",
            "|    episodes         | 250      |\n",
            "|    fps              | 310      |\n",
            "|    time_elapsed     | 147      |\n",
            "|    total_timesteps  | 45913    |\n",
            "| train/              |          |\n",
            "|    learning_rate    | 0.004    |\n",
            "|    loss             | 0.112    |\n",
            "|    n_updates        | 36120    |\n",
            "----------------------------------\n",
            "----------------------------------\n",
            "| rollout/            |          |\n",
            "|    ep_len_mean      | 172      |\n",
            "|    ep_rew_mean      | -172     |\n",
            "|    exploration_rate | 0.07     |\n",
            "| time/               |          |\n",
            "|    episodes         | 260      |\n",
            "|    fps              | 313      |\n",
            "|    time_elapsed     | 151      |\n",
            "|    total_timesteps  | 47564    |\n",
            "| train/              |          |\n",
            "|    learning_rate    | 0.004    |\n",
            "|    loss             | 0.0953   |\n",
            "|    n_updates        | 36944    |\n",
            "----------------------------------\n",
            "----------------------------------\n",
            "| rollout/            |          |\n",
            "|    ep_len_mean      | 171      |\n",
            "|    ep_rew_mean      | -171     |\n",
            "|    exploration_rate | 0.07     |\n",
            "| time/               |          |\n",
            "|    episodes         | 270      |\n",
            "|    fps              | 317      |\n",
            "|    time_elapsed     | 154      |\n",
            "|    total_timesteps  | 49238    |\n",
            "| train/              |          |\n",
            "|    learning_rate    | 0.004    |\n",
            "|    loss             | 0.112    |\n",
            "|    n_updates        | 37784    |\n",
            "----------------------------------\n"
          ]
        },
        {
          "data": {
            "text/plain": [
              "<stable_baselines3.dqn.dqn.DQN at 0x7f38f6c4c250>"
            ]
          },
          "execution_count": 15,
          "metadata": {},
          "output_type": "execute_result"
        }
      ],
      "source": [
        "dqn_model.learn(int(1e5), log_interval=10)"
      ]
    },
    {
      "cell_type": "markdown",
      "metadata": {
        "id": "tI8xh463Zi7M"
      },
      "source": [
        "Evaluate after training, the mean episodic reward should have improved."
      ]
    },
    {
      "cell_type": "code",
      "execution_count": 16,
      "metadata": {
        "colab": {
          "base_uri": "https://localhost:8080/"
        },
        "id": "z952YogYZ8yD",
        "outputId": "5b8f02b6-45cc-4bf0-a47a-54ec0dfce3c2"
      },
      "outputs": [
        {
          "name": "stdout",
          "output_type": "stream",
          "text": [
            "mean_reward:-166.95 +/- 36.59\n"
          ]
        }
      ],
      "source": [
        "mean_reward, std_reward = evaluate_policy(dqn_model, dqn_model.get_env(), deterministic=True, n_eval_episodes=20)\n",
        "\n",
        "print(f\"mean_reward:{mean_reward:.2f} +/- {std_reward:.2f}\")"
      ]
    },
    {
      "cell_type": "markdown",
      "metadata": {
        "id": "xVm9QPNVwKXN"
      },
      "source": [
        "### Prepare video recording"
      ]
    },
    {
      "cell_type": "code",
      "execution_count": 17,
      "metadata": {
        "id": "MPyfQxD5z26J"
      },
      "outputs": [
        {
          "name": "stderr",
          "output_type": "stream",
          "text": [
            "(EE) \n",
            "Fatal server error:\n",
            "(EE) Server is already active for display 1\n",
            "\tIf this server is no longer running, remove /tmp/.X1-lock\n",
            "\tand start again.\n",
            "(EE) \n"
          ]
        }
      ],
      "source": [
        "# Set up fake display; otherwise rendering will fail\n",
        "import os\n",
        "os.system(\"Xvfb :1 -screen 0 1024x768x24 &\")\n",
        "os.environ['DISPLAY'] = ':1'"
      ]
    },
    {
      "cell_type": "code",
      "execution_count": 18,
      "metadata": {
        "id": "SLzXxO8VMD6N"
      },
      "outputs": [],
      "source": [
        "import base64\n",
        "from pathlib import Path\n",
        "\n",
        "from IPython import display as ipythondisplay\n",
        "\n",
        "def show_videos(video_path='', prefix=''):\n",
        "  \"\"\"\n",
        "  Taken from https://github.com/eleurent/highway-env\n",
        "\n",
        "  :param video_path: (str) Path to the folder containing videos\n",
        "  :param prefix: (str) Filter the video, showing only the only starting with this prefix\n",
        "  \"\"\"\n",
        "  html = []\n",
        "  for mp4 in Path(video_path).glob(\"{}*.mp4\".format(prefix)):\n",
        "      video_b64 = base64.b64encode(mp4.read_bytes())\n",
        "      html.append('''<video alt=\"{}\" autoplay \n",
        "                    loop controls style=\"height: 400px;\">\n",
        "                    <source src=\"data:video/mp4;base64,{}\" type=\"video/mp4\" />\n",
        "                </video>'''.format(mp4, video_b64.decode('ascii')))\n",
        "  ipythondisplay.display(ipythondisplay.HTML(data=\"<br>\".join(html)))"
      ]
    },
    {
      "cell_type": "markdown",
      "metadata": {
        "id": "LTRNUfulOGaF"
      },
      "source": [
        "We will record a video using the [VecVideoRecorder](https://stable-baselines.readthedocs.io/en/master/guide/vec_envs.html#vecvideorecorder) wrapper, you will learn about those wrapper in the next notebook."
      ]
    },
    {
      "cell_type": "code",
      "execution_count": 19,
      "metadata": {
        "id": "Trag9dQpOIhx"
      },
      "outputs": [],
      "source": [
        "from stable_baselines3.common.vec_env import VecVideoRecorder, DummyVecEnv\n",
        "\n",
        "def record_video(env_id, model, video_length=500, prefix='', video_folder='videos/'):\n",
        "  \"\"\"\n",
        "  :param env_id: (str)\n",
        "  :param model: (RL model)\n",
        "  :param video_length: (int)\n",
        "  :param prefix: (str)\n",
        "  :param video_folder: (str)\n",
        "  \"\"\"\n",
        "  eval_env = DummyVecEnv([lambda: gym.make(env_id)])\n",
        "  # Start the video at step=0 and record 500 steps\n",
        "  eval_env = VecVideoRecorder(eval_env, video_folder=video_folder,\n",
        "                              record_video_trigger=lambda step: step == 0, video_length=video_length,\n",
        "                              name_prefix=prefix)\n",
        "\n",
        "  obs = eval_env.reset()\n",
        "  for _ in range(video_length):\n",
        "    action, _ = model.predict(obs, deterministic=False)\n",
        "    obs, _, _, _ = eval_env.step(action)\n",
        "\n",
        "  # Close the video recorder\n",
        "  eval_env.close()"
      ]
    },
    {
      "cell_type": "markdown",
      "metadata": {
        "id": "qFiOqKE3aDzI"
      },
      "source": [
        "## Visualize trained agent"
      ]
    },
    {
      "cell_type": "code",
      "execution_count": 20,
      "metadata": {
        "colab": {
          "base_uri": "https://localhost:8080/"
        },
        "id": "MvVGX13xaGbf",
        "outputId": "61b5d454-7c8f-441e-c3cd-57158043b5d6"
      },
      "outputs": [
        {
          "name": "stdout",
          "output_type": "stream",
          "text": [
            "Saving video to /workspace/rl-colab-notebooks/videos/dqn-mountaincar-step-0-to-step-500.mp4\n"
          ]
        }
      ],
      "source": [
        "record_video('MountainCar-v0', dqn_model, video_length=500, prefix='dqn-mountaincar')"
      ]
    },
    {
      "cell_type": "code",
      "execution_count": 21,
      "metadata": {
        "id": "tHaYvk8uaK70"
      },
      "outputs": [
        {
          "data": {
            "text/html": [
              "<video alt=\"videos/dqn-mountaincar-step-0-to-step-500.mp4\" autoplay \n",
              "                    loop controls style=\"height: 400px;\">\n",
              "                    <source src=\"data:video/mp4;base64,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\" type=\"video/mp4\" />\n",
              "                </video>"
            ],
            "text/plain": [
              "<IPython.core.display.HTML object>"
            ]
          },
          "metadata": {},
          "output_type": "display_data"
        }
      ],
      "source": [
        "show_videos('videos', prefix='dqn')"
      ]
    },
    {
      "cell_type": "markdown",
      "metadata": {
        "id": "TY00dtf4aRLQ"
      },
      "source": [
        "## Visualize Q-values"
      ]
    },
    {
      "cell_type": "markdown",
      "metadata": {
        "id": "cP3YH2x7rieM"
      },
      "source": [
        "### Exercise (5 minutes): Retrieve q-values\n",
        "\n",
        "The function will be used to retrieve the learned q-values for a given state (`observation` in the code).\n",
        "\n",
        "The q-network from SB3 DQN can be accessed via `model.q_net` and is a PyTorch module (you can therefore call `.forward()` on it).\n",
        "\n",
        "You need to convert the observation to a PyTorch tensor and then convert the resulting q-values to numpy array.\n",
        "\n",
        "Note: It is recommended to use `with th.no_grad():` context to save computation and memory"
      ]
    },
    {
      "cell_type": "code",
      "execution_count": null,
      "metadata": {
        "id": "QiCp8OpCbKZW"
      },
      "outputs": [],
      "source": [
        "def get_q_values(model: DQN, obs: np.ndarray) -> np.ndarray:\n",
        "    \"\"\"\n",
        "    Retrieve Q-values for a given observation.\n",
        "\n",
        "    :param model: a DQN model\n",
        "    :param obs: a single observation\n",
        "    :return: the associated q-values for the given observation\n",
        "    \"\"\"\n",
        "    assert model.get_env().observation_space.contains(obs), f\"Invalid observation of shape {obs.shape}: {obs}\"\n",
        "    ### YOUR CODE HERE\n",
        "    # Retrieve q-values for the given observation and convert them to numpy\n",
        "    \n",
        "    ### END OF YOUR CODE\n",
        "    assert isinstance(q_values, np.ndarray), \"The returned q_values is not a numpy array\"\n",
        "    assert q_values.shape == (3,), f\"Wrong shape: (3,) was expected but got {q_values.shape}\"\n",
        "\n",
        "    return q_values"
      ]
    },
    {
      "cell_type": "markdown",
      "metadata": {
        "id": "jcudYVkdbB0e"
      },
      "source": [
        "### Q-values for the initial state\n",
        "\n",
        "Let's reset the environment to start a new episode:"
      ]
    },
    {
      "cell_type": "code",
      "execution_count": null,
      "metadata": {
        "id": "izFixcWgaVe3"
      },
      "outputs": [],
      "source": [
        "obs = env.reset()"
      ]
    },
    {
      "cell_type": "markdown",
      "metadata": {
        "id": "6ouWnFaut0KB"
      },
      "source": [
        "we plot the rendered environment to visualize it"
      ]
    },
    {
      "cell_type": "code",
      "execution_count": null,
      "metadata": {
        "colab": {
          "base_uri": "https://localhost:8080/",
          "height": 266
        },
        "id": "NF1L_1Gfal-g",
        "outputId": "268ac65c-aad7-4626-f7a2-9556d079b60e"
      },
      "outputs": [
        {
          "data": {
            "text/plain": [
              "<matplotlib.image.AxesImage at 0x7f7175798e90>"
            ]
          },
          "execution_count": 17,
          "metadata": {},
          "output_type": "execute_result"
        },
        {
          "data": {
            "image/png": "[encoded data removed]",
            "text/plain": [
              "<Figure size 432x288 with 1 Axes>"
            ]
          },
          "metadata": {
            "needs_background": "light"
          },
          "output_type": "display_data"
        }
      ],
      "source": [
        "plt.axis('off')\n",
        "plt.imshow(env.render(mode=\"rgb_array\"))"
      ]
    },
    {
      "cell_type": "markdown",
      "metadata": {
        "id": "rtKIGyJ-bEQO"
      },
      "source": [
        "### Exercise (5 minutes): predict taken action according to q-values\n",
        "\n",
        "Using the `get_q_values()` function, retrieve the q-values for the initial observation, print them for each action (\"left\", \"nothing\", \"right\") and print the action that the greedy (deterministic) policy would follow (i.e., the action with the highest q-value for that state)."
      ]
    },
    {
      "cell_type": "code",
      "execution_count": null,
      "metadata": {
        "id": "BPegCYbSuY-f"
      },
      "outputs": [],
      "source": [
        "action_str = [\"Left\", \"Nothing\", \"Right\"]  # action=0 -> go left, action=1 -> do nothing, action=2 -> go right"
      ]
    },
    {
      "cell_type": "code",
      "execution_count": null,
      "metadata": {
        "id": "bv90MTHvaqbV"
      },
      "outputs": [],
      "source": [
        "### YOUR CODE HERE\n",
        "# Retrieve q-values for the initial state\n",
        "# You should use `get_q_values()`\n",
        "\n",
        "### END OF YOUR CODE\n",
        "\n",
        "print(f\"Q-value of the initial state left={q_value_left:.2f} nothing={q_value_nothing:.2f} right={q_value_right:.2f}\")\n",
        "\n",
        "### YOUR CODE HERE\n",
        "# Compute the action taken in the initilal state according to q-values \n",
        "# when following a greedy strategy\n",
        "\n",
        "\n",
        "## END of your code here\n",
        "\n",
        "print(f\"Action taken by the greedy policy in the initial state: {action_str[action]}\")"
      ]
    },
    {
      "cell_type": "markdown",
      "metadata": {
        "id": "ov0UwoBzcaDv"
      },
      "source": [
        "The q-value of the initial state corresponds to how much (discounted) reward the agent expects to get in this episode.\n",
        "\n",
        "We will compare the estimated q-value to the discounted return of the episode."
      ]
    },
    {
      "cell_type": "code",
      "execution_count": null,
      "metadata": {
        "id": "dhhF-GJccVne"
      },
      "outputs": [],
      "source": [
        "initial_q_value = q_values.max()"
      ]
    },
    {
      "cell_type": "markdown",
      "metadata": {
        "id": "JueeSE1xcQpK"
      },
      "source": [
        "## Step until the end of the episode\n",
        "\n"
      ]
    },
    {
      "cell_type": "code",
      "execution_count": null,
      "metadata": {
        "id": "V_OYobAab8SF"
      },
      "outputs": [],
      "source": [
        "episode_rewards = []\n",
        "done = False\n",
        "i = 0\n",
        "\n",
        "while not done:\n",
        "    i += 1\n",
        "\n",
        "    # Display current state\n",
        "    plt.imshow(env.render(mode=\"rgb_array\"))\n",
        "    plt.show()\n",
        "\n",
        "    # Retrieve q-value\n",
        "    q_values = get_q_values(dqn_model, obs)\n",
        "\n",
        "    # Take greedy-action\n",
        "    action, _ = dqn_model.predict(obs, deterministic=True)\n",
        "\n",
        "    print(f\"Q-value of the current state left={q_values[0]:.2f} nothing={q_values[1]:.2f} right={q_values[2]:.2f}\")\n",
        "    print(f\"Action: {action_str[action]}\")\n",
        "\n",
        "    obs, reward, done, info = env.step(action)\n",
        "\n",
        "    episode_rewards.append(reward)\n"
      ]
    },
    {
      "cell_type": "markdown",
      "metadata": {
        "id": "YBEomET1wkjN"
      },
      "source": [
        "### Exercise (3 minutes): compare estimated initial q-value with actual discounted return\n",
        "\n",
        "Compute the discounted return (sum of discounted reward) of the episode and compare it to the initial estimated q-value.\n",
        "\n",
        "Note: You will need to use the discount factor `dqn_model.gamma`"
      ]
    },
    {
      "cell_type": "code",
      "execution_count": null,
      "metadata": {
        "id": "Om4NNW2VdnM9"
      },
      "outputs": [],
      "source": [
        "sum_discounted_rewards = 0\n",
        "\n",
        "### YOUR CODE HERE\n",
        "# Compute the sum of discounted reward for the last episode\n",
        "# using `episode_rewards` list and `dqn_model.gamma` discount factor\n",
        "\n",
        "### END OF YOUR CODE\n",
        "\n",
        "print(f\"Sum discounted rewards: {sum_discounted_rewards:.2f}, initial q-value {initial_q_value:.2f}\")"
      ]
    },
    {
      "cell_type": "markdown",
      "metadata": {
        "id": "ZloxyPKPg9HX"
      },
      "source": [
        "## Exercise (30 minutes): Double DQN\n",
        "\n",
        "In DQN, the same network is responsible for selecting and estimating the best next action (in the TD-target) and that may lead to over-estimation (the action which q-value is over-estimated will be chosen more often and this slow down training).\n",
        "\n",
        "To reduce over-estimation, double q-learning (and then double DQN) was proposed. It decouples the action selection from the value estimation.\n",
        "\n",
        "Concretely, in DQN, the target q-value is defined as:\n",
        "\n",
        "$$Y^{DQN}_{t} = r_{t+1} + \\gamma{Q}\\left(s_{t+1}, \\arg\\max_{a}Q\\left(s_{t+1}, a; \\mathbb{\\theta}_{target}\\right); \\mathbb{\\theta}_{target}\\right)$$\n",
        "\n",
        "where the target network `q_net_target` with parameters $\\mathbb{\\theta}_{target}$ is used for both action selection and estimation, and can therefore be rewritten:\n",
        "\n",
        "$$Y^{DQN}_{t} = r_{t+1} + \\gamma \\max_{a}{Q}\\left(s_{t+1}, a; \\mathbb{\\theta}_{target}\\right)$$\n",
        "\n",
        "Double DQN uses the online network `q_net` with parameters $\\mathbb{\\theta}_{online}$ to select the action and the target network `q_net_target` to estimate the associated q-values:\n",
        "\n",
        "$$Y^{DoubleDQN}_{t} = r_{t+1} + \\gamma{Q}\\left(s_{t+1}, \\arg\\max_{a}Q\\left(s_{t+1}, a; \\mathbb{\\theta}_{online}\\right); \\mathbb{\\theta}_{target}\\right)$$\n",
        "\n",
        "\n",
        "The goal in this exercise is for you to write the update method for `DoubleDQN`.\n",
        "\n",
        "You will need to:\n",
        "\n",
        "1. Sample replay buffer data using `self.replay_buffer.sample(batch_size)`\n",
        "\n",
        "2. Compute the Double DQN target q-value using the next observations `replay_data.next_observation`, the online network `self.q_net`, the target network `self.q_net_target`, the rewards `replay_data.rewards` and the termination signals `replay_data.dones`. Be careful with the shape of each object ;)\n",
        "\n",
        "3. Compute the current q-value estimates using the online network `self.q_net`, the current observations `replay_data.observations` and the buffer actions `replay_data.actions`\n",
        "\n",
        "4. Compute the loss to train the q-network using L2 or Huber loss (`F.smooth_l1_loss`)\n",
        "\n",
        "\n",
        "Link: https://paperswithcode.com/method/double-q-learning\n",
        "\n",
        "Paper: https://arxiv.org/abs/1509.06461\n",
        "\n"
      ]
    },
    {
      "cell_type": "code",
      "execution_count": null,
      "metadata": {
        "id": "4227ILqjg8b4"
      },
      "outputs": [],
      "source": [
        "from torch.nn import functional as F\n",
        "\n",
        "class DoubleDQN(DQN):\n",
        "    def train(self, gradient_steps: int, batch_size: int = 100) -> None:\n",
        "        # Switch to train mode (this affects batch norm / dropout)\n",
        "        self.policy.set_training_mode(True)\n",
        "        # Update learning rate according to schedule\n",
        "        self._update_learning_rate(self.policy.optimizer)\n",
        "\n",
        "        losses = []\n",
        "        for _ in range(gradient_steps):\n",
        "            ### YOUR CODE HERE\n",
        "            # Sample replay buffer\n",
        "            replay_data = ...\n",
        "\n",
        "            # Do not backpropagate gradient to the target network\n",
        "            with th.no_grad():\n",
        "                # Compute the next Q-values using the target network\n",
        "                next_q_values = ...\n",
        "                # Decouple action selection from value estimation\n",
        "                # Compute q-values for the next observation using the online q net\n",
        "                next_q_values_online = ...\n",
        "                # Select action with online network\n",
        "                next_actions_online = ...\n",
        "                # Estimate the q-values for the selected actions using target q network\n",
        "                next_q_values = ...\n",
        "               \n",
        "                # 1-step TD target\n",
        "                target_q_values = ...\n",
        "\n",
        "            # Get current Q-values estimates\n",
        "            current_q_values = ...\n",
        "\n",
        "            # Retrieve the q-values for the actions from the replay buffer\n",
        "            current_q_values = th.gather(current_q_values, dim=1, index=replay_data.actions.long())\n",
        "\n",
        "            # Check the shape\n",
        "            assert current_q_values.shape == target_q_values.shape\n",
        "\n",
        "            # Compute loss (L2 or Huber loss)\n",
        "            loss = ...\n",
        "\n",
        "            ### END OF YOUR CODE\n",
        "            \n",
        "            losses.append(loss.item())\n",
        "\n",
        "            # Optimize the q-network\n",
        "            self.policy.optimizer.zero_grad()\n",
        "            loss.backward()\n",
        "            # Clip gradient norm\n",
        "            th.nn.utils.clip_grad_norm_(self.policy.parameters(), self.max_grad_norm)\n",
        "            self.policy.optimizer.step()\n",
        "\n",
        "        # Increase update counter\n",
        "        self._n_updates += gradient_steps\n",
        "\n",
        "        self.logger.record(\"train/n_updates\", self._n_updates, exclude=\"tensorboard\")\n",
        "        self.logger.record(\"train/loss\", np.mean(losses))"
      ]
    },
    {
      "cell_type": "markdown",
      "metadata": {
        "id": "dG3fpWWOg_AS"
      },
      "source": [
        "## Monitoring Evolution of the Estimated q-value\n",
        "\n",
        "\n",
        "Here we create a SB3 callback to over-estimate initial q-values and then monitor their evolution over time."
      ]
    },
    {
      "cell_type": "code",
      "execution_count": null,
      "metadata": {
        "id": "BLbQ9RhUpMOl"
      },
      "outputs": [],
      "source": [
        "from torch.nn import functional as F\n",
        "\n",
        "from stable_baselines3.common.callbacks import BaseCallback\n",
        "\n",
        "\n",
        "class MonitorQValueCallback(BaseCallback):\n",
        "    \"\"\"\n",
        "    Callback to monitor the evolution of the q-value\n",
        "    for the initial state.\n",
        "    It allows to artificially over-estimate a q-value for initial states.\n",
        "\n",
        "    \"\"\"\n",
        "    def __init__(self, sample_interval: int = 2500):\n",
        "        super().__init__()\n",
        "        self.timesteps = []\n",
        "        self.max_q_values = []\n",
        "        self.sample_interval = sample_interval\n",
        "        n_samples = 512\n",
        "        env = gym.make(\"MountainCar-v0\")\n",
        "        # Sample initial states that will be used to monitor the estimated q-value\n",
        "        self.start_obs = np.array([env.reset() for _ in range(n_samples)])\n",
        "    \n",
        "    def _on_training_start(self) -> None:\n",
        "        # Create overestimation\n",
        "        obs = th.tensor(self.start_obs, device=self.model.device).float()\n",
        "        # Over-estimate going left q-value for the initial states\n",
        "        target_q_values = th.ones((len(obs), 1), device=self.model.device).float() * 100\n",
        "\n",
        "        for _ in range(100):\n",
        "            # Get current Q-values estimates\n",
        "            current_q_values = self.model.q_net(obs)\n",
        "\n",
        "            # Over-estimate going left\n",
        "            current_q_values = th.gather(current_q_values, dim=1, index=th.zeros((len(obs), 1), device=self.model.device).long())\n",
        "\n",
        "            loss = F.mse_loss(current_q_values, target_q_values)\n",
        "\n",
        "            # Optimize the policy\n",
        "            self.model.policy.optimizer.zero_grad()\n",
        "            loss.backward()\n",
        "            self.model.policy.optimizer.step()\n",
        "\n",
        "    def _on_step(self) -> bool:\n",
        "        # Sample q-values\n",
        "        if self.n_calls % self.sample_interval == 0:\n",
        "            # Monitor estimated q-values using current model\n",
        "            obs = th.tensor(self.start_obs, device=self.model.device).float()\n",
        "            with th.no_grad():\n",
        "                q_values = self.model.q_net(obs).cpu().numpy()\n",
        "\n",
        "            self.logger.record(\"train/max_q_value\", float(q_values.max()))\n",
        "            self.timesteps.append(self.num_timesteps)\n",
        "            self.max_q_values.append(q_values.max())\n",
        "        return True"
      ]
    },
    {
      "cell_type": "markdown",
      "metadata": {
        "id": "36dtW1c4xQUG"
      },
      "source": [
        "## Evolution of the q-value with initial over-estimation"
      ]
    },
    {
      "cell_type": "markdown",
      "metadata": {
        "id": "j-XTmT6SxdOa"
      },
      "source": [
        "### DQN"
      ]
    },
    {
      "cell_type": "code",
      "execution_count": null,
      "metadata": {
        "colab": {
          "base_uri": "https://localhost:8080/"
        },
        "id": "ZIo1EDx2xcwZ",
        "outputId": "aac8b11a-e4d6-4278-945e-f48070289f1d"
      },
      "outputs": [
        {
          "name": "stdout",
          "output_type": "stream",
          "text": [
            "Using cpu device\n",
            "Creating environment from the given name 'MountainCar-v0'\n",
            "Wrapping the env with a `Monitor` wrapper\n",
            "Wrapping the env in a DummyVecEnv.\n"
          ]
        }
      ],
      "source": [
        "dqn_model = DQN(\"MlpPolicy\",\n",
        "            \"MountainCar-v0\",\n",
        "            verbose=1,\n",
        "            train_freq=16,\n",
        "            gradient_steps=8,\n",
        "            gamma=0.99,\n",
        "            exploration_fraction=0.2,\n",
        "            exploration_final_eps=0.07,\n",
        "            target_update_interval=5000,\n",
        "            learning_starts=1000,\n",
        "            buffer_size=25000,\n",
        "            batch_size=128,\n",
        "            learning_rate=4e-3,\n",
        "            policy_kwargs=dict(net_arch=[256, 256]),\n",
        "            tensorboard_log=tensorboard_log,\n",
        "            seed=102)"
      ]
    },
    {
      "cell_type": "markdown",
      "metadata": {
        "id": "Vd62HoWsxfBJ"
      },
      "source": [
        "Define the callback"
      ]
    },
    {
      "cell_type": "code",
      "execution_count": null,
      "metadata": {
        "id": "wcULdR48xhH5"
      },
      "outputs": [],
      "source": [
        "monitor_dqn_value_cb = MonitorQValueCallback()"
      ]
    },
    {
      "cell_type": "code",
      "execution_count": null,
      "metadata": {
        "id": "5Z_cFIapxhR7"
      },
      "outputs": [],
      "source": [
        "dqn_model.learn(total_timesteps=int(4e4), callback=monitor_dqn_value_cb)"
      ]
    },
    {
      "cell_type": "markdown",
      "metadata": {
        "id": "NxAGOezBx3GS"
      },
      "source": [
        "### Double DQN"
      ]
    },
    {
      "cell_type": "code",
      "execution_count": null,
      "metadata": {
        "id": "xYNcgKsSegj0"
      },
      "outputs": [],
      "source": [
        "double_q = DoubleDQN(\"MlpPolicy\",\n",
        "            \"MountainCar-v0\",\n",
        "            verbose=1,\n",
        "            train_freq=16,\n",
        "            gradient_steps=8,\n",
        "            gamma=0.99,\n",
        "            exploration_fraction=0.2,\n",
        "            exploration_final_eps=0.07,\n",
        "            target_update_interval=5000,\n",
        "            learning_starts=1000,\n",
        "            buffer_size=25000,\n",
        "            batch_size=128,\n",
        "            learning_rate=4e-3,\n",
        "            policy_kwargs=dict(net_arch=[256, 256]),\n",
        "            tensorboard_log=tensorboard_log,\n",
        "            seed=102)"
      ]
    },
    {
      "cell_type": "code",
      "execution_count": null,
      "metadata": {
        "id": "JWhQTCXQyBJZ"
      },
      "outputs": [],
      "source": [
        "monitor_double_q_value_cb = MonitorQValueCallback()"
      ]
    },
    {
      "cell_type": "code",
      "execution_count": null,
      "metadata": {
        "id": "mvveywQUkEpW"
      },
      "outputs": [],
      "source": [
        "double_q.learn(int(4e4), log_interval=10, callback=monitor_double_q_value_cb)"
      ]
    },
    {
      "cell_type": "markdown",
      "metadata": {
        "id": "rPqcCnbnyIR5"
      },
      "source": [
        "### Evolution of the max q-value for start states over time"
      ]
    },
    {
      "cell_type": "code",
      "execution_count": null,
      "metadata": {
        "id": "jNeKzUoaa6_K"
      },
      "outputs": [],
      "source": [
        "plt.figure(figsize=(6, 3), dpi=200)\n",
        "plt.title(\"Evolution of max q-value for start states over time\")\n",
        "plt.plot(monitor_dqn_value_cb.timesteps, monitor_dqn_value_cb.max_q_values, label=\"DQN\")\n",
        "plt.plot(monitor_double_q_value_cb.timesteps, monitor_double_q_value_cb.max_q_values, label=\"Double DQN\")\n",
        "plt.legend()"
      ]
    },
    {
      "cell_type": "code",
      "execution_count": null,
      "metadata": {
        "id": "WqRixViAv6gT"
      },
      "outputs": [],
      "source": []
    }
  ],
  "metadata": {
    "colab": {
      "collapsed_sections": [
        "xVm9QPNVwKXN"
      ],
      "name": "dqn_sb3.ipynb",
      "provenance": []
    },
    "kernelspec": {
      "display_name": "Python 3.8.13 64-bit ('3.8.13')",
      "language": "python",
      "name": "python3"
    },
    "language_info": {
      "codemirror_mode": {
        "name": "ipython",
        "version": 3
      },
      "file_extension": ".py",
      "mimetype": "text/x-python",
      "name": "python",
      "nbconvert_exporter": "python",
      "pygments_lexer": "ipython3",
      "version": "3.8.13"
    },
    "vscode": {
      "interpreter": {
        "hash": "110cc1dee26208153f2972f08a2ad52b6a56238dc66d48e87fb757ef2996db56"
      }
    }
  },
  "nbformat": 4,
  "nbformat_minor": 0
}
